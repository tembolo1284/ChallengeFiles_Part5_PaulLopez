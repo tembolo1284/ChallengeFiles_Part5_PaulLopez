{
 "cells": [
  {
   "cell_type": "markdown",
   "metadata": {},
   "source": [
    "# Financial Planning with APIs and Simulations\n",
    "\n",
    "In this Challenge, you’ll create two financial analysis tools by using a single Jupyter notebook:\n",
    "\n",
    "Part 1: A financial planner for emergencies. The members will be able to use this tool to visualize their current savings. The members can then determine if they have enough reserves for an emergency fund.\n",
    "\n",
    "Part 2: A financial planner for retirement. This tool will forecast the performance of their retirement portfolio in 30 years. To do this, the tool will make an Alpaca API call via the Alpaca SDK to get historical price data for use in Monte Carlo simulations.\n",
    "\n",
    "You’ll use the information from the Monte Carlo simulation to answer questions about the portfolio in your Jupyter notebook.\n",
    "\n"
   ]
  },
  {
   "cell_type": "code",
   "execution_count": 1,
   "metadata": {},
   "outputs": [],
   "source": [
    "# Import the required libraries and dependencies\n",
    "import os\n",
    "import requests\n",
    "import json\n",
    "import pandas as pd\n",
    "from dotenv import load_dotenv\n",
    "import alpaca_trade_api as tradeapi\n",
    "from MCForecastTools import MCSimulation\n",
    "\n",
    "%matplotlib inline"
   ]
  },
  {
   "cell_type": "code",
   "execution_count": 2,
   "metadata": {},
   "outputs": [
    {
     "data": {
      "text/plain": [
       "True"
      ]
     },
     "execution_count": 2,
     "metadata": {},
     "output_type": "execute_result"
    }
   ],
   "source": [
    "# Load the environment variables from the .env file\n",
    "#by calling the load_dotenv function\n",
    "load_dotenv()"
   ]
  },
  {
   "cell_type": "markdown",
   "metadata": {},
   "source": [
    "## Part 1: Create a Financial Planner for Emergencies"
   ]
  },
  {
   "cell_type": "markdown",
   "metadata": {},
   "source": [
    "### Evaluate the Cryptocurrency Wallet by Using the Requests Library\n",
    "\n",
    "In this section, you’ll determine the current value of a member’s cryptocurrency wallet. You’ll collect the current prices for the Bitcoin and Ethereum cryptocurrencies by using the Python Requests library. For the prototype, you’ll assume that the member holds the 1.2 Bitcoins (BTC) and 5.3 Ethereum coins (ETH). To do all this, complete the following steps:\n",
    "\n",
    "1. Create a variable named `monthly_income`, and set its value to `12000`.\n",
    "\n",
    "2. Use the Requests library to get the current price (in US dollars) of Bitcoin (BTC) and Ethereum (ETH) by using the API endpoints that the starter code supplies.\n",
    "\n",
    "3. Navigate the JSON response object to access the current price of each coin, and store each in a variable.\n",
    "\n",
    "    > **Hint** Note the specific identifier for each cryptocurrency in the API JSON response. The Bitcoin identifier is `1`, and the Ethereum identifier is `1027`.\n",
    "\n",
    "4. Calculate the value, in US dollars, of the current amount of each cryptocurrency and of the entire cryptocurrency wallet.\n",
    "\n"
   ]
  },
  {
   "cell_type": "code",
   "execution_count": 3,
   "metadata": {},
   "outputs": [],
   "source": [
    "# The current number of coins for each cryptocurrency asset held in the portfolio.\n",
    "btc_coins = 1.2\n",
    "eth_coins = 5.3"
   ]
  },
  {
   "cell_type": "markdown",
   "metadata": {},
   "source": [
    "#### Step 1: Create a variable named `monthly_income`, and set its value to `12000`."
   ]
  },
  {
   "cell_type": "code",
   "execution_count": 4,
   "metadata": {},
   "outputs": [
    {
     "data": {
      "text/plain": [
       "12000"
      ]
     },
     "execution_count": 4,
     "metadata": {},
     "output_type": "execute_result"
    }
   ],
   "source": [
    "# The monthly amount for the member's household income\n",
    "monthly_income = 12000\n",
    "monthly_income"
   ]
  },
  {
   "cell_type": "markdown",
   "metadata": {},
   "source": [
    "#### Review the endpoint URLs for the API calls to Free Crypto API in order to get the current pricing information for both BTC and ETH."
   ]
  },
  {
   "cell_type": "code",
   "execution_count": 5,
   "metadata": {},
   "outputs": [],
   "source": [
    "# The Free Crypto API Call endpoint URLs for the held cryptocurrency assets\n",
    "btc_url = \"https://api.alternative.me/v2/ticker/Bitcoin/?convert=USD\"\n",
    "eth_url = \"https://api.alternative.me/v2/ticker/Ethereum/?convert=USD\""
   ]
  },
  {
   "cell_type": "markdown",
   "metadata": {},
   "source": [
    "#### Step 2. Use the Requests library to get the current price (in US dollars) of Bitcoin (BTC) and Ethereum (ETH) by using the API endpoints that the starter code supplied."
   ]
  },
  {
   "cell_type": "code",
   "execution_count": 6,
   "metadata": {},
   "outputs": [
    {
     "name": "stdout",
     "output_type": "stream",
     "text": [
      "{\n",
      "    \"data\": {\n",
      "        \"1\": {\n",
      "            \"circulating_supply\": 18840531,\n",
      "            \"id\": 1,\n",
      "            \"last_updated\": 1633927797,\n",
      "            \"max_supply\": 21000000,\n",
      "            \"name\": \"Bitcoin\",\n",
      "            \"quotes\": {\n",
      "                \"USD\": {\n",
      "                    \"market_cap\": 1066887219914,\n",
      "                    \"percent_change_1h\": -0.283575326694011,\n",
      "                    \"percent_change_24h\": 0.844025609460805,\n",
      "                    \"percent_change_7d\": 17.2820064113257,\n",
      "                    \"percentage_change_1h\": -0.283575326694011,\n",
      "                    \"percentage_change_24h\": 0.844025609460805,\n",
      "                    \"percentage_change_7d\": 17.2820064113257,\n",
      "                    \"price\": 56627.0,\n",
      "                    \"volume_24h\": 40822781486\n",
      "                }\n",
      "            },\n",
      "            \"rank\": 1,\n",
      "            \"symbol\": \"BTC\",\n",
      "            \"total_supply\": 18840531,\n",
      "            \"website_slug\": \"bitcoin\"\n",
      "        }\n",
      "    },\n",
      "    \"metadata\": {\n",
      "        \"error\": null,\n",
      "        \"num_cryptocurrencies\": 3105,\n",
      "        \"timestamp\": 1633927797\n",
      "    }\n",
      "}\n"
     ]
    }
   ],
   "source": [
    "# Using the Python requests library, make an API call to access the current price of BTC\n",
    "btc_response = requests.get(btc_url).json()\n",
    "#btc_response\n",
    "\n",
    "# Use the json.dumps function to review the response data from the API call\n",
    "# Use the indent and sort_keys parameters to make the response object readable\n",
    "print(json.dumps(btc_response, indent=4, sort_keys=True))\n"
   ]
  },
  {
   "cell_type": "code",
   "execution_count": 7,
   "metadata": {},
   "outputs": [
    {
     "name": "stdout",
     "output_type": "stream",
     "text": [
      "{\n",
      "    \"data\": {\n",
      "        \"1027\": {\n",
      "            \"circulating_supply\": 117878734,\n",
      "            \"id\": 1027,\n",
      "            \"last_updated\": 1633927770,\n",
      "            \"max_supply\": 0,\n",
      "            \"name\": \"Ethereum\",\n",
      "            \"quotes\": {\n",
      "                \"USD\": {\n",
      "                    \"market_cap\": 416340452589,\n",
      "                    \"percent_change_1h\": -0.113531457043668,\n",
      "                    \"percent_change_24h\": -0.726234433313426,\n",
      "                    \"percent_change_7d\": 2.86613936645316,\n",
      "                    \"percentage_change_1h\": -0.113531457043668,\n",
      "                    \"percentage_change_24h\": -0.726234433313426,\n",
      "                    \"percentage_change_7d\": 2.86613936645316,\n",
      "                    \"price\": 3524.59,\n",
      "                    \"volume_24h\": 19078297987\n",
      "                }\n",
      "            },\n",
      "            \"rank\": 2,\n",
      "            \"symbol\": \"ETH\",\n",
      "            \"total_supply\": 117878734,\n",
      "            \"website_slug\": \"ethereum\"\n",
      "        }\n",
      "    },\n",
      "    \"metadata\": {\n",
      "        \"error\": null,\n",
      "        \"num_cryptocurrencies\": 3105,\n",
      "        \"timestamp\": 1633927770\n",
      "    }\n",
      "}\n"
     ]
    }
   ],
   "source": [
    "# Using the Python requests library, make an API call to access the current price ETH\n",
    "eth_response = requests.get(eth_url).json()\n",
    "#eth_response\n",
    "\n",
    "# Use the json.dumps function to review the response data from the API call\n",
    "# Use the indent and sort_keys parameters to make the response object readable\n",
    "print(json.dumps(eth_response, indent=4, sort_keys=True))\n"
   ]
  },
  {
   "cell_type": "markdown",
   "metadata": {},
   "source": [
    "#### Step 3: Navigate the JSON response object to access the current price of each coin, and store each in a variable."
   ]
  },
  {
   "cell_type": "code",
   "execution_count": 8,
   "metadata": {},
   "outputs": [
    {
     "name": "stdout",
     "output_type": "stream",
     "text": [
      "The price for Bitcoin is $56627.0\n"
     ]
    }
   ],
   "source": [
    "# Navigate the BTC response object to access the current price of BTC\n",
    "btc_price = btc_response['data']['1']['quotes']['USD']['price']\n",
    "# Print the current price of BTC\n",
    "print(f\"The price for Bitcoin is ${btc_price}\")\n"
   ]
  },
  {
   "cell_type": "code",
   "execution_count": 9,
   "metadata": {},
   "outputs": [
    {
     "name": "stdout",
     "output_type": "stream",
     "text": [
      "The price for Ethereum is $3524.59\n"
     ]
    }
   ],
   "source": [
    "# Navigate the BTC response object to access the current price of ETH\n",
    "eth_price = eth_response['data']['1027']['quotes']['USD']['price']\n",
    "# Print the current price of ETH\n",
    "print(f\"The price for Ethereum is ${eth_price}\")\n"
   ]
  },
  {
   "cell_type": "markdown",
   "metadata": {},
   "source": [
    "### Step 4: Calculate the value, in US dollars, of the current amount of each cryptocurrency and of the entire cryptocurrency wallet."
   ]
  },
  {
   "cell_type": "code",
   "execution_count": 10,
   "metadata": {},
   "outputs": [
    {
     "name": "stdout",
     "output_type": "stream",
     "text": [
      "The current value of your for Bitcoin holding is $67952.40\n"
     ]
    }
   ],
   "source": [
    "# Compute the current value of the BTC holding \n",
    "btc_value = btc_price * btc_coins\n",
    "\n",
    "# Print current value of your holding in BTC\n",
    "print(f\"The current value of your for Bitcoin holding is ${btc_value:.2f}\")\n"
   ]
  },
  {
   "cell_type": "code",
   "execution_count": 11,
   "metadata": {},
   "outputs": [
    {
     "name": "stdout",
     "output_type": "stream",
     "text": [
      "The current value of your for Ethereum holding is $18680.33\n"
     ]
    }
   ],
   "source": [
    "# Compute the current value of the ETH holding \n",
    "eth_value = eth_price * eth_coins\n",
    "\n",
    "# Print current value of your holding in ETH\n",
    "print(f\"The current value of your for Ethereum holding is ${eth_value:.2f}\")\n"
   ]
  },
  {
   "cell_type": "code",
   "execution_count": 12,
   "metadata": {},
   "outputs": [
    {
     "name": "stdout",
     "output_type": "stream",
     "text": [
      "The current value of your combined Bitcoin and Ethereum holding is $86632.73\n"
     ]
    }
   ],
   "source": [
    "# Compute the total value of the cryptocurrency wallet\n",
    "# Add the value of the BTC holding to the value of the ETH holding\n",
    "total_crypto_wallet = btc_value + eth_value\n",
    "\n",
    "# Print current cryptocurrency wallet balance\n",
    "print(f\"The current value of your combined Bitcoin and Ethereum holding is ${total_crypto_wallet:.2f}\")\n"
   ]
  },
  {
   "cell_type": "markdown",
   "metadata": {},
   "source": [
    "### Evaluate the Stock and Bond Holdings by Using the Alpaca SDK\n",
    "\n",
    "In this section, you’ll determine the current value of a member’s stock and bond holdings. You’ll make an API call to Alpaca via the Alpaca SDK to get the current closing prices of the SPDR S&P 500 ETF Trust (ticker: SPY) and of the iShares Core US Aggregate Bond ETF (ticker: AGG). For the prototype, assume that the member holds 110 shares of SPY, which represents the stock portion of their portfolio, and 200 shares of AGG, which represents the bond portion. To do all this, complete the following steps:\n",
    "\n",
    "1. In the `Starter_Code` folder, create an environment file (`.env`) to store the values of your Alpaca API key and Alpaca secret key.\n",
    "\n",
    "2. Set the variables for the Alpaca API and secret keys. Using the Alpaca SDK, create the Alpaca `tradeapi.REST` object. In this object, include the parameters for the Alpaca API key, the secret key, and the version number.\n",
    "\n",
    "3. Set the following parameters for the Alpaca API call:\n",
    "\n",
    "    - `tickers`: Use the tickers for the member’s stock and bond holdings.\n",
    "\n",
    "    - `timeframe`: Use a time frame of one day.\n",
    "\n",
    "    - `start_date` and `end_date`: Use the same date for these parameters, and format them with the date of the previous weekday (or `2020-08-07`). This is because you want the one closing price for the most-recent trading day.\n",
    "\n",
    "4. Get the current closing prices for `SPY` and `AGG` by using the Alpaca `get_barset` function. Format the response as a Pandas DataFrame by including the `df` property at the end of the `get_barset` function.\n",
    "\n",
    "5. Navigating the Alpaca response DataFrame, select the `SPY` and `AGG` closing prices, and store them as variables.\n",
    "\n",
    "6. Calculate the value, in US dollars, of the current amount of shares in each of the stock and bond portions of the portfolio, and print the results.\n"
   ]
  },
  {
   "cell_type": "markdown",
   "metadata": {},
   "source": [
    "#### Review the total number of shares held in both (SPY) and (AGG)."
   ]
  },
  {
   "cell_type": "code",
   "execution_count": 13,
   "metadata": {},
   "outputs": [],
   "source": [
    "# Current amount of shares held in both the stock (SPY) and bond (AGG) portion of the portfolio.\n",
    "spy_shares = 110\n",
    "agg_shares = 200\n"
   ]
  },
  {
   "cell_type": "markdown",
   "metadata": {},
   "source": [
    "#### Step 1: In the `Starter_Code` folder, create an environment file (`.env`) to store the values of your Alpaca API key and Alpaca secret key."
   ]
  },
  {
   "cell_type": "markdown",
   "metadata": {},
   "source": [
    "#### Step 2: Set the variables for the Alpaca API and secret keys. Using the Alpaca SDK, create the Alpaca `tradeapi.REST` object. In this object, include the parameters for the Alpaca API key, the secret key, and the version number."
   ]
  },
  {
   "cell_type": "code",
   "execution_count": 14,
   "metadata": {},
   "outputs": [
    {
     "data": {
      "text/plain": [
       "str"
      ]
     },
     "metadata": {},
     "output_type": "display_data"
    },
    {
     "data": {
      "text/plain": [
       "str"
      ]
     },
     "metadata": {},
     "output_type": "display_data"
    }
   ],
   "source": [
    "# Set the variables for the Alpaca API and secret keys\n",
    "alpaca_api_key = os.getenv(\"ALPACA_API_KEY\")\n",
    "alpaca_secret_key = os.getenv(\"ALPACA_SECRET_KEY\")\n",
    "\n",
    "# Check the values were imported correctly by evaluating the type of each\n",
    "display(type(alpaca_api_key))\n",
    "display(type(alpaca_secret_key))\n",
    "\n",
    "# Create the Alpaca tradeapi.REST object\n",
    "alpaca = tradeapi.REST(alpaca_api_key, alpaca_secret_key, api_version=\"v2\")\n"
   ]
  },
  {
   "cell_type": "markdown",
   "metadata": {},
   "source": [
    "#### Step 3: Set the following parameters for the Alpaca API call:\n",
    "\n",
    "- `tickers`: Use the tickers for the member’s stock and bond holdings.\n",
    "\n",
    "- `timeframe`: Use a time frame of one day.\n",
    "\n",
    "- `start_date` and `end_date`: Use the same date for these parameters, and format them with the date of the previous weekday (or `2020-08-07`). This is because you want the one closing price for the most-recent trading day.\n"
   ]
  },
  {
   "cell_type": "code",
   "execution_count": 15,
   "metadata": {},
   "outputs": [],
   "source": [
    "# Set the tickers for both the bond and stock portion of the portfolio\n",
    "tickers = [\"SPY\", \"AGG\"]\n",
    "\n",
    "# Set timeframe to 1D \n",
    "timeframe = \"1D\"\n",
    "\n",
    "# Format current date as ISO format\n",
    "# Set both the start and end date at the date of your prior weekday \n",
    "# This will give you the closing price of the previous trading day\n",
    "# Alternatively you can use a start and end date of 2020-08-07\n",
    "start_date = pd.Timestamp(\"2021-10-08\", tz=\"America/New_York\").isoformat()\n",
    "end_date = pd.Timestamp(\"2021-10-08\", tz=\"America/New_York\").isoformat()\n",
    "limit_rows = 1000\n"
   ]
  },
  {
   "cell_type": "markdown",
   "metadata": {},
   "source": [
    "#### Step 4: Get the current closing prices for `SPY` and `AGG` by using the Alpaca `get_barset` function. Format the response as a Pandas DataFrame by including the `df` property at the end of the `get_barset` function."
   ]
  },
  {
   "cell_type": "code",
   "execution_count": 16,
   "metadata": {},
   "outputs": [
    {
     "data": {
      "text/html": [
       "<div>\n",
       "<style scoped>\n",
       "    .dataframe tbody tr th:only-of-type {\n",
       "        vertical-align: middle;\n",
       "    }\n",
       "\n",
       "    .dataframe tbody tr th {\n",
       "        vertical-align: top;\n",
       "    }\n",
       "\n",
       "    .dataframe thead tr th {\n",
       "        text-align: left;\n",
       "    }\n",
       "\n",
       "    .dataframe thead tr:last-of-type th {\n",
       "        text-align: right;\n",
       "    }\n",
       "</style>\n",
       "<table border=\"1\" class=\"dataframe\">\n",
       "  <thead>\n",
       "    <tr>\n",
       "      <th></th>\n",
       "      <th colspan=\"5\" halign=\"left\">AGG</th>\n",
       "      <th colspan=\"5\" halign=\"left\">SPY</th>\n",
       "    </tr>\n",
       "    <tr>\n",
       "      <th></th>\n",
       "      <th>open</th>\n",
       "      <th>high</th>\n",
       "      <th>low</th>\n",
       "      <th>close</th>\n",
       "      <th>volume</th>\n",
       "      <th>open</th>\n",
       "      <th>high</th>\n",
       "      <th>low</th>\n",
       "      <th>close</th>\n",
       "      <th>volume</th>\n",
       "    </tr>\n",
       "    <tr>\n",
       "      <th>time</th>\n",
       "      <th></th>\n",
       "      <th></th>\n",
       "      <th></th>\n",
       "      <th></th>\n",
       "      <th></th>\n",
       "      <th></th>\n",
       "      <th></th>\n",
       "      <th></th>\n",
       "      <th></th>\n",
       "      <th></th>\n",
       "    </tr>\n",
       "  </thead>\n",
       "  <tbody>\n",
       "    <tr>\n",
       "      <th>2021-10-08 00:00:00-04:00</th>\n",
       "      <td>114.31</td>\n",
       "      <td>114.35</td>\n",
       "      <td>114.07</td>\n",
       "      <td>114.12</td>\n",
       "      <td>4207570</td>\n",
       "      <td>439.48</td>\n",
       "      <td>439.89</td>\n",
       "      <td>437.19</td>\n",
       "      <td>437.82</td>\n",
       "      <td>57510090</td>\n",
       "    </tr>\n",
       "  </tbody>\n",
       "</table>\n",
       "</div>"
      ],
      "text/plain": [
       "                              AGG                                      SPY  \\\n",
       "                             open    high     low   close   volume    open   \n",
       "time                                                                         \n",
       "2021-10-08 00:00:00-04:00  114.31  114.35  114.07  114.12  4207570  439.48   \n",
       "\n",
       "                                                             \n",
       "                             high     low   close    volume  \n",
       "time                                                         \n",
       "2021-10-08 00:00:00-04:00  439.89  437.19  437.82  57510090  "
      ]
     },
     "execution_count": 16,
     "metadata": {},
     "output_type": "execute_result"
    }
   ],
   "source": [
    "# Use the Alpaca get_barset function to get current closing prices the portfolio\n",
    "# Be sure to set the `df` property after the function to format the response object as a DataFrame\n",
    "prices_df = alpaca.get_barset(tickers, timeframe, start=start_date, end=end_date, limit=limit_rows).df\n",
    "\n",
    "# Review the first five rows of the resulting DataFrame \n",
    "prices_df.head()\n"
   ]
  },
  {
   "cell_type": "markdown",
   "metadata": {},
   "source": [
    "#### Step 5: Navigating the Alpaca response DataFrame, select the `SPY` and `AGG` closing prices, and store them as variables."
   ]
  },
  {
   "cell_type": "code",
   "execution_count": 17,
   "metadata": {},
   "outputs": [
    {
     "name": "stdout",
     "output_type": "stream",
     "text": [
      "114.12\n"
     ]
    }
   ],
   "source": [
    "# Access the closing price for AGG from the Alpaca DataFrame\n",
    "# Converting the value to a floating point number\n",
    "agg_close_price = float(prices_df[\"AGG\"][\"close\"])\n",
    "\n",
    "# Print the AGG closing price\n",
    "print(agg_close_price)\n"
   ]
  },
  {
   "cell_type": "code",
   "execution_count": 18,
   "metadata": {},
   "outputs": [
    {
     "name": "stdout",
     "output_type": "stream",
     "text": [
      "437.82\n"
     ]
    }
   ],
   "source": [
    "# Access the closing price for SPY from the Alpaca DataFrame\n",
    "# Converting the value to a floating point number\n",
    "spy_close_price = float(prices_df[\"SPY\"][\"close\"])\n",
    "\n",
    "# Print the SPY closing price\n",
    "print(spy_close_price)\n"
   ]
  },
  {
   "cell_type": "markdown",
   "metadata": {},
   "source": [
    "#### Step 6: Calculate the value, in US dollars, of the current amount of shares in each of the stock and bond portions of the portfolio, and print the results."
   ]
  },
  {
   "cell_type": "code",
   "execution_count": 19,
   "metadata": {},
   "outputs": [
    {
     "name": "stdout",
     "output_type": "stream",
     "text": [
      "The current value of your bond portfolio holding is $22824.00\n"
     ]
    }
   ],
   "source": [
    "# Calculate the current value of the bond portion of the portfolio\n",
    "agg_value = agg_shares * agg_close_price\n",
    "\n",
    "# Print the current value of the bond portfolio\n",
    "print(f\"The current value of your bond portfolio holding is ${agg_value:.2f}\")\n"
   ]
  },
  {
   "cell_type": "code",
   "execution_count": 20,
   "metadata": {},
   "outputs": [
    {
     "name": "stdout",
     "output_type": "stream",
     "text": [
      "The current value of your equity portfolio holding is $48160.20\n"
     ]
    }
   ],
   "source": [
    "# Calculate the current value of the stock portion of the portfolio\n",
    "spy_value = spy_shares * spy_close_price\n",
    "\n",
    "# Print the current value of the stock portfolio\n",
    "print(f\"The current value of your equity portfolio holding is ${spy_value:.2f}\")\n"
   ]
  },
  {
   "cell_type": "code",
   "execution_count": 21,
   "metadata": {},
   "outputs": [
    {
     "name": "stdout",
     "output_type": "stream",
     "text": [
      "The current value of your total portfolio holding is $70984.20\n"
     ]
    }
   ],
   "source": [
    "# Calculate the total value of the stock and bond portion of the portfolio\n",
    "total_stocks_bonds = agg_value + spy_value\n",
    "\n",
    "# Print the current balance of the stock and bond portion of the portfolio\n",
    "print(f\"The current value of your total portfolio holding is ${total_stocks_bonds:.2f}\")\n",
    "\n"
   ]
  },
  {
   "cell_type": "code",
   "execution_count": 22,
   "metadata": {},
   "outputs": [
    {
     "name": "stdout",
     "output_type": "stream",
     "text": [
      "The current value of your total portfolio holding of crypto currency, bond, and equity holding is $157616.93\n"
     ]
    }
   ],
   "source": [
    "# Calculate the total value of the member's entire savings portfolio\n",
    "# Add the value of the cryptocurrency wallet to the value of the total stocks and bonds\n",
    "total_portfolio = total_stocks_bonds + total_crypto_wallet\n",
    "\n",
    "# Print current cryptocurrency wallet balance\n",
    "print(f\"The current value of your total portfolio holding of crypto currency, bond, and equity holding is ${total_portfolio:.2f}\")"
   ]
  },
  {
   "cell_type": "markdown",
   "metadata": {},
   "source": [
    "### Evaluate the Emergency Fund\n",
    "\n",
    "In this section, you’ll use the valuations for the cryptocurrency wallet and for the stock and bond portions of the portfolio to determine if the credit union member has enough savings to build an emergency fund into their financial plan. To do this, complete the following steps:\n",
    "\n",
    "1. Create a Python list named `savings_data` that has two elements. The first element contains the total value of the cryptocurrency wallet. The second element contains the total value of the stock and bond portions of the portfolio.\n",
    "\n",
    "2. Use the `savings_data` list to create a Pandas DataFrame named `savings_df`, and then display this DataFrame. The function to create the DataFrame should take the following three parameters:\n",
    "\n",
    "    - `savings_data`: Use the list that you just created.\n",
    "\n",
    "    - `columns`: Set this parameter equal to a Python list with a single value called `amount`.\n",
    "\n",
    "    - `index`: Set this parameter equal to a Python list with the values of `crypto` and `stock/bond`.\n",
    "\n",
    "3. Use the `savings_df` DataFrame to plot a pie chart that visualizes the composition of the member’s portfolio. The y-axis of the pie chart uses `amount`. Be sure to add a title.\n",
    "\n",
    "4. Using Python, determine if the current portfolio has enough to create an emergency fund as part of the member’s financial plan. Ideally, an emergency fund should equal to three times the member’s monthly income. To do this, implement the following steps:\n",
    "\n",
    "    1. Create a variable named `emergency_fund_value`, and set it equal to three times the value of the member’s `monthly_income` of $12000. (You set this earlier in Part 1).\n",
    "\n",
    "    2. Create a series of three if statements to determine if the member’s total portfolio is large enough to fund the emergency portfolio:\n",
    "\n",
    "        1. If the total portfolio value is greater than the emergency fund value, display a message congratulating the member for having enough money in this fund.\n",
    "\n",
    "        2. Else if the total portfolio value is equal to the emergency fund value, display a message congratulating the member on reaching this important financial goal.\n",
    "\n",
    "        3. Else the total portfolio is less than the emergency fund value, so display a message showing how many dollars away the member is from reaching the goal. (Subtract the total portfolio value from the emergency fund value.)\n"
   ]
  },
  {
   "cell_type": "markdown",
   "metadata": {},
   "source": [
    "#### Step 1: Create a Python list named `savings_data` that has two elements. The first element contains the total value of the cryptocurrency wallet. The second element contains the total value of the stock and bond portions of the portfolio."
   ]
  },
  {
   "cell_type": "code",
   "execution_count": 23,
   "metadata": {},
   "outputs": [
    {
     "data": {
      "text/plain": [
       "86632.727"
      ]
     },
     "execution_count": 23,
     "metadata": {},
     "output_type": "execute_result"
    }
   ],
   "source": [
    "# Consolidate financial assets data into a Python list\n",
    "savings_data = [total_crypto_wallet, total_stocks_bonds]\n",
    "\n",
    "# Review the Python list savings_data\n",
    "savings_data[0]\n",
    "    "
   ]
  },
  {
   "cell_type": "markdown",
   "metadata": {},
   "source": [
    "#### Step 2: Use the `savings_data` list to create a Pandas DataFrame named `savings_df`, and then display this DataFrame. The function to create the DataFrame should take the following three parameters:\n",
    "\n",
    "- `savings_data`: Use the list that you just created.\n",
    "\n",
    "- `columns`: Set this parameter equal to a Python list with a single value called `amount`.\n",
    "\n",
    "- `index`: Set this parameter equal to a Python list with the values of `crypto` and `stock/bond`.\n"
   ]
  },
  {
   "cell_type": "code",
   "execution_count": 24,
   "metadata": {},
   "outputs": [
    {
     "data": {
      "text/html": [
       "<div>\n",
       "<style scoped>\n",
       "    .dataframe tbody tr th:only-of-type {\n",
       "        vertical-align: middle;\n",
       "    }\n",
       "\n",
       "    .dataframe tbody tr th {\n",
       "        vertical-align: top;\n",
       "    }\n",
       "\n",
       "    .dataframe thead th {\n",
       "        text-align: right;\n",
       "    }\n",
       "</style>\n",
       "<table border=\"1\" class=\"dataframe\">\n",
       "  <thead>\n",
       "    <tr style=\"text-align: right;\">\n",
       "      <th></th>\n",
       "      <th>amount</th>\n",
       "    </tr>\n",
       "  </thead>\n",
       "  <tbody>\n",
       "    <tr>\n",
       "      <th>crypto</th>\n",
       "      <td>86632.727</td>\n",
       "    </tr>\n",
       "    <tr>\n",
       "      <th>stock/bond</th>\n",
       "      <td>70984.200</td>\n",
       "    </tr>\n",
       "  </tbody>\n",
       "</table>\n",
       "</div>"
      ],
      "text/plain": [
       "               amount\n",
       "crypto      86632.727\n",
       "stock/bond  70984.200"
      ]
     },
     "execution_count": 24,
     "metadata": {},
     "output_type": "execute_result"
    }
   ],
   "source": [
    "# Create a Pandas DataFrame called savings_df \n",
    "#savings_df =  pd.DataFrame({\"savings_data\": savings_data,\"columns\": \"amount\", \"index\" : [\"crypto\", \"stock/bond\"]})\n",
    "savings_df =  pd.DataFrame({\"amount\": savings_data}, index=[\"crypto\", \"stock/bond\"])\n",
    "\n",
    "# Display the savings_df DataFrame\n",
    "savings_df\n"
   ]
  },
  {
   "cell_type": "markdown",
   "metadata": {},
   "source": [
    "#### Step 3: Use the `savings_df` DataFrame to plot a pie chart that visualizes the composition of the member’s portfolio. The y-axis of the pie chart uses `amount`. Be sure to add a title."
   ]
  },
  {
   "cell_type": "code",
   "execution_count": 25,
   "metadata": {},
   "outputs": [
    {
     "data": {
      "text/plain": [
       "<AxesSubplot:title={'center':'Portfolio Composition - Crypto, Equity and Bond Holdings '}, ylabel='amount'>"
      ]
     },
     "execution_count": 25,
     "metadata": {},
     "output_type": "execute_result"
    },
    {
     "data": {
      "image/png": "[encoded data removed]",
      "text/plain": [
       "<Figure size 432x288 with 1 Axes>"
      ]
     },
     "metadata": {},
     "output_type": "display_data"
    }
   ],
   "source": [
    "# Plot the total value of the member's portfolio (crypto and stock/bond) in a pie chart\n",
    "#pie_values_df = pd.DataFrame({'Value':[aapl_value, msft_value]},index=['Apple', 'MSFT'])\n",
    "#pie_values_df\n",
    "savings_df.plot.pie(y='amount', title='Portfolio Composition - Crypto, Equity and Bond Holdings ')\n"
   ]
  },
  {
   "cell_type": "markdown",
   "metadata": {},
   "source": [
    "#### Step 4: Using Python, determine if the current portfolio has enough to create an emergency fund as part of the member’s financial plan. Ideally, an emergency fund should equal to three times the member’s monthly income. To do this, implement the following steps:\n",
    "\n",
    "Step 1. Create a variable named `emergency_fund_value`, and set it equal to three times the value of the member’s `monthly_income` of 12000. (You set this earlier in Part 1).\n",
    "\n",
    "Step 2. Create a series of three if statements to determine if the member’s total portfolio is large enough to fund the emergency portfolio:\n",
    "\n",
    "* If the total portfolio value is greater than the emergency fund value, display a message congratulating the member for having enough money in this fund.\n",
    "\n",
    "* Else if the total portfolio value is equal to the emergency fund value, display a message congratulating the member on reaching this important financial goal.\n",
    "\n",
    "* Else the total portfolio is less than the emergency fund value, so display a message showing how many dollars away the member is from reaching the goal. (Subtract the total portfolio value from the emergency fund value.)\n"
   ]
  },
  {
   "cell_type": "markdown",
   "metadata": {},
   "source": [
    "##### Step 4-1: Create a variable named `emergency_fund_value`, and set it equal to three times the value of the member’s `monthly_income` of 12000. (You set this earlier in Part 1)."
   ]
  },
  {
   "cell_type": "code",
   "execution_count": 26,
   "metadata": {},
   "outputs": [
    {
     "data": {
      "text/plain": [
       "36000"
      ]
     },
     "execution_count": 26,
     "metadata": {},
     "output_type": "execute_result"
    }
   ],
   "source": [
    "# Create a variable named emergency_fund_value\n",
    "emergency_fund_value = monthly_income * 3\n",
    "\n",
    "emergency_fund_value\n",
    "\n"
   ]
  },
  {
   "cell_type": "markdown",
   "metadata": {},
   "source": [
    "##### Step 4-2: Create a series of three if statements to determine if the member’s total portfolio is large enough to fund the emergency portfolio:\n",
    "\n",
    "* If the total portfolio value is greater than the emergency fund value, display a message congratulating the member for having enough money in this fund.\n",
    "\n",
    "* Else if the total portfolio value is equal to the emergency fund value, display a message congratulating the member on reaching this important financial goal.\n",
    "\n",
    "* Else the total portfolio is less than the emergency fund value, so display a message showing how many dollars away the member is from reaching the goal. (Subtract the total portfolio value from the emergency fund value.)"
   ]
  },
  {
   "cell_type": "code",
   "execution_count": 27,
   "metadata": {},
   "outputs": [
    {
     "name": "stdout",
     "output_type": "stream",
     "text": [
      "Congrats to you! You have enough money in this fund!\n"
     ]
    }
   ],
   "source": [
    "# Evaluate the possibility of creating an emergency fund with 3 conditions:\n",
    "# if total port > emergency then congrats to you guy\n",
    "if total_portfolio > emergency_fund_value:\n",
    "    print(\"Congrats to you! You have enough money in this fund!\")\n",
    "# if total port = emergency then good job for reaching the emergency fund financial goal    \n",
    "elif total_portfolio == emergency_fund_value:\n",
    "    print(\"Well done you have reached an important financial goal and funded your emergency fund\")\n",
    "    \n",
    "else:\n",
    "# if port < emergency then you are emergency - port value away from reaching your goal\n",
    "    print(f\"Sorry, but you are still {emergency_fund_value - total_portfolio:.2f} dollars away from fully funding your emergency fund.\")\n",
    "\n",
    "\n"
   ]
  },
  {
   "cell_type": "markdown",
   "metadata": {},
   "source": [
    "## Part 2: Create a Financial Planner for Retirement"
   ]
  },
  {
   "cell_type": "markdown",
   "metadata": {},
   "source": [
    "### Create the Monte Carlo Simulation\n",
    "\n",
    "In this section, you’ll use the MCForecastTools library to create a Monte Carlo simulation for the member’s savings portfolio. To do this, complete the following steps:\n",
    "\n",
    "1. Make an API call via the Alpaca SDK to get 3 years of historical closing prices for a traditional 60/40 portfolio split: 60% stocks (SPY) and 40% bonds (AGG).\n",
    "\n",
    "2. Run a Monte Carlo simulation of 500 samples and 30 years for the 60/40 portfolio, and then plot the results.The following image shows the overlay line plot resulting from a simulation with these characteristics. However, because a random number generator is used to run each live Monte Carlo simulation, your image will differ slightly from this exact image:\n",
    "\n",
    "![A screenshot depicts the resulting plot.](Images/5-4-monte-carlo-line-plot.png)\n",
    "\n",
    "3. Plot the probability distribution of the Monte Carlo simulation. Plot the probability distribution of the Monte Carlo simulation. The following image shows the histogram plot resulting from a simulation with these characteristics. However, because a random number generator is used to run each live Monte Carlo simulation, your image will differ slightly from this exact image:\n",
    "\n",
    "![A screenshot depicts the histogram plot.](Images/5-4-monte-carlo-histogram.png)\n",
    "\n",
    "4. Generate the summary statistics for the Monte Carlo simulation.\n",
    "\n"
   ]
  },
  {
   "cell_type": "markdown",
   "metadata": {},
   "source": [
    "#### Step 1: Make an API call via the Alpaca SDK to get 3 years of historical closing prices for a traditional 60/40 portfolio split: 60% stocks (SPY) and 40% bonds (AGG)."
   ]
  },
  {
   "cell_type": "code",
   "execution_count": 28,
   "metadata": {},
   "outputs": [],
   "source": [
    "# Set start and end dates of 3 years back from your current date\n",
    "# Alternatively, you can use an end date of 2020-08-07 and work 3 years back from that date \n",
    "start_date = pd.Timestamp(\"2018-10-18\", tz=\"America/New_York\").isoformat()\n",
    "end_date = pd.Timestamp(\"2021-10-08\", tz=\"America/New_York\").isoformat()\n",
    "\n",
    "# Set number of rows to 1000 to retrieve the maximum amount of rows\n",
    "limit_rows = 1000"
   ]
  },
  {
   "cell_type": "code",
   "execution_count": 29,
   "metadata": {},
   "outputs": [
    {
     "data": {
      "text/html": [
       "<div>\n",
       "<style scoped>\n",
       "    .dataframe tbody tr th:only-of-type {\n",
       "        vertical-align: middle;\n",
       "    }\n",
       "\n",
       "    .dataframe tbody tr th {\n",
       "        vertical-align: top;\n",
       "    }\n",
       "\n",
       "    .dataframe thead tr th {\n",
       "        text-align: left;\n",
       "    }\n",
       "\n",
       "    .dataframe thead tr:last-of-type th {\n",
       "        text-align: right;\n",
       "    }\n",
       "</style>\n",
       "<table border=\"1\" class=\"dataframe\">\n",
       "  <thead>\n",
       "    <tr>\n",
       "      <th></th>\n",
       "      <th colspan=\"5\" halign=\"left\">AGG</th>\n",
       "      <th colspan=\"5\" halign=\"left\">SPY</th>\n",
       "    </tr>\n",
       "    <tr>\n",
       "      <th></th>\n",
       "      <th>open</th>\n",
       "      <th>high</th>\n",
       "      <th>low</th>\n",
       "      <th>close</th>\n",
       "      <th>volume</th>\n",
       "      <th>open</th>\n",
       "      <th>high</th>\n",
       "      <th>low</th>\n",
       "      <th>close</th>\n",
       "      <th>volume</th>\n",
       "    </tr>\n",
       "    <tr>\n",
       "      <th>time</th>\n",
       "      <th></th>\n",
       "      <th></th>\n",
       "      <th></th>\n",
       "      <th></th>\n",
       "      <th></th>\n",
       "      <th></th>\n",
       "      <th></th>\n",
       "      <th></th>\n",
       "      <th></th>\n",
       "      <th></th>\n",
       "    </tr>\n",
       "  </thead>\n",
       "  <tbody>\n",
       "    <tr>\n",
       "      <th>2021-10-04 00:00:00-04:00</th>\n",
       "      <td>114.92</td>\n",
       "      <td>115.030</td>\n",
       "      <td>114.795</td>\n",
       "      <td>114.94</td>\n",
       "      <td>3969883</td>\n",
       "      <td>433.00</td>\n",
       "      <td>433.9600</td>\n",
       "      <td>426.36</td>\n",
       "      <td>428.69</td>\n",
       "      <td>112134374</td>\n",
       "    </tr>\n",
       "    <tr>\n",
       "      <th>2021-10-05 00:00:00-04:00</th>\n",
       "      <td>114.82</td>\n",
       "      <td>114.867</td>\n",
       "      <td>114.610</td>\n",
       "      <td>114.65</td>\n",
       "      <td>6211634</td>\n",
       "      <td>430.24</td>\n",
       "      <td>435.4900</td>\n",
       "      <td>429.39</td>\n",
       "      <td>433.05</td>\n",
       "      <td>82381830</td>\n",
       "    </tr>\n",
       "    <tr>\n",
       "      <th>2021-10-06 00:00:00-04:00</th>\n",
       "      <td>114.68</td>\n",
       "      <td>114.730</td>\n",
       "      <td>114.590</td>\n",
       "      <td>114.70</td>\n",
       "      <td>4748378</td>\n",
       "      <td>429.27</td>\n",
       "      <td>435.1199</td>\n",
       "      <td>427.54</td>\n",
       "      <td>434.92</td>\n",
       "      <td>99477866</td>\n",
       "    </tr>\n",
       "    <tr>\n",
       "      <th>2021-10-07 00:00:00-04:00</th>\n",
       "      <td>114.46</td>\n",
       "      <td>114.500</td>\n",
       "      <td>114.340</td>\n",
       "      <td>114.36</td>\n",
       "      <td>3586652</td>\n",
       "      <td>438.39</td>\n",
       "      <td>441.6800</td>\n",
       "      <td>438.20</td>\n",
       "      <td>438.64</td>\n",
       "      <td>64139858</td>\n",
       "    </tr>\n",
       "    <tr>\n",
       "      <th>2021-10-08 00:00:00-04:00</th>\n",
       "      <td>114.31</td>\n",
       "      <td>114.350</td>\n",
       "      <td>114.070</td>\n",
       "      <td>114.12</td>\n",
       "      <td>4207570</td>\n",
       "      <td>439.48</td>\n",
       "      <td>439.8900</td>\n",
       "      <td>437.19</td>\n",
       "      <td>437.82</td>\n",
       "      <td>57510090</td>\n",
       "    </tr>\n",
       "  </tbody>\n",
       "</table>\n",
       "</div>"
      ],
      "text/plain": [
       "                              AGG                                        SPY  \\\n",
       "                             open     high      low   close   volume    open   \n",
       "time                                                                           \n",
       "2021-10-04 00:00:00-04:00  114.92  115.030  114.795  114.94  3969883  433.00   \n",
       "2021-10-05 00:00:00-04:00  114.82  114.867  114.610  114.65  6211634  430.24   \n",
       "2021-10-06 00:00:00-04:00  114.68  114.730  114.590  114.70  4748378  429.27   \n",
       "2021-10-07 00:00:00-04:00  114.46  114.500  114.340  114.36  3586652  438.39   \n",
       "2021-10-08 00:00:00-04:00  114.31  114.350  114.070  114.12  4207570  439.48   \n",
       "\n",
       "                                                                \n",
       "                               high     low   close     volume  \n",
       "time                                                            \n",
       "2021-10-04 00:00:00-04:00  433.9600  426.36  428.69  112134374  \n",
       "2021-10-05 00:00:00-04:00  435.4900  429.39  433.05   82381830  \n",
       "2021-10-06 00:00:00-04:00  435.1199  427.54  434.92   99477866  \n",
       "2021-10-07 00:00:00-04:00  441.6800  438.20  438.64   64139858  \n",
       "2021-10-08 00:00:00-04:00  439.8900  437.19  437.82   57510090  "
      ]
     },
     "execution_count": 29,
     "metadata": {},
     "output_type": "execute_result"
    }
   ],
   "source": [
    "# Use the Alpaca get_barset function to make the API call to get the 3 years worth of pricing data\n",
    "# The tickers and timeframe parameters should have been set in Part 1 of this activity \n",
    "# The start and end dates should be updated with the information set above\n",
    "# Remember to add the df property to the end of the call so the response is returned as a DataFrame\n",
    "prices_df = alpaca.get_barset(\n",
    "    tickers,\n",
    "    timeframe,\n",
    "    start=start_date,\n",
    "    end=end_date,\n",
    "    limit=limit_rows\n",
    ").df\n",
    "\n",
    "# Display both the first and last five rows of the DataFrame\n",
    "prices_df.head()\n",
    "prices_df.tail()"
   ]
  },
  {
   "cell_type": "markdown",
   "metadata": {},
   "source": [
    "#### Step 2: Run a Monte Carlo simulation of 500 samples and 30 years for the 60/40 portfolio, and then plot the results."
   ]
  },
  {
   "cell_type": "code",
   "execution_count": 30,
   "metadata": {},
   "outputs": [
    {
     "data": {
      "text/html": [
       "<div>\n",
       "<style scoped>\n",
       "    .dataframe tbody tr th:only-of-type {\n",
       "        vertical-align: middle;\n",
       "    }\n",
       "\n",
       "    .dataframe tbody tr th {\n",
       "        vertical-align: top;\n",
       "    }\n",
       "\n",
       "    .dataframe thead tr th {\n",
       "        text-align: left;\n",
       "    }\n",
       "\n",
       "    .dataframe thead tr:last-of-type th {\n",
       "        text-align: right;\n",
       "    }\n",
       "</style>\n",
       "<table border=\"1\" class=\"dataframe\">\n",
       "  <thead>\n",
       "    <tr>\n",
       "      <th></th>\n",
       "      <th colspan=\"6\" halign=\"left\">AGG</th>\n",
       "      <th colspan=\"6\" halign=\"left\">SPY</th>\n",
       "    </tr>\n",
       "    <tr>\n",
       "      <th></th>\n",
       "      <th>open</th>\n",
       "      <th>high</th>\n",
       "      <th>low</th>\n",
       "      <th>close</th>\n",
       "      <th>volume</th>\n",
       "      <th>daily_return</th>\n",
       "      <th>open</th>\n",
       "      <th>high</th>\n",
       "      <th>low</th>\n",
       "      <th>close</th>\n",
       "      <th>volume</th>\n",
       "      <th>daily_return</th>\n",
       "    </tr>\n",
       "    <tr>\n",
       "      <th>time</th>\n",
       "      <th></th>\n",
       "      <th></th>\n",
       "      <th></th>\n",
       "      <th></th>\n",
       "      <th></th>\n",
       "      <th></th>\n",
       "      <th></th>\n",
       "      <th></th>\n",
       "      <th></th>\n",
       "      <th></th>\n",
       "      <th></th>\n",
       "      <th></th>\n",
       "    </tr>\n",
       "  </thead>\n",
       "  <tbody>\n",
       "    <tr>\n",
       "      <th>2018-10-18 00:00:00-04:00</th>\n",
       "      <td>104.39</td>\n",
       "      <td>104.6195</td>\n",
       "      <td>104.375</td>\n",
       "      <td>104.460</td>\n",
       "      <td>2687836</td>\n",
       "      <td>NaN</td>\n",
       "      <td>279.40</td>\n",
       "      <td>280.07</td>\n",
       "      <td>274.97</td>\n",
       "      <td>276.47</td>\n",
       "      <td>106592503</td>\n",
       "      <td>NaN</td>\n",
       "    </tr>\n",
       "    <tr>\n",
       "      <th>2018-10-19 00:00:00-04:00</th>\n",
       "      <td>104.47</td>\n",
       "      <td>104.5500</td>\n",
       "      <td>104.340</td>\n",
       "      <td>104.370</td>\n",
       "      <td>2912850</td>\n",
       "      <td>-0.000862</td>\n",
       "      <td>277.12</td>\n",
       "      <td>279.30</td>\n",
       "      <td>275.47</td>\n",
       "      <td>276.19</td>\n",
       "      <td>86816021</td>\n",
       "      <td>-0.001013</td>\n",
       "    </tr>\n",
       "    <tr>\n",
       "      <th>2018-10-22 00:00:00-04:00</th>\n",
       "      <td>104.47</td>\n",
       "      <td>104.5200</td>\n",
       "      <td>104.340</td>\n",
       "      <td>104.350</td>\n",
       "      <td>2634319</td>\n",
       "      <td>-0.000192</td>\n",
       "      <td>277.00</td>\n",
       "      <td>277.36</td>\n",
       "      <td>274.41</td>\n",
       "      <td>275.06</td>\n",
       "      <td>64990700</td>\n",
       "      <td>-0.004091</td>\n",
       "    </tr>\n",
       "    <tr>\n",
       "      <th>2018-10-23 00:00:00-04:00</th>\n",
       "      <td>104.67</td>\n",
       "      <td>104.7400</td>\n",
       "      <td>104.475</td>\n",
       "      <td>104.485</td>\n",
       "      <td>3281760</td>\n",
       "      <td>0.001294</td>\n",
       "      <td>270.94</td>\n",
       "      <td>274.87</td>\n",
       "      <td>268.61</td>\n",
       "      <td>273.54</td>\n",
       "      <td>113790534</td>\n",
       "      <td>-0.005526</td>\n",
       "    </tr>\n",
       "    <tr>\n",
       "      <th>2018-10-24 00:00:00-04:00</th>\n",
       "      <td>104.69</td>\n",
       "      <td>104.8100</td>\n",
       "      <td>104.670</td>\n",
       "      <td>104.760</td>\n",
       "      <td>4029453</td>\n",
       "      <td>0.002632</td>\n",
       "      <td>273.33</td>\n",
       "      <td>273.76</td>\n",
       "      <td>264.70</td>\n",
       "      <td>265.22</td>\n",
       "      <td>130172487</td>\n",
       "      <td>-0.030416</td>\n",
       "    </tr>\n",
       "  </tbody>\n",
       "</table>\n",
       "</div>"
      ],
      "text/plain": [
       "                              AGG                                       \\\n",
       "                             open      high      low    close   volume   \n",
       "time                                                                     \n",
       "2018-10-18 00:00:00-04:00  104.39  104.6195  104.375  104.460  2687836   \n",
       "2018-10-19 00:00:00-04:00  104.47  104.5500  104.340  104.370  2912850   \n",
       "2018-10-22 00:00:00-04:00  104.47  104.5200  104.340  104.350  2634319   \n",
       "2018-10-23 00:00:00-04:00  104.67  104.7400  104.475  104.485  3281760   \n",
       "2018-10-24 00:00:00-04:00  104.69  104.8100  104.670  104.760  4029453   \n",
       "\n",
       "                                           SPY                          \\\n",
       "                          daily_return    open    high     low   close   \n",
       "time                                                                     \n",
       "2018-10-18 00:00:00-04:00          NaN  279.40  280.07  274.97  276.47   \n",
       "2018-10-19 00:00:00-04:00    -0.000862  277.12  279.30  275.47  276.19   \n",
       "2018-10-22 00:00:00-04:00    -0.000192  277.00  277.36  274.41  275.06   \n",
       "2018-10-23 00:00:00-04:00     0.001294  270.94  274.87  268.61  273.54   \n",
       "2018-10-24 00:00:00-04:00     0.002632  273.33  273.76  264.70  265.22   \n",
       "\n",
       "                                                   \n",
       "                              volume daily_return  \n",
       "time                                               \n",
       "2018-10-18 00:00:00-04:00  106592503          NaN  \n",
       "2018-10-19 00:00:00-04:00   86816021    -0.001013  \n",
       "2018-10-22 00:00:00-04:00   64990700    -0.004091  \n",
       "2018-10-23 00:00:00-04:00  113790534    -0.005526  \n",
       "2018-10-24 00:00:00-04:00  130172487    -0.030416  "
      ]
     },
     "execution_count": 30,
     "metadata": {},
     "output_type": "execute_result"
    }
   ],
   "source": [
    "# Configure the Monte Carlo simulation to forecast 30 years cumulative returns\n",
    "# The weights should be split 40% to AGG and 60% to SPY.\n",
    "# Run 500 samples.\n",
    "MC_4060 = MCSimulation(\n",
    "    portfolio_data = prices_df,\n",
    "    weights = [.4,.6,],\n",
    "    num_simulation = 500,\n",
    "    num_trading_days = 252*30\n",
    ")\n",
    "\n",
    "# Review the simulation input data\n",
    "MC_4060.portfolio_data.head()\n"
   ]
  },
  {
   "cell_type": "code",
   "execution_count": 31,
   "metadata": {},
   "outputs": [
    {
     "name": "stdout",
     "output_type": "stream",
     "text": [
      "Running Monte Carlo simulation number 0.\n",
      "Running Monte Carlo simulation number 50.\n",
      "Running Monte Carlo simulation number 100.\n",
      "Running Monte Carlo simulation number 150.\n",
      "Running Monte Carlo simulation number 200.\n",
      "Running Monte Carlo simulation number 250.\n",
      "Running Monte Carlo simulation number 300.\n",
      "Running Monte Carlo simulation number 350.\n",
      "Running Monte Carlo simulation number 400.\n",
      "Running Monte Carlo simulation number 450.\n"
     ]
    },
    {
     "data": {
      "text/html": [
       "<div>\n",
       "<style scoped>\n",
       "    .dataframe tbody tr th:only-of-type {\n",
       "        vertical-align: middle;\n",
       "    }\n",
       "\n",
       "    .dataframe tbody tr th {\n",
       "        vertical-align: top;\n",
       "    }\n",
       "\n",
       "    .dataframe thead th {\n",
       "        text-align: right;\n",
       "    }\n",
       "</style>\n",
       "<table border=\"1\" class=\"dataframe\">\n",
       "  <thead>\n",
       "    <tr style=\"text-align: right;\">\n",
       "      <th></th>\n",
       "      <th>0</th>\n",
       "      <th>1</th>\n",
       "      <th>2</th>\n",
       "      <th>3</th>\n",
       "      <th>4</th>\n",
       "      <th>5</th>\n",
       "      <th>6</th>\n",
       "      <th>7</th>\n",
       "      <th>8</th>\n",
       "      <th>9</th>\n",
       "      <th>...</th>\n",
       "      <th>490</th>\n",
       "      <th>491</th>\n",
       "      <th>492</th>\n",
       "      <th>493</th>\n",
       "      <th>494</th>\n",
       "      <th>495</th>\n",
       "      <th>496</th>\n",
       "      <th>497</th>\n",
       "      <th>498</th>\n",
       "      <th>499</th>\n",
       "    </tr>\n",
       "  </thead>\n",
       "  <tbody>\n",
       "    <tr>\n",
       "      <th>0</th>\n",
       "      <td>1.000000</td>\n",
       "      <td>1.000000</td>\n",
       "      <td>1.000000</td>\n",
       "      <td>1.000000</td>\n",
       "      <td>1.000000</td>\n",
       "      <td>1.000000</td>\n",
       "      <td>1.000000</td>\n",
       "      <td>1.000000</td>\n",
       "      <td>1.000000</td>\n",
       "      <td>1.000000</td>\n",
       "      <td>...</td>\n",
       "      <td>1.000000</td>\n",
       "      <td>1.000000</td>\n",
       "      <td>1.000000</td>\n",
       "      <td>1.000000</td>\n",
       "      <td>1.000000</td>\n",
       "      <td>1.000000</td>\n",
       "      <td>1.000000</td>\n",
       "      <td>1.000000</td>\n",
       "      <td>1.000000</td>\n",
       "      <td>1.000000</td>\n",
       "    </tr>\n",
       "    <tr>\n",
       "      <th>1</th>\n",
       "      <td>0.995251</td>\n",
       "      <td>1.007917</td>\n",
       "      <td>1.000659</td>\n",
       "      <td>0.987986</td>\n",
       "      <td>0.987750</td>\n",
       "      <td>1.005040</td>\n",
       "      <td>1.001099</td>\n",
       "      <td>1.004784</td>\n",
       "      <td>1.007665</td>\n",
       "      <td>0.999054</td>\n",
       "      <td>...</td>\n",
       "      <td>0.986454</td>\n",
       "      <td>1.000518</td>\n",
       "      <td>1.000084</td>\n",
       "      <td>0.999559</td>\n",
       "      <td>1.002587</td>\n",
       "      <td>1.007255</td>\n",
       "      <td>0.986891</td>\n",
       "      <td>0.995979</td>\n",
       "      <td>0.993674</td>\n",
       "      <td>0.989952</td>\n",
       "    </tr>\n",
       "    <tr>\n",
       "      <th>2</th>\n",
       "      <td>0.992670</td>\n",
       "      <td>1.012952</td>\n",
       "      <td>1.002066</td>\n",
       "      <td>0.980000</td>\n",
       "      <td>0.991236</td>\n",
       "      <td>0.995455</td>\n",
       "      <td>0.989400</td>\n",
       "      <td>1.010338</td>\n",
       "      <td>1.004939</td>\n",
       "      <td>0.990471</td>\n",
       "      <td>...</td>\n",
       "      <td>0.988225</td>\n",
       "      <td>0.995594</td>\n",
       "      <td>1.002174</td>\n",
       "      <td>1.007652</td>\n",
       "      <td>0.998660</td>\n",
       "      <td>1.014833</td>\n",
       "      <td>0.978145</td>\n",
       "      <td>1.003633</td>\n",
       "      <td>0.995454</td>\n",
       "      <td>0.989428</td>\n",
       "    </tr>\n",
       "    <tr>\n",
       "      <th>3</th>\n",
       "      <td>0.997896</td>\n",
       "      <td>1.013153</td>\n",
       "      <td>1.010451</td>\n",
       "      <td>0.967885</td>\n",
       "      <td>0.986923</td>\n",
       "      <td>0.993547</td>\n",
       "      <td>0.981263</td>\n",
       "      <td>1.015644</td>\n",
       "      <td>0.996814</td>\n",
       "      <td>1.004317</td>\n",
       "      <td>...</td>\n",
       "      <td>0.982148</td>\n",
       "      <td>1.000990</td>\n",
       "      <td>1.001472</td>\n",
       "      <td>1.021964</td>\n",
       "      <td>0.998572</td>\n",
       "      <td>1.009795</td>\n",
       "      <td>0.959103</td>\n",
       "      <td>1.019529</td>\n",
       "      <td>1.006098</td>\n",
       "      <td>0.989772</td>\n",
       "    </tr>\n",
       "    <tr>\n",
       "      <th>4</th>\n",
       "      <td>0.995698</td>\n",
       "      <td>1.011337</td>\n",
       "      <td>1.000942</td>\n",
       "      <td>0.959019</td>\n",
       "      <td>0.992387</td>\n",
       "      <td>0.972792</td>\n",
       "      <td>0.986187</td>\n",
       "      <td>1.026038</td>\n",
       "      <td>1.003505</td>\n",
       "      <td>1.008561</td>\n",
       "      <td>...</td>\n",
       "      <td>0.977118</td>\n",
       "      <td>0.995773</td>\n",
       "      <td>1.013878</td>\n",
       "      <td>1.027418</td>\n",
       "      <td>1.007758</td>\n",
       "      <td>1.002339</td>\n",
       "      <td>0.948944</td>\n",
       "      <td>1.025030</td>\n",
       "      <td>0.995237</td>\n",
       "      <td>0.989689</td>\n",
       "    </tr>\n",
       "    <tr>\n",
       "      <th>...</th>\n",
       "      <td>...</td>\n",
       "      <td>...</td>\n",
       "      <td>...</td>\n",
       "      <td>...</td>\n",
       "      <td>...</td>\n",
       "      <td>...</td>\n",
       "      <td>...</td>\n",
       "      <td>...</td>\n",
       "      <td>...</td>\n",
       "      <td>...</td>\n",
       "      <td>...</td>\n",
       "      <td>...</td>\n",
       "      <td>...</td>\n",
       "      <td>...</td>\n",
       "      <td>...</td>\n",
       "      <td>...</td>\n",
       "      <td>...</td>\n",
       "      <td>...</td>\n",
       "      <td>...</td>\n",
       "      <td>...</td>\n",
       "      <td>...</td>\n",
       "    </tr>\n",
       "    <tr>\n",
       "      <th>7556</th>\n",
       "      <td>24.721250</td>\n",
       "      <td>200.579329</td>\n",
       "      <td>6.765054</td>\n",
       "      <td>35.195706</td>\n",
       "      <td>10.229936</td>\n",
       "      <td>18.938823</td>\n",
       "      <td>83.826657</td>\n",
       "      <td>22.806429</td>\n",
       "      <td>8.744882</td>\n",
       "      <td>28.210790</td>\n",
       "      <td>...</td>\n",
       "      <td>26.572127</td>\n",
       "      <td>30.686384</td>\n",
       "      <td>14.791699</td>\n",
       "      <td>15.813906</td>\n",
       "      <td>89.619994</td>\n",
       "      <td>18.389089</td>\n",
       "      <td>121.863010</td>\n",
       "      <td>21.498822</td>\n",
       "      <td>28.722316</td>\n",
       "      <td>11.495544</td>\n",
       "    </tr>\n",
       "    <tr>\n",
       "      <th>7557</th>\n",
       "      <td>24.575374</td>\n",
       "      <td>203.754139</td>\n",
       "      <td>6.757079</td>\n",
       "      <td>35.276971</td>\n",
       "      <td>10.050412</td>\n",
       "      <td>18.870166</td>\n",
       "      <td>83.686471</td>\n",
       "      <td>23.031811</td>\n",
       "      <td>8.851656</td>\n",
       "      <td>28.452155</td>\n",
       "      <td>...</td>\n",
       "      <td>26.219908</td>\n",
       "      <td>30.904269</td>\n",
       "      <td>14.743106</td>\n",
       "      <td>15.758130</td>\n",
       "      <td>88.614163</td>\n",
       "      <td>18.468934</td>\n",
       "      <td>122.421658</td>\n",
       "      <td>21.507340</td>\n",
       "      <td>29.068548</td>\n",
       "      <td>11.489285</td>\n",
       "    </tr>\n",
       "    <tr>\n",
       "      <th>7558</th>\n",
       "      <td>24.214567</td>\n",
       "      <td>203.462531</td>\n",
       "      <td>6.719014</td>\n",
       "      <td>35.546485</td>\n",
       "      <td>10.067910</td>\n",
       "      <td>18.869381</td>\n",
       "      <td>83.876353</td>\n",
       "      <td>22.925218</td>\n",
       "      <td>8.980562</td>\n",
       "      <td>28.790836</td>\n",
       "      <td>...</td>\n",
       "      <td>26.570304</td>\n",
       "      <td>30.683081</td>\n",
       "      <td>14.769744</td>\n",
       "      <td>15.653197</td>\n",
       "      <td>87.661613</td>\n",
       "      <td>18.429784</td>\n",
       "      <td>121.994540</td>\n",
       "      <td>21.304689</td>\n",
       "      <td>29.211358</td>\n",
       "      <td>11.208869</td>\n",
       "    </tr>\n",
       "    <tr>\n",
       "      <th>7559</th>\n",
       "      <td>24.024963</td>\n",
       "      <td>204.505618</td>\n",
       "      <td>6.657696</td>\n",
       "      <td>35.416045</td>\n",
       "      <td>10.033786</td>\n",
       "      <td>18.999232</td>\n",
       "      <td>84.196405</td>\n",
       "      <td>23.314806</td>\n",
       "      <td>9.155145</td>\n",
       "      <td>28.459351</td>\n",
       "      <td>...</td>\n",
       "      <td>26.584444</td>\n",
       "      <td>30.669301</td>\n",
       "      <td>14.808593</td>\n",
       "      <td>15.659291</td>\n",
       "      <td>89.330913</td>\n",
       "      <td>18.208053</td>\n",
       "      <td>122.739063</td>\n",
       "      <td>21.308341</td>\n",
       "      <td>29.401804</td>\n",
       "      <td>11.187270</td>\n",
       "    </tr>\n",
       "    <tr>\n",
       "      <th>7560</th>\n",
       "      <td>24.069372</td>\n",
       "      <td>205.667258</td>\n",
       "      <td>6.713674</td>\n",
       "      <td>35.351913</td>\n",
       "      <td>10.223586</td>\n",
       "      <td>18.862848</td>\n",
       "      <td>83.842934</td>\n",
       "      <td>23.244166</td>\n",
       "      <td>9.229503</td>\n",
       "      <td>28.596150</td>\n",
       "      <td>...</td>\n",
       "      <td>27.101410</td>\n",
       "      <td>30.888828</td>\n",
       "      <td>14.651147</td>\n",
       "      <td>15.498595</td>\n",
       "      <td>90.938257</td>\n",
       "      <td>18.593308</td>\n",
       "      <td>122.421396</td>\n",
       "      <td>21.340461</td>\n",
       "      <td>29.429092</td>\n",
       "      <td>11.194312</td>\n",
       "    </tr>\n",
       "  </tbody>\n",
       "</table>\n",
       "<p>7561 rows × 500 columns</p>\n",
       "</div>"
      ],
      "text/plain": [
       "            0           1         2          3          4          5    \\\n",
       "0      1.000000    1.000000  1.000000   1.000000   1.000000   1.000000   \n",
       "1      0.995251    1.007917  1.000659   0.987986   0.987750   1.005040   \n",
       "2      0.992670    1.012952  1.002066   0.980000   0.991236   0.995455   \n",
       "3      0.997896    1.013153  1.010451   0.967885   0.986923   0.993547   \n",
       "4      0.995698    1.011337  1.000942   0.959019   0.992387   0.972792   \n",
       "...         ...         ...       ...        ...        ...        ...   \n",
       "7556  24.721250  200.579329  6.765054  35.195706  10.229936  18.938823   \n",
       "7557  24.575374  203.754139  6.757079  35.276971  10.050412  18.870166   \n",
       "7558  24.214567  203.462531  6.719014  35.546485  10.067910  18.869381   \n",
       "7559  24.024963  204.505618  6.657696  35.416045  10.033786  18.999232   \n",
       "7560  24.069372  205.667258  6.713674  35.351913  10.223586  18.862848   \n",
       "\n",
       "            6          7         8          9    ...        490        491  \\\n",
       "0      1.000000   1.000000  1.000000   1.000000  ...   1.000000   1.000000   \n",
       "1      1.001099   1.004784  1.007665   0.999054  ...   0.986454   1.000518   \n",
       "2      0.989400   1.010338  1.004939   0.990471  ...   0.988225   0.995594   \n",
       "3      0.981263   1.015644  0.996814   1.004317  ...   0.982148   1.000990   \n",
       "4      0.986187   1.026038  1.003505   1.008561  ...   0.977118   0.995773   \n",
       "...         ...        ...       ...        ...  ...        ...        ...   \n",
       "7556  83.826657  22.806429  8.744882  28.210790  ...  26.572127  30.686384   \n",
       "7557  83.686471  23.031811  8.851656  28.452155  ...  26.219908  30.904269   \n",
       "7558  83.876353  22.925218  8.980562  28.790836  ...  26.570304  30.683081   \n",
       "7559  84.196405  23.314806  9.155145  28.459351  ...  26.584444  30.669301   \n",
       "7560  83.842934  23.244166  9.229503  28.596150  ...  27.101410  30.888828   \n",
       "\n",
       "            492        493        494        495         496        497  \\\n",
       "0      1.000000   1.000000   1.000000   1.000000    1.000000   1.000000   \n",
       "1      1.000084   0.999559   1.002587   1.007255    0.986891   0.995979   \n",
       "2      1.002174   1.007652   0.998660   1.014833    0.978145   1.003633   \n",
       "3      1.001472   1.021964   0.998572   1.009795    0.959103   1.019529   \n",
       "4      1.013878   1.027418   1.007758   1.002339    0.948944   1.025030   \n",
       "...         ...        ...        ...        ...         ...        ...   \n",
       "7556  14.791699  15.813906  89.619994  18.389089  121.863010  21.498822   \n",
       "7557  14.743106  15.758130  88.614163  18.468934  122.421658  21.507340   \n",
       "7558  14.769744  15.653197  87.661613  18.429784  121.994540  21.304689   \n",
       "7559  14.808593  15.659291  89.330913  18.208053  122.739063  21.308341   \n",
       "7560  14.651147  15.498595  90.938257  18.593308  122.421396  21.340461   \n",
       "\n",
       "            498        499  \n",
       "0      1.000000   1.000000  \n",
       "1      0.993674   0.989952  \n",
       "2      0.995454   0.989428  \n",
       "3      1.006098   0.989772  \n",
       "4      0.995237   0.989689  \n",
       "...         ...        ...  \n",
       "7556  28.722316  11.495544  \n",
       "7557  29.068548  11.489285  \n",
       "7558  29.211358  11.208869  \n",
       "7559  29.401804  11.187270  \n",
       "7560  29.429092  11.194312  \n",
       "\n",
       "[7561 rows x 500 columns]"
      ]
     },
     "execution_count": 31,
     "metadata": {},
     "output_type": "execute_result"
    }
   ],
   "source": [
    "# Run the Monte Carlo simulation to forecast 30 years cumulative returns\n",
    "MC_4060.calc_cumulative_return()\n",
    "\n"
   ]
  },
  {
   "cell_type": "code",
   "execution_count": 32,
   "metadata": {},
   "outputs": [
    {
     "data": {
      "image/png": "[encoded data removed]",
      "text/plain": [
       "<Figure size 432x288 with 1 Axes>"
      ]
     },
     "metadata": {
      "needs_background": "light"
     },
     "output_type": "display_data"
    }
   ],
   "source": [
    "# Visualize the 30-year Monte Carlo simulation by creating an\n",
    "# overlay line plot\n",
    "weight_4060_plot = MC_4060.plot_simulation()\n"
   ]
  },
  {
   "cell_type": "markdown",
   "metadata": {},
   "source": [
    "#### Step 3: Plot the probability distribution of the Monte Carlo simulation."
   ]
  },
  {
   "cell_type": "code",
   "execution_count": 33,
   "metadata": {},
   "outputs": [
    {
     "data": {
      "image/png": "[encoded data removed]",
      "text/plain": [
       "<Figure size 432x288 with 1 Axes>"
      ]
     },
     "metadata": {
      "needs_background": "light"
     },
     "output_type": "display_data"
    }
   ],
   "source": [
    "# Visualize the probability distribution of the 30-year Monte Carlo simulation \n",
    "# by plotting a histogram\n",
    "distribution_4060_plot = MC_4060.plot_distribution()\n"
   ]
  },
  {
   "cell_type": "markdown",
   "metadata": {},
   "source": [
    "#### Step 4: Generate the summary statistics for the Monte Carlo simulation."
   ]
  },
  {
   "cell_type": "code",
   "execution_count": 34,
   "metadata": {},
   "outputs": [
    {
     "name": "stdout",
     "output_type": "stream",
     "text": [
      "count           500.000000\n",
      "mean             38.996238\n",
      "std              37.743247\n",
      "min               2.023572\n",
      "25%              16.104122\n",
      "50%              26.689543\n",
      "75%              47.118341\n",
      "max             332.848990\n",
      "95% CI Lower      6.189485\n",
      "95% CI Upper    137.387668\n",
      "Name: 7560, dtype: float64\n"
     ]
    }
   ],
   "source": [
    "# Generate summary statistics from the 30-year Monte Carlo simulation results\n",
    "# Save the results as a variable\n",
    "weight_4060_table = MC_4060.summarize_cumulative_return()\n",
    "\n",
    "\n",
    "# Review the 30-year Monte Carlo summary statistics\n",
    "print(weight_4060_table)"
   ]
  },
  {
   "cell_type": "markdown",
   "metadata": {},
   "source": [
    "### Analyze the Retirement Portfolio Forecasts\n",
    "\n",
    "Using the current value of only the stock and bond portion of the member's portfolio and the summary statistics that you generated from the Monte Carlo simulation, answer the following question in your Jupyter notebook:\n",
    "\n",
    "-  What are the lower and upper bounds for the expected value of the portfolio with a 95% confidence interval?\n"
   ]
  },
  {
   "cell_type": "code",
   "execution_count": 35,
   "metadata": {},
   "outputs": [
    {
     "name": "stdout",
     "output_type": "stream",
     "text": [
      "The current value of your bond portfolio holding is $22824.00\n",
      "The current value of your equity portfolio holding is $48160.20\n",
      "The current value of your total portfolio holding is $70984.20\n",
      "______________________________________\n"
     ]
    }
   ],
   "source": [
    "# Print the current balance of the stock and bond portion of the members portfolio\n",
    "print(f\"The current value of your bond portfolio holding is ${agg_value:.2f}\")\n",
    "print(f\"The current value of your equity portfolio holding is ${spy_value:.2f}\")\n",
    "print(f\"The current value of your total portfolio holding is ${total_stocks_bonds:.2f}\")\n",
    "\n",
    "print(\"______________________________________\")\n"
   ]
  },
  {
   "cell_type": "code",
   "execution_count": 36,
   "metadata": {},
   "outputs": [
    {
     "name": "stdout",
     "output_type": "stream",
     "text": [
      "There is a 95% chance that the current value of $70984.20 in the portfolio with a 40% / 60% mix in the bond and equity funds over the next 30 years will end within in the range of $439355.67 and $9752353.73.\n"
     ]
    }
   ],
   "source": [
    "# Use the lower and upper `95%` confidence intervals to calculate the range of the possible outcomes for the current stock/bond portfolio\n",
    "ci_lower_thirty_cumulative_return = round(weight_4060_table[8]*total_stocks_bonds,2)\n",
    "ci_upper_thirty_cumulative_return = round(weight_4060_table[9]*total_stocks_bonds,2)\n",
    "\n",
    "# Print the result of your calculations\n",
    "print(f\"There is a 95% chance that the current value of ${total_stocks_bonds:.2f} in the portfolio with a \"\n",
    "      f\"40% / 60% mix in the bond and equity funds over the next 30 years will end within in the range of\"\n",
    "      f\" ${ci_lower_thirty_cumulative_return} and ${ci_upper_thirty_cumulative_return}.\")\n"
   ]
  },
  {
   "cell_type": "markdown",
   "metadata": {},
   "source": [
    "### Forecast Cumulative Returns in 10 Years\n",
    "\n",
    "The CTO of the credit union is impressed with your work on these planning tools but wonders if 30 years is a long time to wait until retirement. So, your next task is to adjust the retirement portfolio and run a new Monte Carlo simulation to find out if the changes will allow members to retire earlier.\n",
    "\n",
    "For this new Monte Carlo simulation, do the following: \n",
    "\n",
    "- Forecast the cumulative returns for 10 years from now. Because of the shortened investment horizon (30 years to 10 years), the portfolio needs to invest more heavily in the riskier asset&mdash;that is, stock&mdash;to help accumulate wealth for retirement. \n",
    "\n",
    "- Adjust the weights of the retirement portfolio so that the composition for the Monte Carlo simulation consists of 20% bonds and 80% stocks. \n",
    "\n",
    "- Run the simulation over 500 samples, and use the same data that the API call to Alpaca generated.\n",
    "\n",
    "- Based on the new Monte Carlo simulation, answer the following questions in your Jupyter notebook:\n",
    "\n",
    "    - Using the current value of only the stock and bond portion of the member's portfolio and the summary statistics that you generated from the new Monte Carlo simulation, what are the lower and upper bounds for the expected value of the portfolio (with the new weights) with a 95% confidence interval?\n",
    "\n",
    "    - Will weighting the portfolio more heavily toward stocks allow the credit union members to retire after only 10 years?\n"
   ]
  },
  {
   "cell_type": "code",
   "execution_count": 37,
   "metadata": {},
   "outputs": [
    {
     "data": {
      "text/html": [
       "<div>\n",
       "<style scoped>\n",
       "    .dataframe tbody tr th:only-of-type {\n",
       "        vertical-align: middle;\n",
       "    }\n",
       "\n",
       "    .dataframe tbody tr th {\n",
       "        vertical-align: top;\n",
       "    }\n",
       "\n",
       "    .dataframe thead tr th {\n",
       "        text-align: left;\n",
       "    }\n",
       "\n",
       "    .dataframe thead tr:last-of-type th {\n",
       "        text-align: right;\n",
       "    }\n",
       "</style>\n",
       "<table border=\"1\" class=\"dataframe\">\n",
       "  <thead>\n",
       "    <tr>\n",
       "      <th></th>\n",
       "      <th colspan=\"6\" halign=\"left\">AGG</th>\n",
       "      <th colspan=\"6\" halign=\"left\">SPY</th>\n",
       "    </tr>\n",
       "    <tr>\n",
       "      <th></th>\n",
       "      <th>open</th>\n",
       "      <th>high</th>\n",
       "      <th>low</th>\n",
       "      <th>close</th>\n",
       "      <th>volume</th>\n",
       "      <th>daily_return</th>\n",
       "      <th>open</th>\n",
       "      <th>high</th>\n",
       "      <th>low</th>\n",
       "      <th>close</th>\n",
       "      <th>volume</th>\n",
       "      <th>daily_return</th>\n",
       "    </tr>\n",
       "    <tr>\n",
       "      <th>time</th>\n",
       "      <th></th>\n",
       "      <th></th>\n",
       "      <th></th>\n",
       "      <th></th>\n",
       "      <th></th>\n",
       "      <th></th>\n",
       "      <th></th>\n",
       "      <th></th>\n",
       "      <th></th>\n",
       "      <th></th>\n",
       "      <th></th>\n",
       "      <th></th>\n",
       "    </tr>\n",
       "  </thead>\n",
       "  <tbody>\n",
       "    <tr>\n",
       "      <th>2018-10-18 00:00:00-04:00</th>\n",
       "      <td>104.39</td>\n",
       "      <td>104.6195</td>\n",
       "      <td>104.375</td>\n",
       "      <td>104.460</td>\n",
       "      <td>2687836</td>\n",
       "      <td>NaN</td>\n",
       "      <td>279.40</td>\n",
       "      <td>280.07</td>\n",
       "      <td>274.97</td>\n",
       "      <td>276.47</td>\n",
       "      <td>106592503</td>\n",
       "      <td>NaN</td>\n",
       "    </tr>\n",
       "    <tr>\n",
       "      <th>2018-10-19 00:00:00-04:00</th>\n",
       "      <td>104.47</td>\n",
       "      <td>104.5500</td>\n",
       "      <td>104.340</td>\n",
       "      <td>104.370</td>\n",
       "      <td>2912850</td>\n",
       "      <td>-0.000862</td>\n",
       "      <td>277.12</td>\n",
       "      <td>279.30</td>\n",
       "      <td>275.47</td>\n",
       "      <td>276.19</td>\n",
       "      <td>86816021</td>\n",
       "      <td>-0.001013</td>\n",
       "    </tr>\n",
       "    <tr>\n",
       "      <th>2018-10-22 00:00:00-04:00</th>\n",
       "      <td>104.47</td>\n",
       "      <td>104.5200</td>\n",
       "      <td>104.340</td>\n",
       "      <td>104.350</td>\n",
       "      <td>2634319</td>\n",
       "      <td>-0.000192</td>\n",
       "      <td>277.00</td>\n",
       "      <td>277.36</td>\n",
       "      <td>274.41</td>\n",
       "      <td>275.06</td>\n",
       "      <td>64990700</td>\n",
       "      <td>-0.004091</td>\n",
       "    </tr>\n",
       "    <tr>\n",
       "      <th>2018-10-23 00:00:00-04:00</th>\n",
       "      <td>104.67</td>\n",
       "      <td>104.7400</td>\n",
       "      <td>104.475</td>\n",
       "      <td>104.485</td>\n",
       "      <td>3281760</td>\n",
       "      <td>0.001294</td>\n",
       "      <td>270.94</td>\n",
       "      <td>274.87</td>\n",
       "      <td>268.61</td>\n",
       "      <td>273.54</td>\n",
       "      <td>113790534</td>\n",
       "      <td>-0.005526</td>\n",
       "    </tr>\n",
       "    <tr>\n",
       "      <th>2018-10-24 00:00:00-04:00</th>\n",
       "      <td>104.69</td>\n",
       "      <td>104.8100</td>\n",
       "      <td>104.670</td>\n",
       "      <td>104.760</td>\n",
       "      <td>4029453</td>\n",
       "      <td>0.002632</td>\n",
       "      <td>273.33</td>\n",
       "      <td>273.76</td>\n",
       "      <td>264.70</td>\n",
       "      <td>265.22</td>\n",
       "      <td>130172487</td>\n",
       "      <td>-0.030416</td>\n",
       "    </tr>\n",
       "  </tbody>\n",
       "</table>\n",
       "</div>"
      ],
      "text/plain": [
       "                              AGG                                       \\\n",
       "                             open      high      low    close   volume   \n",
       "time                                                                     \n",
       "2018-10-18 00:00:00-04:00  104.39  104.6195  104.375  104.460  2687836   \n",
       "2018-10-19 00:00:00-04:00  104.47  104.5500  104.340  104.370  2912850   \n",
       "2018-10-22 00:00:00-04:00  104.47  104.5200  104.340  104.350  2634319   \n",
       "2018-10-23 00:00:00-04:00  104.67  104.7400  104.475  104.485  3281760   \n",
       "2018-10-24 00:00:00-04:00  104.69  104.8100  104.670  104.760  4029453   \n",
       "\n",
       "                                           SPY                          \\\n",
       "                          daily_return    open    high     low   close   \n",
       "time                                                                     \n",
       "2018-10-18 00:00:00-04:00          NaN  279.40  280.07  274.97  276.47   \n",
       "2018-10-19 00:00:00-04:00    -0.000862  277.12  279.30  275.47  276.19   \n",
       "2018-10-22 00:00:00-04:00    -0.000192  277.00  277.36  274.41  275.06   \n",
       "2018-10-23 00:00:00-04:00     0.001294  270.94  274.87  268.61  273.54   \n",
       "2018-10-24 00:00:00-04:00     0.002632  273.33  273.76  264.70  265.22   \n",
       "\n",
       "                                                   \n",
       "                              volume daily_return  \n",
       "time                                               \n",
       "2018-10-18 00:00:00-04:00  106592503          NaN  \n",
       "2018-10-19 00:00:00-04:00   86816021    -0.001013  \n",
       "2018-10-22 00:00:00-04:00   64990700    -0.004091  \n",
       "2018-10-23 00:00:00-04:00  113790534    -0.005526  \n",
       "2018-10-24 00:00:00-04:00  130172487    -0.030416  "
      ]
     },
     "execution_count": 37,
     "metadata": {},
     "output_type": "execute_result"
    }
   ],
   "source": [
    "# Configure a Monte Carlo simulation to forecast 10 years cumulative returns\n",
    "# The weights should be split 20% to AGG and 80% to SPY.\n",
    "# Run 500 samples.\n",
    "MC_2080 = MCSimulation(\n",
    "    portfolio_data = prices_df,\n",
    "    weights = [.2,.8,],\n",
    "    num_simulation = 500,\n",
    "    num_trading_days = 252*10\n",
    ")\n",
    "\n",
    "# Review the simulation input data\n",
    "MC_2080.portfolio_data.head()\n"
   ]
  },
  {
   "cell_type": "code",
   "execution_count": 38,
   "metadata": {},
   "outputs": [
    {
     "name": "stdout",
     "output_type": "stream",
     "text": [
      "Running Monte Carlo simulation number 0.\n",
      "Running Monte Carlo simulation number 50.\n",
      "Running Monte Carlo simulation number 100.\n",
      "Running Monte Carlo simulation number 150.\n",
      "Running Monte Carlo simulation number 200.\n",
      "Running Monte Carlo simulation number 250.\n",
      "Running Monte Carlo simulation number 300.\n",
      "Running Monte Carlo simulation number 350.\n",
      "Running Monte Carlo simulation number 400.\n",
      "Running Monte Carlo simulation number 450.\n"
     ]
    },
    {
     "data": {
      "text/html": [
       "<div>\n",
       "<style scoped>\n",
       "    .dataframe tbody tr th:only-of-type {\n",
       "        vertical-align: middle;\n",
       "    }\n",
       "\n",
       "    .dataframe tbody tr th {\n",
       "        vertical-align: top;\n",
       "    }\n",
       "\n",
       "    .dataframe thead th {\n",
       "        text-align: right;\n",
       "    }\n",
       "</style>\n",
       "<table border=\"1\" class=\"dataframe\">\n",
       "  <thead>\n",
       "    <tr style=\"text-align: right;\">\n",
       "      <th></th>\n",
       "      <th>0</th>\n",
       "      <th>1</th>\n",
       "      <th>2</th>\n",
       "      <th>3</th>\n",
       "      <th>4</th>\n",
       "      <th>5</th>\n",
       "      <th>6</th>\n",
       "      <th>7</th>\n",
       "      <th>8</th>\n",
       "      <th>9</th>\n",
       "      <th>...</th>\n",
       "      <th>490</th>\n",
       "      <th>491</th>\n",
       "      <th>492</th>\n",
       "      <th>493</th>\n",
       "      <th>494</th>\n",
       "      <th>495</th>\n",
       "      <th>496</th>\n",
       "      <th>497</th>\n",
       "      <th>498</th>\n",
       "      <th>499</th>\n",
       "    </tr>\n",
       "  </thead>\n",
       "  <tbody>\n",
       "    <tr>\n",
       "      <th>0</th>\n",
       "      <td>1.000000</td>\n",
       "      <td>1.000000</td>\n",
       "      <td>1.000000</td>\n",
       "      <td>1.000000</td>\n",
       "      <td>1.000000</td>\n",
       "      <td>1.000000</td>\n",
       "      <td>1.000000</td>\n",
       "      <td>1.000000</td>\n",
       "      <td>1.000000</td>\n",
       "      <td>1.000000</td>\n",
       "      <td>...</td>\n",
       "      <td>1.000000</td>\n",
       "      <td>1.000000</td>\n",
       "      <td>1.000000</td>\n",
       "      <td>1.000000</td>\n",
       "      <td>1.000000</td>\n",
       "      <td>1.000000</td>\n",
       "      <td>1.000000</td>\n",
       "      <td>1.000000</td>\n",
       "      <td>1.000000</td>\n",
       "      <td>1.000000</td>\n",
       "    </tr>\n",
       "    <tr>\n",
       "      <th>1</th>\n",
       "      <td>0.992936</td>\n",
       "      <td>0.998843</td>\n",
       "      <td>0.997889</td>\n",
       "      <td>0.991100</td>\n",
       "      <td>1.000446</td>\n",
       "      <td>0.992311</td>\n",
       "      <td>1.004791</td>\n",
       "      <td>1.001921</td>\n",
       "      <td>0.999310</td>\n",
       "      <td>1.007729</td>\n",
       "      <td>...</td>\n",
       "      <td>0.999034</td>\n",
       "      <td>0.998339</td>\n",
       "      <td>0.998421</td>\n",
       "      <td>0.982676</td>\n",
       "      <td>0.990561</td>\n",
       "      <td>0.998022</td>\n",
       "      <td>1.016856</td>\n",
       "      <td>0.984649</td>\n",
       "      <td>0.981694</td>\n",
       "      <td>0.999728</td>\n",
       "    </tr>\n",
       "    <tr>\n",
       "      <th>2</th>\n",
       "      <td>0.977809</td>\n",
       "      <td>1.019602</td>\n",
       "      <td>1.022098</td>\n",
       "      <td>0.994491</td>\n",
       "      <td>0.993309</td>\n",
       "      <td>0.993776</td>\n",
       "      <td>1.008700</td>\n",
       "      <td>1.007520</td>\n",
       "      <td>0.985943</td>\n",
       "      <td>0.997607</td>\n",
       "      <td>...</td>\n",
       "      <td>1.005255</td>\n",
       "      <td>1.003628</td>\n",
       "      <td>0.975850</td>\n",
       "      <td>0.980333</td>\n",
       "      <td>0.998653</td>\n",
       "      <td>0.992880</td>\n",
       "      <td>1.028915</td>\n",
       "      <td>0.990764</td>\n",
       "      <td>0.977684</td>\n",
       "      <td>1.016268</td>\n",
       "    </tr>\n",
       "    <tr>\n",
       "      <th>3</th>\n",
       "      <td>0.962448</td>\n",
       "      <td>1.028060</td>\n",
       "      <td>1.006038</td>\n",
       "      <td>1.003098</td>\n",
       "      <td>0.980320</td>\n",
       "      <td>0.992683</td>\n",
       "      <td>1.001347</td>\n",
       "      <td>1.005571</td>\n",
       "      <td>1.003035</td>\n",
       "      <td>1.002982</td>\n",
       "      <td>...</td>\n",
       "      <td>0.995917</td>\n",
       "      <td>1.011825</td>\n",
       "      <td>0.988137</td>\n",
       "      <td>0.983090</td>\n",
       "      <td>1.011182</td>\n",
       "      <td>0.979921</td>\n",
       "      <td>1.055143</td>\n",
       "      <td>0.982652</td>\n",
       "      <td>0.977387</td>\n",
       "      <td>1.017605</td>\n",
       "    </tr>\n",
       "    <tr>\n",
       "      <th>4</th>\n",
       "      <td>0.967703</td>\n",
       "      <td>1.038943</td>\n",
       "      <td>1.015347</td>\n",
       "      <td>0.992148</td>\n",
       "      <td>0.987184</td>\n",
       "      <td>1.014335</td>\n",
       "      <td>1.002156</td>\n",
       "      <td>0.988085</td>\n",
       "      <td>1.001595</td>\n",
       "      <td>1.000835</td>\n",
       "      <td>...</td>\n",
       "      <td>0.986028</td>\n",
       "      <td>1.013703</td>\n",
       "      <td>0.996989</td>\n",
       "      <td>0.990560</td>\n",
       "      <td>1.014370</td>\n",
       "      <td>0.980521</td>\n",
       "      <td>1.047641</td>\n",
       "      <td>0.981328</td>\n",
       "      <td>0.980814</td>\n",
       "      <td>1.043565</td>\n",
       "    </tr>\n",
       "    <tr>\n",
       "      <th>...</th>\n",
       "      <td>...</td>\n",
       "      <td>...</td>\n",
       "      <td>...</td>\n",
       "      <td>...</td>\n",
       "      <td>...</td>\n",
       "      <td>...</td>\n",
       "      <td>...</td>\n",
       "      <td>...</td>\n",
       "      <td>...</td>\n",
       "      <td>...</td>\n",
       "      <td>...</td>\n",
       "      <td>...</td>\n",
       "      <td>...</td>\n",
       "      <td>...</td>\n",
       "      <td>...</td>\n",
       "      <td>...</td>\n",
       "      <td>...</td>\n",
       "      <td>...</td>\n",
       "      <td>...</td>\n",
       "      <td>...</td>\n",
       "      <td>...</td>\n",
       "    </tr>\n",
       "    <tr>\n",
       "      <th>2516</th>\n",
       "      <td>2.096303</td>\n",
       "      <td>1.544147</td>\n",
       "      <td>4.796966</td>\n",
       "      <td>4.149194</td>\n",
       "      <td>7.259233</td>\n",
       "      <td>5.055318</td>\n",
       "      <td>5.255144</td>\n",
       "      <td>10.672698</td>\n",
       "      <td>5.637351</td>\n",
       "      <td>6.337812</td>\n",
       "      <td>...</td>\n",
       "      <td>2.318175</td>\n",
       "      <td>1.656294</td>\n",
       "      <td>8.849881</td>\n",
       "      <td>2.067027</td>\n",
       "      <td>6.297787</td>\n",
       "      <td>7.894245</td>\n",
       "      <td>5.123422</td>\n",
       "      <td>1.156586</td>\n",
       "      <td>1.461474</td>\n",
       "      <td>3.706258</td>\n",
       "    </tr>\n",
       "    <tr>\n",
       "      <th>2517</th>\n",
       "      <td>2.075300</td>\n",
       "      <td>1.519915</td>\n",
       "      <td>4.862170</td>\n",
       "      <td>4.164321</td>\n",
       "      <td>7.217690</td>\n",
       "      <td>5.065389</td>\n",
       "      <td>5.160324</td>\n",
       "      <td>10.793298</td>\n",
       "      <td>5.695227</td>\n",
       "      <td>6.402487</td>\n",
       "      <td>...</td>\n",
       "      <td>2.273684</td>\n",
       "      <td>1.628201</td>\n",
       "      <td>8.787345</td>\n",
       "      <td>2.066462</td>\n",
       "      <td>6.379886</td>\n",
       "      <td>7.970230</td>\n",
       "      <td>5.035657</td>\n",
       "      <td>1.167186</td>\n",
       "      <td>1.459792</td>\n",
       "      <td>3.828284</td>\n",
       "    </tr>\n",
       "    <tr>\n",
       "      <th>2518</th>\n",
       "      <td>2.067623</td>\n",
       "      <td>1.511183</td>\n",
       "      <td>4.924194</td>\n",
       "      <td>4.118426</td>\n",
       "      <td>7.247328</td>\n",
       "      <td>5.040753</td>\n",
       "      <td>5.155126</td>\n",
       "      <td>10.737909</td>\n",
       "      <td>5.742494</td>\n",
       "      <td>6.509783</td>\n",
       "      <td>...</td>\n",
       "      <td>2.251707</td>\n",
       "      <td>1.634641</td>\n",
       "      <td>8.899022</td>\n",
       "      <td>2.066376</td>\n",
       "      <td>6.523455</td>\n",
       "      <td>8.094066</td>\n",
       "      <td>5.087737</td>\n",
       "      <td>1.167678</td>\n",
       "      <td>1.478075</td>\n",
       "      <td>3.854986</td>\n",
       "    </tr>\n",
       "    <tr>\n",
       "      <th>2519</th>\n",
       "      <td>2.071500</td>\n",
       "      <td>1.507856</td>\n",
       "      <td>4.965541</td>\n",
       "      <td>4.080028</td>\n",
       "      <td>7.180667</td>\n",
       "      <td>5.099976</td>\n",
       "      <td>5.126139</td>\n",
       "      <td>10.629505</td>\n",
       "      <td>5.810572</td>\n",
       "      <td>6.509252</td>\n",
       "      <td>...</td>\n",
       "      <td>2.267790</td>\n",
       "      <td>1.621620</td>\n",
       "      <td>8.932024</td>\n",
       "      <td>2.019549</td>\n",
       "      <td>6.661557</td>\n",
       "      <td>8.070022</td>\n",
       "      <td>5.101441</td>\n",
       "      <td>1.158743</td>\n",
       "      <td>1.491046</td>\n",
       "      <td>3.880383</td>\n",
       "    </tr>\n",
       "    <tr>\n",
       "      <th>2520</th>\n",
       "      <td>2.006538</td>\n",
       "      <td>1.478251</td>\n",
       "      <td>5.040353</td>\n",
       "      <td>4.107053</td>\n",
       "      <td>7.280768</td>\n",
       "      <td>5.118374</td>\n",
       "      <td>5.016874</td>\n",
       "      <td>10.801555</td>\n",
       "      <td>5.703823</td>\n",
       "      <td>6.473400</td>\n",
       "      <td>...</td>\n",
       "      <td>2.260184</td>\n",
       "      <td>1.655191</td>\n",
       "      <td>9.084841</td>\n",
       "      <td>1.998797</td>\n",
       "      <td>6.700627</td>\n",
       "      <td>8.065718</td>\n",
       "      <td>5.101723</td>\n",
       "      <td>1.159079</td>\n",
       "      <td>1.485393</td>\n",
       "      <td>3.861308</td>\n",
       "    </tr>\n",
       "  </tbody>\n",
       "</table>\n",
       "<p>2521 rows × 500 columns</p>\n",
       "</div>"
      ],
      "text/plain": [
       "           0         1         2         3         4         5         6    \\\n",
       "0     1.000000  1.000000  1.000000  1.000000  1.000000  1.000000  1.000000   \n",
       "1     0.992936  0.998843  0.997889  0.991100  1.000446  0.992311  1.004791   \n",
       "2     0.977809  1.019602  1.022098  0.994491  0.993309  0.993776  1.008700   \n",
       "3     0.962448  1.028060  1.006038  1.003098  0.980320  0.992683  1.001347   \n",
       "4     0.967703  1.038943  1.015347  0.992148  0.987184  1.014335  1.002156   \n",
       "...        ...       ...       ...       ...       ...       ...       ...   \n",
       "2516  2.096303  1.544147  4.796966  4.149194  7.259233  5.055318  5.255144   \n",
       "2517  2.075300  1.519915  4.862170  4.164321  7.217690  5.065389  5.160324   \n",
       "2518  2.067623  1.511183  4.924194  4.118426  7.247328  5.040753  5.155126   \n",
       "2519  2.071500  1.507856  4.965541  4.080028  7.180667  5.099976  5.126139   \n",
       "2520  2.006538  1.478251  5.040353  4.107053  7.280768  5.118374  5.016874   \n",
       "\n",
       "            7         8         9    ...       490       491       492  \\\n",
       "0      1.000000  1.000000  1.000000  ...  1.000000  1.000000  1.000000   \n",
       "1      1.001921  0.999310  1.007729  ...  0.999034  0.998339  0.998421   \n",
       "2      1.007520  0.985943  0.997607  ...  1.005255  1.003628  0.975850   \n",
       "3      1.005571  1.003035  1.002982  ...  0.995917  1.011825  0.988137   \n",
       "4      0.988085  1.001595  1.000835  ...  0.986028  1.013703  0.996989   \n",
       "...         ...       ...       ...  ...       ...       ...       ...   \n",
       "2516  10.672698  5.637351  6.337812  ...  2.318175  1.656294  8.849881   \n",
       "2517  10.793298  5.695227  6.402487  ...  2.273684  1.628201  8.787345   \n",
       "2518  10.737909  5.742494  6.509783  ...  2.251707  1.634641  8.899022   \n",
       "2519  10.629505  5.810572  6.509252  ...  2.267790  1.621620  8.932024   \n",
       "2520  10.801555  5.703823  6.473400  ...  2.260184  1.655191  9.084841   \n",
       "\n",
       "           493       494       495       496       497       498       499  \n",
       "0     1.000000  1.000000  1.000000  1.000000  1.000000  1.000000  1.000000  \n",
       "1     0.982676  0.990561  0.998022  1.016856  0.984649  0.981694  0.999728  \n",
       "2     0.980333  0.998653  0.992880  1.028915  0.990764  0.977684  1.016268  \n",
       "3     0.983090  1.011182  0.979921  1.055143  0.982652  0.977387  1.017605  \n",
       "4     0.990560  1.014370  0.980521  1.047641  0.981328  0.980814  1.043565  \n",
       "...        ...       ...       ...       ...       ...       ...       ...  \n",
       "2516  2.067027  6.297787  7.894245  5.123422  1.156586  1.461474  3.706258  \n",
       "2517  2.066462  6.379886  7.970230  5.035657  1.167186  1.459792  3.828284  \n",
       "2518  2.066376  6.523455  8.094066  5.087737  1.167678  1.478075  3.854986  \n",
       "2519  2.019549  6.661557  8.070022  5.101441  1.158743  1.491046  3.880383  \n",
       "2520  1.998797  6.700627  8.065718  5.101723  1.159079  1.485393  3.861308  \n",
       "\n",
       "[2521 rows x 500 columns]"
      ]
     },
     "execution_count": 38,
     "metadata": {},
     "output_type": "execute_result"
    }
   ],
   "source": [
    "# Run the Monte Carlo simulation to forecast 10 years cumulative returns\n",
    "MC_2080.calc_cumulative_return()\n"
   ]
  },
  {
   "cell_type": "code",
   "execution_count": 39,
   "metadata": {},
   "outputs": [
    {
     "data": {
      "image/png": "[encoded data removed]",
      "text/plain": [
       "<Figure size 432x288 with 1 Axes>"
      ]
     },
     "metadata": {
      "needs_background": "light"
     },
     "output_type": "display_data"
    }
   ],
   "source": [
    "# Visualize the 10-year Monte Carlo simulation by creating an\n",
    "# overlay line plot\n",
    "weight_2080_plot = MC_2080.plot_simulation()\n"
   ]
  },
  {
   "cell_type": "code",
   "execution_count": 40,
   "metadata": {},
   "outputs": [
    {
     "data": {
      "image/png": "[encoded data removed]",
      "text/plain": [
       "<Figure size 432x288 with 1 Axes>"
      ]
     },
     "metadata": {
      "needs_background": "light"
     },
     "output_type": "display_data"
    }
   ],
   "source": [
    "# Visualize the probability distribution of the 10-year Monte Carlo simulation \n",
    "# by plotting a histogram\n",
    "distribution_2080_plot = MC_2080.plot_distribution()\n"
   ]
  },
  {
   "cell_type": "code",
   "execution_count": 41,
   "metadata": {},
   "outputs": [
    {
     "name": "stdout",
     "output_type": "stream",
     "text": [
      "count           500.000000\n",
      "mean              4.357032\n",
      "std               2.499762\n",
      "min               0.358881\n",
      "25%               2.529957\n",
      "50%               3.767187\n",
      "75%               5.763846\n",
      "max              20.542942\n",
      "95% CI Lower      1.248734\n",
      "95% CI Upper     10.509116\n",
      "Name: 2520, dtype: float64\n"
     ]
    }
   ],
   "source": [
    "# Generate summary statistics from the 10-year Monte Carlo simulation results\n",
    "# Save the results as a variable\n",
    "weight_2080_table = MC_2080.summarize_cumulative_return()\n",
    "\n",
    "\n",
    "# Review the 10-year Monte Carlo summary statistics\n",
    "print(weight_2080_table)"
   ]
  },
  {
   "cell_type": "markdown",
   "metadata": {},
   "source": [
    "### Answer the following questions:"
   ]
  },
  {
   "cell_type": "markdown",
   "metadata": {},
   "source": [
    "#### Question: Using the current value of only the stock and bond portion of the member's portfolio and the summary statistics that you generated from the new Monte Carlo simulation, what are the lower and upper bounds for the expected value of the portfolio (with the new weights) with a 95% confidence interval?"
   ]
  },
  {
   "cell_type": "code",
   "execution_count": 42,
   "metadata": {},
   "outputs": [
    {
     "name": "stdout",
     "output_type": "stream",
     "text": [
      "The current value of your bond portfolio holding is $22824.00\n",
      "The current value of your equity portfolio holding is $48160.20\n",
      "The current value of your total portfolio holding is $70984.20\n",
      "______________________________________\n"
     ]
    }
   ],
   "source": [
    "# Print the current balance of the stock and bond portion of the members portfolio\n",
    "print(f\"The current value of your bond portfolio holding is ${agg_value:.2f}\")\n",
    "print(f\"The current value of your equity portfolio holding is ${spy_value:.2f}\")\n",
    "print(f\"The current value of your total portfolio holding is ${total_stocks_bonds:.2f}\")\n",
    "\n",
    "print(\"______________________________________\")\n"
   ]
  },
  {
   "cell_type": "code",
   "execution_count": 43,
   "metadata": {},
   "outputs": [
    {
     "name": "stdout",
     "output_type": "stream",
     "text": [
      "There is a 95% chance that the current value of $70984.20 in the portfolio with a 20% / 80% mix in the bond and equity funds over the next 10 years will end within in the range of $88640.39 and $745981.17.\n"
     ]
    }
   ],
   "source": [
    "# Use the lower and upper `95%` confidence intervals to calculate the range of the possible outcomes for the current stock/bond portfolio\n",
    "ci_lower_ten_cumulative_return = round(weight_2080_table[8]*total_stocks_bonds,2)\n",
    "ci_upper_ten_cumulative_return = round(weight_2080_table[9]*total_stocks_bonds,2)\n",
    "\n",
    "# Print the result of your calculations\n",
    "print(f\"There is a 95% chance that the current value of ${total_stocks_bonds:.2f} in the portfolio with a \"\n",
    "      f\"20% / 80% mix in the bond and equity funds over the next 10 years will end within in the range of\"\n",
    "      f\" ${ci_lower_ten_cumulative_return} and ${ci_upper_ten_cumulative_return}.\")\n"
   ]
  },
  {
   "cell_type": "markdown",
   "metadata": {},
   "source": [
    "#### Question: Will weighting the portfolio more heavily to stocks allow the credit union members to retire after only 10 years?"
   ]
  },
  {
   "cell_type": "raw",
   "metadata": {},
   "source": [
    "**Answer** # YOUR ANSWER HERE"
   ]
  },
  {
   "cell_type": "code",
   "execution_count": null,
   "metadata": {},
   "outputs": [],
   "source": []
  }
 ],
 "metadata": {
  "kernelspec": {
   "display_name": "Python 3",
   "language": "python",
   "name": "python3"
  },
  "language_info": {
   "codemirror_mode": {
    "name": "ipython",
    "version": 3
   },
   "file_extension": ".py",
   "mimetype": "text/x-python",
   "name": "python",
   "nbconvert_exporter": "python",
   "pygments_lexer": "ipython3",
   "version": "3.7.10"
  }
 },
 "nbformat": 4,
 "nbformat_minor": 4
}
