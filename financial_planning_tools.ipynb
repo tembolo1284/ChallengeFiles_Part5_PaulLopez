{
 "cells": [
  {
   "cell_type": "markdown",
   "metadata": {},
   "source": [
    "# Financial Planning with APIs and Simulations\n",
    "\n",
    "In this Challenge, you’ll create two financial analysis tools by using a single Jupyter notebook:\n",
    "\n",
    "Part 1: A financial planner for emergencies. The members will be able to use this tool to visualize their current savings. The members can then determine if they have enough reserves for an emergency fund.\n",
    "\n",
    "Part 2: A financial planner for retirement. This tool will forecast the performance of their retirement portfolio in 30 years. To do this, the tool will make an Alpaca API call via the Alpaca SDK to get historical price data for use in Monte Carlo simulations.\n",
    "\n",
    "You’ll use the information from the Monte Carlo simulation to answer questions about the portfolio in your Jupyter notebook.\n",
    "\n"
   ]
  },
  {
   "cell_type": "code",
   "execution_count": 1,
   "metadata": {},
   "outputs": [],
   "source": [
    "# Import the required libraries and dependencies\n",
    "import os\n",
    "import requests\n",
    "import json\n",
    "import pandas as pd\n",
    "from dotenv import load_dotenv\n",
    "import alpaca_trade_api as tradeapi\n",
    "from MCForecastTools import MCSimulation\n",
    "\n",
    "%matplotlib inline"
   ]
  },
  {
   "cell_type": "code",
   "execution_count": 2,
   "metadata": {},
   "outputs": [
    {
     "data": {
      "text/plain": [
       "True"
      ]
     },
     "execution_count": 2,
     "metadata": {},
     "output_type": "execute_result"
    }
   ],
   "source": [
    "# Load the environment variables from the .env file\n",
    "#by calling the load_dotenv function\n",
    "load_dotenv()"
   ]
  },
  {
   "cell_type": "markdown",
   "metadata": {},
   "source": [
    "## Part 1: Create a Financial Planner for Emergencies"
   ]
  },
  {
   "cell_type": "markdown",
   "metadata": {},
   "source": [
    "### Evaluate the Cryptocurrency Wallet by Using the Requests Library\n",
    "\n",
    "In this section, you’ll determine the current value of a member’s cryptocurrency wallet. You’ll collect the current prices for the Bitcoin and Ethereum cryptocurrencies by using the Python Requests library. For the prototype, you’ll assume that the member holds the 1.2 Bitcoins (BTC) and 5.3 Ethereum coins (ETH). To do all this, complete the following steps:\n",
    "\n",
    "1. Create a variable named `monthly_income`, and set its value to `12000`.\n",
    "\n",
    "2. Use the Requests library to get the current price (in US dollars) of Bitcoin (BTC) and Ethereum (ETH) by using the API endpoints that the starter code supplies.\n",
    "\n",
    "3. Navigate the JSON response object to access the current price of each coin, and store each in a variable.\n",
    "\n",
    "    > **Hint** Note the specific identifier for each cryptocurrency in the API JSON response. The Bitcoin identifier is `1`, and the Ethereum identifier is `1027`.\n",
    "\n",
    "4. Calculate the value, in US dollars, of the current amount of each cryptocurrency and of the entire cryptocurrency wallet.\n",
    "\n"
   ]
  },
  {
   "cell_type": "code",
   "execution_count": 3,
   "metadata": {},
   "outputs": [],
   "source": [
    "# The current number of coins for each cryptocurrency asset held in the portfolio.\n",
    "btc_coins = 1.2\n",
    "eth_coins = 5.3"
   ]
  },
  {
   "cell_type": "markdown",
   "metadata": {},
   "source": [
    "#### Step 1: Create a variable named `monthly_income`, and set its value to `12000`."
   ]
  },
  {
   "cell_type": "code",
   "execution_count": 4,
   "metadata": {},
   "outputs": [
    {
     "data": {
      "text/plain": [
       "12000"
      ]
     },
     "execution_count": 4,
     "metadata": {},
     "output_type": "execute_result"
    }
   ],
   "source": [
    "# The monthly amount for the member's household income\n",
    "monthly_income = 12000\n",
    "monthly_income"
   ]
  },
  {
   "cell_type": "markdown",
   "metadata": {},
   "source": [
    "#### Review the endpoint URLs for the API calls to Free Crypto API in order to get the current pricing information for both BTC and ETH."
   ]
  },
  {
   "cell_type": "code",
   "execution_count": 5,
   "metadata": {},
   "outputs": [],
   "source": [
    "# The Free Crypto API Call endpoint URLs for the held cryptocurrency assets\n",
    "btc_url = \"https://api.alternative.me/v2/ticker/Bitcoin/?convert=USD\"\n",
    "eth_url = \"https://api.alternative.me/v2/ticker/Ethereum/?convert=USD\""
   ]
  },
  {
   "cell_type": "markdown",
   "metadata": {},
   "source": [
    "#### Step 2. Use the Requests library to get the current price (in US dollars) of Bitcoin (BTC) and Ethereum (ETH) by using the API endpoints that the starter code supplied."
   ]
  },
  {
   "cell_type": "code",
   "execution_count": 6,
   "metadata": {},
   "outputs": [
    {
     "name": "stdout",
     "output_type": "stream",
     "text": [
      "{\n",
      "    \"data\": {\n",
      "        \"1\": {\n",
      "            \"circulating_supply\": 18842862,\n",
      "            \"id\": 1,\n",
      "            \"last_updated\": 1634153988,\n",
      "            \"max_supply\": 21000000,\n",
      "            \"name\": \"Bitcoin\",\n",
      "            \"quotes\": {\n",
      "                \"USD\": {\n",
      "                    \"market_cap\": 1074388921427,\n",
      "                    \"percent_change_1h\": 0.114190330367345,\n",
      "                    \"percent_change_24h\": 2.09711432481632,\n",
      "                    \"percent_change_7d\": 10.6540571938069,\n",
      "                    \"percentage_change_1h\": 0.114190330367345,\n",
      "                    \"percentage_change_24h\": 2.09711432481632,\n",
      "                    \"percentage_change_7d\": 10.6540571938069,\n",
      "                    \"price\": 57174.0,\n",
      "                    \"volume_24h\": 40521426750\n",
      "                }\n",
      "            },\n",
      "            \"rank\": 1,\n",
      "            \"symbol\": \"BTC\",\n",
      "            \"total_supply\": 18842862,\n",
      "            \"website_slug\": \"bitcoin\"\n",
      "        }\n",
      "    },\n",
      "    \"metadata\": {\n",
      "        \"error\": null,\n",
      "        \"num_cryptocurrencies\": 3105,\n",
      "        \"timestamp\": 1634153988\n",
      "    }\n",
      "}\n"
     ]
    }
   ],
   "source": [
    "# Using the Python requests library, make an API call to access the current price of BTC\n",
    "btc_response = requests.get(btc_url).json()\n",
    "#btc_response - just checked response to make sure it wasn't weird\n",
    "\n",
    "# Use the json.dumps function to review the response data from the API call\n",
    "# Use the indent and sort_keys parameters to make the response object readable\n",
    "print(json.dumps(btc_response, indent=4, sort_keys=True))\n"
   ]
  },
  {
   "cell_type": "code",
   "execution_count": 7,
   "metadata": {},
   "outputs": [
    {
     "name": "stdout",
     "output_type": "stream",
     "text": [
      "{\n",
      "    \"data\": {\n",
      "        \"1027\": {\n",
      "            \"circulating_supply\": 117913628,\n",
      "            \"id\": 1027,\n",
      "            \"last_updated\": 1634153982,\n",
      "            \"max_supply\": 0,\n",
      "            \"name\": \"Ethereum\",\n",
      "            \"quotes\": {\n",
      "                \"USD\": {\n",
      "                    \"market_cap\": 415253593587,\n",
      "                    \"percent_change_1h\": -0.0321118492017378,\n",
      "                    \"percent_change_24h\": 0.686538948290015,\n",
      "                    \"percent_change_7d\": 0.371056270611899,\n",
      "                    \"percentage_change_1h\": -0.0321118492017378,\n",
      "                    \"percentage_change_24h\": 0.686538948290015,\n",
      "                    \"percentage_change_7d\": 0.371056270611899,\n",
      "                    \"price\": 3533.4,\n",
      "                    \"volume_24h\": 17322542667\n",
      "                }\n",
      "            },\n",
      "            \"rank\": 2,\n",
      "            \"symbol\": \"ETH\",\n",
      "            \"total_supply\": 117913628,\n",
      "            \"website_slug\": \"ethereum\"\n",
      "        }\n",
      "    },\n",
      "    \"metadata\": {\n",
      "        \"error\": null,\n",
      "        \"num_cryptocurrencies\": 3105,\n",
      "        \"timestamp\": 1634153982\n",
      "    }\n",
      "}\n"
     ]
    }
   ],
   "source": [
    "# Using the Python requests library, make an API call to access the current price ETH\n",
    "eth_response = requests.get(eth_url).json()\n",
    "#eth_response\n",
    "\n",
    "# Use the json.dumps function to review the response data from the API call\n",
    "# Use the indent and sort_keys parameters to make the response object readable\n",
    "print(json.dumps(eth_response, indent=4, sort_keys=True))\n"
   ]
  },
  {
   "cell_type": "markdown",
   "metadata": {},
   "source": [
    "#### Step 3: Navigate the JSON response object to access the current price of each coin, and store each in a variable."
   ]
  },
  {
   "cell_type": "code",
   "execution_count": 8,
   "metadata": {},
   "outputs": [
    {
     "name": "stdout",
     "output_type": "stream",
     "text": [
      "The price for Bitcoin is $57174.0\n"
     ]
    }
   ],
   "source": [
    "# Navigate the BTC response object to access the current price of BTC\n",
    "btc_price = btc_response['data']['1']['quotes']['USD']['price']\n",
    "# Print the current price of BTC\n",
    "print(f\"The price for Bitcoin is ${btc_price}\")\n"
   ]
  },
  {
   "cell_type": "code",
   "execution_count": 9,
   "metadata": {},
   "outputs": [
    {
     "name": "stdout",
     "output_type": "stream",
     "text": [
      "The price for Ethereum is $3533.4\n"
     ]
    }
   ],
   "source": [
    "# Navigate the BTC response object to access the current price of ETH\n",
    "eth_price = eth_response['data']['1027']['quotes']['USD']['price']\n",
    "# Print the current price of ETH\n",
    "print(f\"The price for Ethereum is ${eth_price}\")\n"
   ]
  },
  {
   "cell_type": "markdown",
   "metadata": {},
   "source": [
    "### Step 4: Calculate the value, in US dollars, of the current amount of each cryptocurrency and of the entire cryptocurrency wallet."
   ]
  },
  {
   "cell_type": "code",
   "execution_count": 10,
   "metadata": {},
   "outputs": [
    {
     "name": "stdout",
     "output_type": "stream",
     "text": [
      "The current value of your Bitcoin holding is $68608.80\n"
     ]
    }
   ],
   "source": [
    "# Compute the current value of the BTC holding \n",
    "btc_value = btc_price * btc_coins\n",
    "\n",
    "# Print current value of your holding in BTC\n",
    "print(f\"The current value of your Bitcoin holding is ${btc_value:.2f}\")\n"
   ]
  },
  {
   "cell_type": "code",
   "execution_count": 11,
   "metadata": {},
   "outputs": [
    {
     "name": "stdout",
     "output_type": "stream",
     "text": [
      "The current value of your Ethereum holding is $18727.02\n"
     ]
    }
   ],
   "source": [
    "# Compute the current value of the ETH holding \n",
    "eth_value = eth_price * eth_coins\n",
    "\n",
    "# Print current value of your holding in ETH\n",
    "print(f\"The current value of your Ethereum holding is ${eth_value:.2f}\")\n"
   ]
  },
  {
   "cell_type": "code",
   "execution_count": 12,
   "metadata": {},
   "outputs": [
    {
     "name": "stdout",
     "output_type": "stream",
     "text": [
      "The current value of your combined Bitcoin and Ethereum holding is $87335.82\n"
     ]
    }
   ],
   "source": [
    "# Compute the total value of the cryptocurrency wallet\n",
    "# Add the value of the BTC holding to the value of the ETH holding\n",
    "total_crypto_wallet = btc_value + eth_value\n",
    "\n",
    "# Print current cryptocurrency wallet balance\n",
    "print(f\"The current value of your combined Bitcoin and Ethereum holding is ${total_crypto_wallet:.2f}\")\n"
   ]
  },
  {
   "cell_type": "markdown",
   "metadata": {},
   "source": [
    "### Evaluate the Stock and Bond Holdings by Using the Alpaca SDK\n",
    "\n",
    "In this section, you’ll determine the current value of a member’s stock and bond holdings. You’ll make an API call to Alpaca via the Alpaca SDK to get the current closing prices of the SPDR S&P 500 ETF Trust (ticker: SPY) and of the iShares Core US Aggregate Bond ETF (ticker: AGG). For the prototype, assume that the member holds 110 shares of SPY, which represents the stock portion of their portfolio, and 200 shares of AGG, which represents the bond portion. To do all this, complete the following steps:\n",
    "\n",
    "1. In the `Starter_Code` folder, create an environment file (`.env`) to store the values of your Alpaca API key and Alpaca secret key.\n",
    "\n",
    "2. Set the variables for the Alpaca API and secret keys. Using the Alpaca SDK, create the Alpaca `tradeapi.REST` object. In this object, include the parameters for the Alpaca API key, the secret key, and the version number.\n",
    "\n",
    "3. Set the following parameters for the Alpaca API call:\n",
    "\n",
    "    - `tickers`: Use the tickers for the member’s stock and bond holdings.\n",
    "\n",
    "    - `timeframe`: Use a time frame of one day.\n",
    "\n",
    "    - `start_date` and `end_date`: Use the same date for these parameters, and format them with the date of the previous weekday (or `2020-08-07`). This is because you want the one closing price for the most-recent trading day.\n",
    "\n",
    "4. Get the current closing prices for `SPY` and `AGG` by using the Alpaca `get_barset` function. Format the response as a Pandas DataFrame by including the `df` property at the end of the `get_barset` function.\n",
    "\n",
    "5. Navigating the Alpaca response DataFrame, select the `SPY` and `AGG` closing prices, and store them as variables.\n",
    "\n",
    "6. Calculate the value, in US dollars, of the current amount of shares in each of the stock and bond portions of the portfolio, and print the results.\n"
   ]
  },
  {
   "cell_type": "markdown",
   "metadata": {},
   "source": [
    "#### Review the total number of shares held in both (SPY) and (AGG)."
   ]
  },
  {
   "cell_type": "code",
   "execution_count": 13,
   "metadata": {},
   "outputs": [],
   "source": [
    "# Current amount of shares held in both the stock (SPY) and bond (AGG) portion of the portfolio.\n",
    "spy_shares = 110\n",
    "agg_shares = 200\n"
   ]
  },
  {
   "cell_type": "markdown",
   "metadata": {},
   "source": [
    "#### Step 1: In the `Starter_Code` folder, create an environment file (`.env`) to store the values of your Alpaca API key and Alpaca secret key."
   ]
  },
  {
   "cell_type": "markdown",
   "metadata": {},
   "source": [
    "#### Step 2: Set the variables for the Alpaca API and secret keys. Using the Alpaca SDK, create the Alpaca `tradeapi.REST` object. In this object, include the parameters for the Alpaca API key, the secret key, and the version number."
   ]
  },
  {
   "cell_type": "code",
   "execution_count": 14,
   "metadata": {},
   "outputs": [
    {
     "data": {
      "text/plain": [
       "str"
      ]
     },
     "metadata": {},
     "output_type": "display_data"
    },
    {
     "data": {
      "text/plain": [
       "str"
      ]
     },
     "metadata": {},
     "output_type": "display_data"
    }
   ],
   "source": [
    "# Set the variables for the Alpaca API and secret keys\n",
    "alpaca_api_key = os.getenv(\"ALPACA_API_KEY\")\n",
    "alpaca_secret_key = os.getenv(\"ALPACA_SECRET_KEY\")\n",
    "\n",
    "# Check the values were imported correctly by evaluating the type of each\n",
    "display(type(alpaca_api_key))\n",
    "display(type(alpaca_secret_key))\n",
    "\n",
    "# Create the Alpaca tradeapi.REST object\n",
    "alpaca = tradeapi.REST(alpaca_api_key, alpaca_secret_key, api_version=\"v2\")\n"
   ]
  },
  {
   "cell_type": "markdown",
   "metadata": {},
   "source": [
    "#### Step 3: Set the following parameters for the Alpaca API call:\n",
    "\n",
    "- `tickers`: Use the tickers for the member’s stock and bond holdings.\n",
    "\n",
    "- `timeframe`: Use a time frame of one day.\n",
    "\n",
    "- `start_date` and `end_date`: Use the same date for these parameters, and format them with the date of the previous weekday (or `2020-08-07`). This is because you want the one closing price for the most-recent trading day.\n"
   ]
  },
  {
   "cell_type": "code",
   "execution_count": 15,
   "metadata": {},
   "outputs": [],
   "source": [
    "# Set the tickers for both the bond and stock portion of the portfolio\n",
    "tickers = [\"AGG\", \"SPY\"]\n",
    "\n",
    "# Set timeframe to 1D \n",
    "timeframe = \"1D\"\n",
    "\n",
    "# Format current date as ISO format\n",
    "# Set both the start and end date at the date of your prior weekday \n",
    "# This will give you the closing price of the previous trading day\n",
    "# Alternatively you can use a start and end date of 2020-08-07\n",
    "start_date = pd.Timestamp(\"2021-10-08\", tz=\"America/New_York\").isoformat()\n",
    "end_date = pd.Timestamp(\"2021-10-08\", tz=\"America/New_York\").isoformat()\n",
    "limit_rows = 1000\n"
   ]
  },
  {
   "cell_type": "markdown",
   "metadata": {},
   "source": [
    "#### Step 4: Get the current closing prices for `SPY` and `AGG` by using the Alpaca `get_barset` function. Format the response as a Pandas DataFrame by including the `df` property at the end of the `get_barset` function."
   ]
  },
  {
   "cell_type": "code",
   "execution_count": 16,
   "metadata": {},
   "outputs": [
    {
     "data": {
      "text/html": [
       "<div>\n",
       "<style scoped>\n",
       "    .dataframe tbody tr th:only-of-type {\n",
       "        vertical-align: middle;\n",
       "    }\n",
       "\n",
       "    .dataframe tbody tr th {\n",
       "        vertical-align: top;\n",
       "    }\n",
       "\n",
       "    .dataframe thead tr th {\n",
       "        text-align: left;\n",
       "    }\n",
       "\n",
       "    .dataframe thead tr:last-of-type th {\n",
       "        text-align: right;\n",
       "    }\n",
       "</style>\n",
       "<table border=\"1\" class=\"dataframe\">\n",
       "  <thead>\n",
       "    <tr>\n",
       "      <th></th>\n",
       "      <th colspan=\"5\" halign=\"left\">AGG</th>\n",
       "      <th colspan=\"5\" halign=\"left\">SPY</th>\n",
       "    </tr>\n",
       "    <tr>\n",
       "      <th></th>\n",
       "      <th>open</th>\n",
       "      <th>high</th>\n",
       "      <th>low</th>\n",
       "      <th>close</th>\n",
       "      <th>volume</th>\n",
       "      <th>open</th>\n",
       "      <th>high</th>\n",
       "      <th>low</th>\n",
       "      <th>close</th>\n",
       "      <th>volume</th>\n",
       "    </tr>\n",
       "    <tr>\n",
       "      <th>time</th>\n",
       "      <th></th>\n",
       "      <th></th>\n",
       "      <th></th>\n",
       "      <th></th>\n",
       "      <th></th>\n",
       "      <th></th>\n",
       "      <th></th>\n",
       "      <th></th>\n",
       "      <th></th>\n",
       "      <th></th>\n",
       "    </tr>\n",
       "  </thead>\n",
       "  <tbody>\n",
       "    <tr>\n",
       "      <th>2021-10-08 00:00:00-04:00</th>\n",
       "      <td>114.31</td>\n",
       "      <td>114.35</td>\n",
       "      <td>114.07</td>\n",
       "      <td>114.12</td>\n",
       "      <td>4207570</td>\n",
       "      <td>439.48</td>\n",
       "      <td>439.89</td>\n",
       "      <td>437.19</td>\n",
       "      <td>437.82</td>\n",
       "      <td>57510090</td>\n",
       "    </tr>\n",
       "  </tbody>\n",
       "</table>\n",
       "</div>"
      ],
      "text/plain": [
       "                              AGG                                      SPY  \\\n",
       "                             open    high     low   close   volume    open   \n",
       "time                                                                         \n",
       "2021-10-08 00:00:00-04:00  114.31  114.35  114.07  114.12  4207570  439.48   \n",
       "\n",
       "                                                             \n",
       "                             high     low   close    volume  \n",
       "time                                                         \n",
       "2021-10-08 00:00:00-04:00  439.89  437.19  437.82  57510090  "
      ]
     },
     "execution_count": 16,
     "metadata": {},
     "output_type": "execute_result"
    }
   ],
   "source": [
    "# Use the Alpaca get_barset function to get current closing prices the portfolio\n",
    "# Be sure to set the `df` property after the function to format the response object as a DataFrame\n",
    "prices_df = alpaca.get_barset(tickers, timeframe, start=start_date, end=end_date, limit=limit_rows).df\n",
    "\n",
    "# Review the first five rows of the resulting DataFrame \n",
    "prices_df.head()\n"
   ]
  },
  {
   "cell_type": "markdown",
   "metadata": {},
   "source": [
    "#### Step 5: Navigating the Alpaca response DataFrame, select the `SPY` and `AGG` closing prices, and store them as variables."
   ]
  },
  {
   "cell_type": "code",
   "execution_count": 17,
   "metadata": {},
   "outputs": [
    {
     "name": "stdout",
     "output_type": "stream",
     "text": [
      "114.12\n"
     ]
    }
   ],
   "source": [
    "# Access the closing price for AGG from the Alpaca DataFrame\n",
    "# Converting the value to a floating point number\n",
    "agg_close_price = float(prices_df[\"AGG\"][\"close\"])\n",
    "\n",
    "# Print the AGG closing price\n",
    "print(agg_close_price)\n"
   ]
  },
  {
   "cell_type": "code",
   "execution_count": 18,
   "metadata": {},
   "outputs": [
    {
     "name": "stdout",
     "output_type": "stream",
     "text": [
      "437.82\n"
     ]
    }
   ],
   "source": [
    "# Access the closing price for SPY from the Alpaca DataFrame\n",
    "# Converting the value to a floating point number\n",
    "spy_close_price = float(prices_df[\"SPY\"][\"close\"])\n",
    "\n",
    "# Print the SPY closing price\n",
    "print(spy_close_price)\n"
   ]
  },
  {
   "cell_type": "markdown",
   "metadata": {},
   "source": [
    "#### Step 6: Calculate the value, in US dollars, of the current amount of shares in each of the stock and bond portions of the portfolio, and print the results."
   ]
  },
  {
   "cell_type": "code",
   "execution_count": 19,
   "metadata": {},
   "outputs": [
    {
     "name": "stdout",
     "output_type": "stream",
     "text": [
      "The current value of your bond portfolio holding is $22824.00\n"
     ]
    }
   ],
   "source": [
    "# Calculate the current value of the bond portion of the portfolio\n",
    "agg_value = agg_shares * agg_close_price\n",
    "\n",
    "# Print the current value of the bond portfolio\n",
    "print(f\"The current value of your bond portfolio holding is ${agg_value:.2f}\")\n"
   ]
  },
  {
   "cell_type": "code",
   "execution_count": 20,
   "metadata": {},
   "outputs": [
    {
     "name": "stdout",
     "output_type": "stream",
     "text": [
      "The current value of your equity portfolio holding is $48160.20\n"
     ]
    }
   ],
   "source": [
    "# Calculate the current value of the stock portion of the portfolio\n",
    "spy_value = spy_shares * spy_close_price\n",
    "\n",
    "# Print the current value of the stock portfolio\n",
    "print(f\"The current value of your equity portfolio holding is ${spy_value:.2f}\")\n"
   ]
  },
  {
   "cell_type": "code",
   "execution_count": 21,
   "metadata": {},
   "outputs": [
    {
     "name": "stdout",
     "output_type": "stream",
     "text": [
      "The current value of your total portfolio holding is $70984.20\n"
     ]
    }
   ],
   "source": [
    "# Calculate the total value of the stock and bond portion of the portfolio\n",
    "total_stocks_bonds = agg_value + spy_value\n",
    "\n",
    "# Print the current balance of the stock and bond portion of the portfolio\n",
    "print(f\"The current value of your total portfolio holding is ${total_stocks_bonds:.2f}\")\n",
    "\n"
   ]
  },
  {
   "cell_type": "code",
   "execution_count": 22,
   "metadata": {},
   "outputs": [
    {
     "name": "stdout",
     "output_type": "stream",
     "text": [
      "The current value of your total portfolio holding of crypto currency, bond, and equity holding is $158320.02\n"
     ]
    }
   ],
   "source": [
    "# Calculate the total value of the member's entire savings portfolio\n",
    "# Add the value of the cryptocurrency wallet to the value of the total stocks and bonds\n",
    "total_portfolio = total_stocks_bonds + total_crypto_wallet\n",
    "\n",
    "# Print current cryptocurrency wallet balance\n",
    "print(f\"The current value of your total portfolio holding of crypto currency, bond, and equity holding is ${total_portfolio:.2f}\")"
   ]
  },
  {
   "cell_type": "markdown",
   "metadata": {},
   "source": [
    "### Evaluate the Emergency Fund\n",
    "\n",
    "In this section, you’ll use the valuations for the cryptocurrency wallet and for the stock and bond portions of the portfolio to determine if the credit union member has enough savings to build an emergency fund into their financial plan. To do this, complete the following steps:\n",
    "\n",
    "1. Create a Python list named `savings_data` that has two elements. The first element contains the total value of the cryptocurrency wallet. The second element contains the total value of the stock and bond portions of the portfolio.\n",
    "\n",
    "2. Use the `savings_data` list to create a Pandas DataFrame named `savings_df`, and then display this DataFrame. The function to create the DataFrame should take the following three parameters:\n",
    "\n",
    "    - `savings_data`: Use the list that you just created.\n",
    "\n",
    "    - `columns`: Set this parameter equal to a Python list with a single value called `amount`.\n",
    "\n",
    "    - `index`: Set this parameter equal to a Python list with the values of `crypto` and `stock/bond`.\n",
    "\n",
    "3. Use the `savings_df` DataFrame to plot a pie chart that visualizes the composition of the member’s portfolio. The y-axis of the pie chart uses `amount`. Be sure to add a title.\n",
    "\n",
    "4. Using Python, determine if the current portfolio has enough to create an emergency fund as part of the member’s financial plan. Ideally, an emergency fund should equal to three times the member’s monthly income. To do this, implement the following steps:\n",
    "\n",
    "    1. Create a variable named `emergency_fund_value`, and set it equal to three times the value of the member’s `monthly_income` of $12000. (You set this earlier in Part 1).\n",
    "\n",
    "    2. Create a series of three if statements to determine if the member’s total portfolio is large enough to fund the emergency portfolio:\n",
    "\n",
    "        1. If the total portfolio value is greater than the emergency fund value, display a message congratulating the member for having enough money in this fund.\n",
    "\n",
    "        2. Else if the total portfolio value is equal to the emergency fund value, display a message congratulating the member on reaching this important financial goal.\n",
    "\n",
    "        3. Else the total portfolio is less than the emergency fund value, so display a message showing how many dollars away the member is from reaching the goal. (Subtract the total portfolio value from the emergency fund value.)\n"
   ]
  },
  {
   "cell_type": "markdown",
   "metadata": {},
   "source": [
    "#### Step 1: Create a Python list named `savings_data` that has two elements. The first element contains the total value of the cryptocurrency wallet. The second element contains the total value of the stock and bond portions of the portfolio."
   ]
  },
  {
   "cell_type": "code",
   "execution_count": 23,
   "metadata": {},
   "outputs": [
    {
     "data": {
      "text/plain": [
       "87335.82"
      ]
     },
     "execution_count": 23,
     "metadata": {},
     "output_type": "execute_result"
    }
   ],
   "source": [
    "# Consolidate financial assets data into a Python list\n",
    "savings_data = [total_crypto_wallet, total_stocks_bonds]\n",
    "\n",
    "# Review the Python list savings_data\n",
    "savings_data[0]\n",
    "    "
   ]
  },
  {
   "cell_type": "markdown",
   "metadata": {},
   "source": [
    "#### Step 2: Use the `savings_data` list to create a Pandas DataFrame named `savings_df`, and then display this DataFrame. The function to create the DataFrame should take the following three parameters:\n",
    "\n",
    "- `savings_data`: Use the list that you just created.\n",
    "\n",
    "- `columns`: Set this parameter equal to a Python list with a single value called `amount`.\n",
    "\n",
    "- `index`: Set this parameter equal to a Python list with the values of `crypto` and `stock/bond`.\n"
   ]
  },
  {
   "cell_type": "code",
   "execution_count": 24,
   "metadata": {},
   "outputs": [
    {
     "data": {
      "text/html": [
       "<div>\n",
       "<style scoped>\n",
       "    .dataframe tbody tr th:only-of-type {\n",
       "        vertical-align: middle;\n",
       "    }\n",
       "\n",
       "    .dataframe tbody tr th {\n",
       "        vertical-align: top;\n",
       "    }\n",
       "\n",
       "    .dataframe thead th {\n",
       "        text-align: right;\n",
       "    }\n",
       "</style>\n",
       "<table border=\"1\" class=\"dataframe\">\n",
       "  <thead>\n",
       "    <tr style=\"text-align: right;\">\n",
       "      <th></th>\n",
       "      <th>amount</th>\n",
       "    </tr>\n",
       "  </thead>\n",
       "  <tbody>\n",
       "    <tr>\n",
       "      <th>crypto</th>\n",
       "      <td>87335.82</td>\n",
       "    </tr>\n",
       "    <tr>\n",
       "      <th>stock/bond</th>\n",
       "      <td>70984.20</td>\n",
       "    </tr>\n",
       "  </tbody>\n",
       "</table>\n",
       "</div>"
      ],
      "text/plain": [
       "              amount\n",
       "crypto      87335.82\n",
       "stock/bond  70984.20"
      ]
     },
     "execution_count": 24,
     "metadata": {},
     "output_type": "execute_result"
    }
   ],
   "source": [
    "# Create a Pandas DataFrame called savings_df \n",
    "#savings_df =  pd.DataFrame({\"savings_data\": savings_data,\"columns\": \"amount\", \"index\" : [\"crypto\", \"stock/bond\"]})\n",
    "savings_df =  pd.DataFrame({\"amount\": savings_data}, index=[\"crypto\", \"stock/bond\"])\n",
    "\n",
    "# Display the savings_df DataFrame\n",
    "savings_df\n"
   ]
  },
  {
   "cell_type": "markdown",
   "metadata": {},
   "source": [
    "#### Step 3: Use the `savings_df` DataFrame to plot a pie chart that visualizes the composition of the member’s portfolio. The y-axis of the pie chart uses `amount`. Be sure to add a title."
   ]
  },
  {
   "cell_type": "code",
   "execution_count": 25,
   "metadata": {},
   "outputs": [
    {
     "data": {
      "text/plain": [
       "<AxesSubplot:title={'center':'Portfolio Composition - Crypto, Equity and Bond Holdings '}, ylabel='amount'>"
      ]
     },
     "execution_count": 25,
     "metadata": {},
     "output_type": "execute_result"
    },
    {
     "data": {
      "image/png": "[encoded data removed]",
      "text/plain": [
       "<Figure size 432x288 with 1 Axes>"
      ]
     },
     "metadata": {},
     "output_type": "display_data"
    }
   ],
   "source": [
    "# Plot the total value of the member's portfolio (crypto and stock/bond) in a pie chart\n",
    "#pie_values_df = pd.DataFrame({'Value':[aapl_value, msft_value]},index=['Apple', 'MSFT'])\n",
    "#pie_values_df\n",
    "savings_df.plot.pie(y='amount', title='Portfolio Composition - Crypto, Equity and Bond Holdings ')\n"
   ]
  },
  {
   "cell_type": "markdown",
   "metadata": {},
   "source": [
    "#### Step 4: Using Python, determine if the current portfolio has enough to create an emergency fund as part of the member’s financial plan. Ideally, an emergency fund should equal to three times the member’s monthly income. To do this, implement the following steps:\n",
    "\n",
    "Step 1. Create a variable named `emergency_fund_value`, and set it equal to three times the value of the member’s `monthly_income` of 12000. (You set this earlier in Part 1).\n",
    "\n",
    "Step 2. Create a series of three if statements to determine if the member’s total portfolio is large enough to fund the emergency portfolio:\n",
    "\n",
    "* If the total portfolio value is greater than the emergency fund value, display a message congratulating the member for having enough money in this fund.\n",
    "\n",
    "* Else if the total portfolio value is equal to the emergency fund value, display a message congratulating the member on reaching this important financial goal.\n",
    "\n",
    "* Else the total portfolio is less than the emergency fund value, so display a message showing how many dollars away the member is from reaching the goal. (Subtract the total portfolio value from the emergency fund value.)\n"
   ]
  },
  {
   "cell_type": "markdown",
   "metadata": {},
   "source": [
    "##### Step 4-1: Create a variable named `emergency_fund_value`, and set it equal to three times the value of the member’s `monthly_income` of 12000. (You set this earlier in Part 1)."
   ]
  },
  {
   "cell_type": "code",
   "execution_count": 26,
   "metadata": {},
   "outputs": [
    {
     "data": {
      "text/plain": [
       "36000"
      ]
     },
     "execution_count": 26,
     "metadata": {},
     "output_type": "execute_result"
    }
   ],
   "source": [
    "# Create a variable named emergency_fund_value\n",
    "emergency_fund_value = monthly_income * 3\n",
    "\n",
    "emergency_fund_value\n",
    "\n"
   ]
  },
  {
   "cell_type": "markdown",
   "metadata": {},
   "source": [
    "##### Step 4-2: Create a series of three if statements to determine if the member’s total portfolio is large enough to fund the emergency portfolio:\n",
    "\n",
    "* If the total portfolio value is greater than the emergency fund value, display a message congratulating the member for having enough money in this fund.\n",
    "\n",
    "* Else if the total portfolio value is equal to the emergency fund value, display a message congratulating the member on reaching this important financial goal.\n",
    "\n",
    "* Else the total portfolio is less than the emergency fund value, so display a message showing how many dollars away the member is from reaching the goal. (Subtract the total portfolio value from the emergency fund value.)"
   ]
  },
  {
   "cell_type": "code",
   "execution_count": 27,
   "metadata": {},
   "outputs": [
    {
     "name": "stdout",
     "output_type": "stream",
     "text": [
      "Congrats to you! You have enough money in this fund!\n"
     ]
    }
   ],
   "source": [
    "# Evaluate the possibility of creating an emergency fund with 3 conditions:\n",
    "# if total port > emergency then congrats to you guy\n",
    "if total_portfolio > emergency_fund_value:\n",
    "    print(\"Congrats to you! You have enough money in this fund!\")\n",
    "# if total port = emergency then good job for reaching the emergency fund financial goal    \n",
    "elif total_portfolio == emergency_fund_value:\n",
    "    print(\"Well done you have reached an important financial goal and funded your emergency fund\")\n",
    "    \n",
    "else:\n",
    "# if port < emergency then you are emergency - port value away from reaching your goal\n",
    "    print(f\"Sorry, but you are still {emergency_fund_value - total_portfolio:.2f} dollars away from fully funding your emergency fund.\")\n",
    "\n",
    "\n"
   ]
  },
  {
   "cell_type": "markdown",
   "metadata": {},
   "source": [
    "## Part 2: Create a Financial Planner for Retirement"
   ]
  },
  {
   "cell_type": "markdown",
   "metadata": {},
   "source": [
    "### Create the Monte Carlo Simulation\n",
    "\n",
    "In this section, you’ll use the MCForecastTools library to create a Monte Carlo simulation for the member’s savings portfolio. To do this, complete the following steps:\n",
    "\n",
    "1. Make an API call via the Alpaca SDK to get 3 years of historical closing prices for a traditional 60/40 portfolio split: 60% stocks (SPY) and 40% bonds (AGG).\n",
    "\n",
    "2. Run a Monte Carlo simulation of 500 samples and 30 years for the 60/40 portfolio, and then plot the results.The following image shows the overlay line plot resulting from a simulation with these characteristics. However, because a random number generator is used to run each live Monte Carlo simulation, your image will differ slightly from this exact image:\n",
    "\n",
    "![A screenshot depicts the resulting plot.](Images/5-4-monte-carlo-line-plot.png)\n",
    "\n",
    "3. Plot the probability distribution of the Monte Carlo simulation. Plot the probability distribution of the Monte Carlo simulation. The following image shows the histogram plot resulting from a simulation with these characteristics. However, because a random number generator is used to run each live Monte Carlo simulation, your image will differ slightly from this exact image:\n",
    "\n",
    "![A screenshot depicts the histogram plot.](Images/5-4-monte-carlo-histogram.png)\n",
    "\n",
    "4. Generate the summary statistics for the Monte Carlo simulation.\n",
    "\n"
   ]
  },
  {
   "cell_type": "markdown",
   "metadata": {},
   "source": [
    "#### Step 1: Make an API call via the Alpaca SDK to get 3 years of historical closing prices for a traditional 60/40 portfolio split: 60% stocks (SPY) and 40% bonds (AGG)."
   ]
  },
  {
   "cell_type": "code",
   "execution_count": 28,
   "metadata": {},
   "outputs": [],
   "source": [
    "# Set start and end dates of 3 years back from your current date\n",
    "# Alternatively, you can use an end date of 2020-08-07 and work 3 years back from that date \n",
    "start_date = pd.Timestamp(\"2018-10-18\", tz=\"America/New_York\").isoformat()\n",
    "end_date = pd.Timestamp(\"2021-10-08\", tz=\"America/New_York\").isoformat()\n",
    "\n",
    "# Set number of rows to 1000 to retrieve the maximum amount of rows\n",
    "limit_rows = 1000"
   ]
  },
  {
   "cell_type": "code",
   "execution_count": 29,
   "metadata": {},
   "outputs": [
    {
     "data": {
      "text/plain": [
       "['AGG', 'SPY']"
      ]
     },
     "execution_count": 29,
     "metadata": {},
     "output_type": "execute_result"
    }
   ],
   "source": [
    "# Use the Alpaca get_barset function to make the API call to get the 3 years worth of pricing data\n",
    "# The tickers and timeframe parameters should have been set in Part 1 of this activity \n",
    "# The start and end dates should be updated with the information set above\n",
    "# Remember to add the df property to the end of the call so the response is returned as a DataFrame\n",
    "prices_df = alpaca.get_barset(\n",
    "    tickers,\n",
    "    timeframe,\n",
    "    start=start_date,\n",
    "    end=end_date,\n",
    "    limit=limit_rows\n",
    ").df\n",
    "\n",
    "# Display both the first and last five rows of the DataFrame\n",
    "prices_df.head()\n",
    "prices_df.tail()\n",
    "tickers"
   ]
  },
  {
   "cell_type": "markdown",
   "metadata": {},
   "source": [
    "#### Step 2: Run a Monte Carlo simulation of 500 samples and 30 years for the 60/40 portfolio, and then plot the results."
   ]
  },
  {
   "cell_type": "code",
   "execution_count": 30,
   "metadata": {},
   "outputs": [
    {
     "data": {
      "text/html": [
       "<div>\n",
       "<style scoped>\n",
       "    .dataframe tbody tr th:only-of-type {\n",
       "        vertical-align: middle;\n",
       "    }\n",
       "\n",
       "    .dataframe tbody tr th {\n",
       "        vertical-align: top;\n",
       "    }\n",
       "\n",
       "    .dataframe thead tr th {\n",
       "        text-align: left;\n",
       "    }\n",
       "\n",
       "    .dataframe thead tr:last-of-type th {\n",
       "        text-align: right;\n",
       "    }\n",
       "</style>\n",
       "<table border=\"1\" class=\"dataframe\">\n",
       "  <thead>\n",
       "    <tr>\n",
       "      <th></th>\n",
       "      <th colspan=\"6\" halign=\"left\">AGG</th>\n",
       "      <th colspan=\"6\" halign=\"left\">SPY</th>\n",
       "    </tr>\n",
       "    <tr>\n",
       "      <th></th>\n",
       "      <th>open</th>\n",
       "      <th>high</th>\n",
       "      <th>low</th>\n",
       "      <th>close</th>\n",
       "      <th>volume</th>\n",
       "      <th>daily_return</th>\n",
       "      <th>open</th>\n",
       "      <th>high</th>\n",
       "      <th>low</th>\n",
       "      <th>close</th>\n",
       "      <th>volume</th>\n",
       "      <th>daily_return</th>\n",
       "    </tr>\n",
       "    <tr>\n",
       "      <th>time</th>\n",
       "      <th></th>\n",
       "      <th></th>\n",
       "      <th></th>\n",
       "      <th></th>\n",
       "      <th></th>\n",
       "      <th></th>\n",
       "      <th></th>\n",
       "      <th></th>\n",
       "      <th></th>\n",
       "      <th></th>\n",
       "      <th></th>\n",
       "      <th></th>\n",
       "    </tr>\n",
       "  </thead>\n",
       "  <tbody>\n",
       "    <tr>\n",
       "      <th>2018-10-18 00:00:00-04:00</th>\n",
       "      <td>104.39</td>\n",
       "      <td>104.6195</td>\n",
       "      <td>104.375</td>\n",
       "      <td>104.460</td>\n",
       "      <td>2687836.0</td>\n",
       "      <td>NaN</td>\n",
       "      <td>279.40</td>\n",
       "      <td>280.07</td>\n",
       "      <td>274.97</td>\n",
       "      <td>276.47</td>\n",
       "      <td>106592503</td>\n",
       "      <td>NaN</td>\n",
       "    </tr>\n",
       "    <tr>\n",
       "      <th>2018-10-19 00:00:00-04:00</th>\n",
       "      <td>104.47</td>\n",
       "      <td>104.5500</td>\n",
       "      <td>104.340</td>\n",
       "      <td>104.370</td>\n",
       "      <td>2912850.0</td>\n",
       "      <td>-0.000862</td>\n",
       "      <td>277.12</td>\n",
       "      <td>279.30</td>\n",
       "      <td>275.47</td>\n",
       "      <td>276.19</td>\n",
       "      <td>86816021</td>\n",
       "      <td>-0.001013</td>\n",
       "    </tr>\n",
       "    <tr>\n",
       "      <th>2018-10-22 00:00:00-04:00</th>\n",
       "      <td>104.47</td>\n",
       "      <td>104.5200</td>\n",
       "      <td>104.340</td>\n",
       "      <td>104.350</td>\n",
       "      <td>2634319.0</td>\n",
       "      <td>-0.000192</td>\n",
       "      <td>277.00</td>\n",
       "      <td>277.36</td>\n",
       "      <td>274.41</td>\n",
       "      <td>275.06</td>\n",
       "      <td>64990700</td>\n",
       "      <td>-0.004091</td>\n",
       "    </tr>\n",
       "    <tr>\n",
       "      <th>2018-10-23 00:00:00-04:00</th>\n",
       "      <td>104.67</td>\n",
       "      <td>104.7400</td>\n",
       "      <td>104.475</td>\n",
       "      <td>104.485</td>\n",
       "      <td>3281760.0</td>\n",
       "      <td>0.001294</td>\n",
       "      <td>270.94</td>\n",
       "      <td>274.87</td>\n",
       "      <td>268.61</td>\n",
       "      <td>273.54</td>\n",
       "      <td>113790534</td>\n",
       "      <td>-0.005526</td>\n",
       "    </tr>\n",
       "    <tr>\n",
       "      <th>2018-10-24 00:00:00-04:00</th>\n",
       "      <td>104.69</td>\n",
       "      <td>104.8100</td>\n",
       "      <td>104.670</td>\n",
       "      <td>104.760</td>\n",
       "      <td>4029453.0</td>\n",
       "      <td>0.002632</td>\n",
       "      <td>273.33</td>\n",
       "      <td>273.76</td>\n",
       "      <td>264.70</td>\n",
       "      <td>265.22</td>\n",
       "      <td>130172487</td>\n",
       "      <td>-0.030416</td>\n",
       "    </tr>\n",
       "  </tbody>\n",
       "</table>\n",
       "</div>"
      ],
      "text/plain": [
       "                              AGG                                         \\\n",
       "                             open      high      low    close     volume   \n",
       "time                                                                       \n",
       "2018-10-18 00:00:00-04:00  104.39  104.6195  104.375  104.460  2687836.0   \n",
       "2018-10-19 00:00:00-04:00  104.47  104.5500  104.340  104.370  2912850.0   \n",
       "2018-10-22 00:00:00-04:00  104.47  104.5200  104.340  104.350  2634319.0   \n",
       "2018-10-23 00:00:00-04:00  104.67  104.7400  104.475  104.485  3281760.0   \n",
       "2018-10-24 00:00:00-04:00  104.69  104.8100  104.670  104.760  4029453.0   \n",
       "\n",
       "                                           SPY                          \\\n",
       "                          daily_return    open    high     low   close   \n",
       "time                                                                     \n",
       "2018-10-18 00:00:00-04:00          NaN  279.40  280.07  274.97  276.47   \n",
       "2018-10-19 00:00:00-04:00    -0.000862  277.12  279.30  275.47  276.19   \n",
       "2018-10-22 00:00:00-04:00    -0.000192  277.00  277.36  274.41  275.06   \n",
       "2018-10-23 00:00:00-04:00     0.001294  270.94  274.87  268.61  273.54   \n",
       "2018-10-24 00:00:00-04:00     0.002632  273.33  273.76  264.70  265.22   \n",
       "\n",
       "                                                   \n",
       "                              volume daily_return  \n",
       "time                                               \n",
       "2018-10-18 00:00:00-04:00  106592503          NaN  \n",
       "2018-10-19 00:00:00-04:00   86816021    -0.001013  \n",
       "2018-10-22 00:00:00-04:00   64990700    -0.004091  \n",
       "2018-10-23 00:00:00-04:00  113790534    -0.005526  \n",
       "2018-10-24 00:00:00-04:00  130172487    -0.030416  "
      ]
     },
     "execution_count": 30,
     "metadata": {},
     "output_type": "execute_result"
    }
   ],
   "source": [
    "# Configure the Monte Carlo simulation to forecast 30 years cumulative returns\n",
    "# The weights should be split 40% to AGG and 60% to SPY.\n",
    "# Run 500 samples.\n",
    "MC_4060 = MCSimulation(\n",
    "    portfolio_data = prices_df,\n",
    "    weights = [.4,.6,],\n",
    "    num_simulation = 500,\n",
    "    num_trading_days = 252*30\n",
    ")\n",
    "\n",
    "# Review the simulation input data\n",
    "MC_4060.portfolio_data.head()\n"
   ]
  },
  {
   "cell_type": "code",
   "execution_count": 31,
   "metadata": {},
   "outputs": [
    {
     "name": "stdout",
     "output_type": "stream",
     "text": [
      "Running Monte Carlo simulation number 0.\n",
      "Running Monte Carlo simulation number 50.\n",
      "Running Monte Carlo simulation number 100.\n",
      "Running Monte Carlo simulation number 150.\n",
      "Running Monte Carlo simulation number 200.\n",
      "Running Monte Carlo simulation number 250.\n",
      "Running Monte Carlo simulation number 300.\n",
      "Running Monte Carlo simulation number 350.\n",
      "Running Monte Carlo simulation number 400.\n",
      "Running Monte Carlo simulation number 450.\n"
     ]
    },
    {
     "data": {
      "text/html": [
       "<div>\n",
       "<style scoped>\n",
       "    .dataframe tbody tr th:only-of-type {\n",
       "        vertical-align: middle;\n",
       "    }\n",
       "\n",
       "    .dataframe tbody tr th {\n",
       "        vertical-align: top;\n",
       "    }\n",
       "\n",
       "    .dataframe thead th {\n",
       "        text-align: right;\n",
       "    }\n",
       "</style>\n",
       "<table border=\"1\" class=\"dataframe\">\n",
       "  <thead>\n",
       "    <tr style=\"text-align: right;\">\n",
       "      <th></th>\n",
       "      <th>0</th>\n",
       "      <th>1</th>\n",
       "      <th>2</th>\n",
       "      <th>3</th>\n",
       "      <th>4</th>\n",
       "      <th>5</th>\n",
       "      <th>6</th>\n",
       "      <th>7</th>\n",
       "      <th>8</th>\n",
       "      <th>9</th>\n",
       "      <th>...</th>\n",
       "      <th>490</th>\n",
       "      <th>491</th>\n",
       "      <th>492</th>\n",
       "      <th>493</th>\n",
       "      <th>494</th>\n",
       "      <th>495</th>\n",
       "      <th>496</th>\n",
       "      <th>497</th>\n",
       "      <th>498</th>\n",
       "      <th>499</th>\n",
       "    </tr>\n",
       "  </thead>\n",
       "  <tbody>\n",
       "    <tr>\n",
       "      <th>0</th>\n",
       "      <td>1.000000</td>\n",
       "      <td>1.000000</td>\n",
       "      <td>1.000000</td>\n",
       "      <td>1.000000</td>\n",
       "      <td>1.000000</td>\n",
       "      <td>1.000000</td>\n",
       "      <td>1.000000</td>\n",
       "      <td>1.000000</td>\n",
       "      <td>1.000000</td>\n",
       "      <td>1.000000</td>\n",
       "      <td>...</td>\n",
       "      <td>1.000000</td>\n",
       "      <td>1.000000</td>\n",
       "      <td>1.000000</td>\n",
       "      <td>1.000000</td>\n",
       "      <td>1.000000</td>\n",
       "      <td>1.000000</td>\n",
       "      <td>1.000000</td>\n",
       "      <td>1.000000</td>\n",
       "      <td>1.000000</td>\n",
       "      <td>1.000000</td>\n",
       "    </tr>\n",
       "    <tr>\n",
       "      <th>1</th>\n",
       "      <td>0.995703</td>\n",
       "      <td>1.015101</td>\n",
       "      <td>1.007237</td>\n",
       "      <td>1.009101</td>\n",
       "      <td>1.010897</td>\n",
       "      <td>1.006934</td>\n",
       "      <td>0.991854</td>\n",
       "      <td>1.012797</td>\n",
       "      <td>1.001164</td>\n",
       "      <td>1.007275</td>\n",
       "      <td>...</td>\n",
       "      <td>1.016948</td>\n",
       "      <td>1.004338</td>\n",
       "      <td>0.986089</td>\n",
       "      <td>1.001611</td>\n",
       "      <td>1.002113</td>\n",
       "      <td>0.995050</td>\n",
       "      <td>1.007722</td>\n",
       "      <td>0.991662</td>\n",
       "      <td>1.002684</td>\n",
       "      <td>0.993140</td>\n",
       "    </tr>\n",
       "    <tr>\n",
       "      <th>2</th>\n",
       "      <td>1.003180</td>\n",
       "      <td>1.017982</td>\n",
       "      <td>1.007315</td>\n",
       "      <td>1.013141</td>\n",
       "      <td>0.998631</td>\n",
       "      <td>1.000608</td>\n",
       "      <td>0.984563</td>\n",
       "      <td>1.015373</td>\n",
       "      <td>1.007635</td>\n",
       "      <td>1.007208</td>\n",
       "      <td>...</td>\n",
       "      <td>1.034091</td>\n",
       "      <td>1.001316</td>\n",
       "      <td>0.969148</td>\n",
       "      <td>1.015026</td>\n",
       "      <td>0.997888</td>\n",
       "      <td>0.991495</td>\n",
       "      <td>1.013285</td>\n",
       "      <td>0.983788</td>\n",
       "      <td>1.001794</td>\n",
       "      <td>1.007223</td>\n",
       "    </tr>\n",
       "    <tr>\n",
       "      <th>3</th>\n",
       "      <td>1.000344</td>\n",
       "      <td>1.027243</td>\n",
       "      <td>1.000946</td>\n",
       "      <td>1.017741</td>\n",
       "      <td>1.019727</td>\n",
       "      <td>0.993888</td>\n",
       "      <td>0.979072</td>\n",
       "      <td>0.999810</td>\n",
       "      <td>0.991447</td>\n",
       "      <td>1.003112</td>\n",
       "      <td>...</td>\n",
       "      <td>1.025220</td>\n",
       "      <td>1.009229</td>\n",
       "      <td>0.967468</td>\n",
       "      <td>1.014594</td>\n",
       "      <td>0.984683</td>\n",
       "      <td>1.002725</td>\n",
       "      <td>1.011841</td>\n",
       "      <td>0.987942</td>\n",
       "      <td>0.999350</td>\n",
       "      <td>1.006731</td>\n",
       "    </tr>\n",
       "    <tr>\n",
       "      <th>4</th>\n",
       "      <td>1.005716</td>\n",
       "      <td>1.025167</td>\n",
       "      <td>0.993888</td>\n",
       "      <td>1.032748</td>\n",
       "      <td>1.025026</td>\n",
       "      <td>1.000986</td>\n",
       "      <td>0.964488</td>\n",
       "      <td>0.991643</td>\n",
       "      <td>1.002314</td>\n",
       "      <td>1.013586</td>\n",
       "      <td>...</td>\n",
       "      <td>1.018654</td>\n",
       "      <td>0.999849</td>\n",
       "      <td>0.985629</td>\n",
       "      <td>1.015580</td>\n",
       "      <td>0.991715</td>\n",
       "      <td>1.002530</td>\n",
       "      <td>1.018475</td>\n",
       "      <td>0.989885</td>\n",
       "      <td>1.004424</td>\n",
       "      <td>1.003959</td>\n",
       "    </tr>\n",
       "    <tr>\n",
       "      <th>...</th>\n",
       "      <td>...</td>\n",
       "      <td>...</td>\n",
       "      <td>...</td>\n",
       "      <td>...</td>\n",
       "      <td>...</td>\n",
       "      <td>...</td>\n",
       "      <td>...</td>\n",
       "      <td>...</td>\n",
       "      <td>...</td>\n",
       "      <td>...</td>\n",
       "      <td>...</td>\n",
       "      <td>...</td>\n",
       "      <td>...</td>\n",
       "      <td>...</td>\n",
       "      <td>...</td>\n",
       "      <td>...</td>\n",
       "      <td>...</td>\n",
       "      <td>...</td>\n",
       "      <td>...</td>\n",
       "      <td>...</td>\n",
       "      <td>...</td>\n",
       "    </tr>\n",
       "    <tr>\n",
       "      <th>7556</th>\n",
       "      <td>28.528100</td>\n",
       "      <td>9.811491</td>\n",
       "      <td>10.672608</td>\n",
       "      <td>28.432350</td>\n",
       "      <td>34.140334</td>\n",
       "      <td>7.915513</td>\n",
       "      <td>39.988469</td>\n",
       "      <td>10.082025</td>\n",
       "      <td>46.634628</td>\n",
       "      <td>105.138416</td>\n",
       "      <td>...</td>\n",
       "      <td>31.551355</td>\n",
       "      <td>23.724084</td>\n",
       "      <td>35.928073</td>\n",
       "      <td>33.459396</td>\n",
       "      <td>16.047992</td>\n",
       "      <td>15.166901</td>\n",
       "      <td>8.969306</td>\n",
       "      <td>86.660803</td>\n",
       "      <td>25.535736</td>\n",
       "      <td>35.168909</td>\n",
       "    </tr>\n",
       "    <tr>\n",
       "      <th>7557</th>\n",
       "      <td>28.383029</td>\n",
       "      <td>9.787089</td>\n",
       "      <td>10.783197</td>\n",
       "      <td>28.265876</td>\n",
       "      <td>34.301214</td>\n",
       "      <td>7.927613</td>\n",
       "      <td>39.658282</td>\n",
       "      <td>10.057935</td>\n",
       "      <td>46.087068</td>\n",
       "      <td>104.278346</td>\n",
       "      <td>...</td>\n",
       "      <td>31.563093</td>\n",
       "      <td>24.121793</td>\n",
       "      <td>36.094288</td>\n",
       "      <td>33.435832</td>\n",
       "      <td>16.168127</td>\n",
       "      <td>15.280335</td>\n",
       "      <td>9.047273</td>\n",
       "      <td>88.852868</td>\n",
       "      <td>25.378408</td>\n",
       "      <td>35.295993</td>\n",
       "    </tr>\n",
       "    <tr>\n",
       "      <th>7558</th>\n",
       "      <td>28.433124</td>\n",
       "      <td>9.762463</td>\n",
       "      <td>10.728944</td>\n",
       "      <td>27.860778</td>\n",
       "      <td>34.558002</td>\n",
       "      <td>7.925431</td>\n",
       "      <td>39.778947</td>\n",
       "      <td>10.150073</td>\n",
       "      <td>45.686440</td>\n",
       "      <td>104.518665</td>\n",
       "      <td>...</td>\n",
       "      <td>31.343416</td>\n",
       "      <td>23.859394</td>\n",
       "      <td>36.519967</td>\n",
       "      <td>33.365570</td>\n",
       "      <td>16.087454</td>\n",
       "      <td>15.224266</td>\n",
       "      <td>9.072342</td>\n",
       "      <td>87.795091</td>\n",
       "      <td>25.545250</td>\n",
       "      <td>35.566988</td>\n",
       "    </tr>\n",
       "    <tr>\n",
       "      <th>7559</th>\n",
       "      <td>28.861961</td>\n",
       "      <td>9.818394</td>\n",
       "      <td>10.698797</td>\n",
       "      <td>28.146590</td>\n",
       "      <td>34.254938</td>\n",
       "      <td>7.930345</td>\n",
       "      <td>39.560871</td>\n",
       "      <td>10.088566</td>\n",
       "      <td>46.164873</td>\n",
       "      <td>103.802682</td>\n",
       "      <td>...</td>\n",
       "      <td>31.407298</td>\n",
       "      <td>23.971494</td>\n",
       "      <td>36.472139</td>\n",
       "      <td>33.070633</td>\n",
       "      <td>16.237802</td>\n",
       "      <td>15.012114</td>\n",
       "      <td>8.967749</td>\n",
       "      <td>87.619516</td>\n",
       "      <td>25.779435</td>\n",
       "      <td>35.437893</td>\n",
       "    </tr>\n",
       "    <tr>\n",
       "      <th>7560</th>\n",
       "      <td>28.838825</td>\n",
       "      <td>9.848217</td>\n",
       "      <td>10.639300</td>\n",
       "      <td>28.179639</td>\n",
       "      <td>34.179308</td>\n",
       "      <td>7.966476</td>\n",
       "      <td>39.053415</td>\n",
       "      <td>9.982204</td>\n",
       "      <td>46.087639</td>\n",
       "      <td>103.835792</td>\n",
       "      <td>...</td>\n",
       "      <td>31.561327</td>\n",
       "      <td>24.043815</td>\n",
       "      <td>36.382170</td>\n",
       "      <td>32.777629</td>\n",
       "      <td>16.399451</td>\n",
       "      <td>14.980966</td>\n",
       "      <td>8.917606</td>\n",
       "      <td>88.296022</td>\n",
       "      <td>25.483256</td>\n",
       "      <td>35.466112</td>\n",
       "    </tr>\n",
       "  </tbody>\n",
       "</table>\n",
       "<p>7561 rows × 500 columns</p>\n",
       "</div>"
      ],
      "text/plain": [
       "            0         1          2          3          4         5    \\\n",
       "0      1.000000  1.000000   1.000000   1.000000   1.000000  1.000000   \n",
       "1      0.995703  1.015101   1.007237   1.009101   1.010897  1.006934   \n",
       "2      1.003180  1.017982   1.007315   1.013141   0.998631  1.000608   \n",
       "3      1.000344  1.027243   1.000946   1.017741   1.019727  0.993888   \n",
       "4      1.005716  1.025167   0.993888   1.032748   1.025026  1.000986   \n",
       "...         ...       ...        ...        ...        ...       ...   \n",
       "7556  28.528100  9.811491  10.672608  28.432350  34.140334  7.915513   \n",
       "7557  28.383029  9.787089  10.783197  28.265876  34.301214  7.927613   \n",
       "7558  28.433124  9.762463  10.728944  27.860778  34.558002  7.925431   \n",
       "7559  28.861961  9.818394  10.698797  28.146590  34.254938  7.930345   \n",
       "7560  28.838825  9.848217  10.639300  28.179639  34.179308  7.966476   \n",
       "\n",
       "            6          7          8           9    ...        490        491  \\\n",
       "0      1.000000   1.000000   1.000000    1.000000  ...   1.000000   1.000000   \n",
       "1      0.991854   1.012797   1.001164    1.007275  ...   1.016948   1.004338   \n",
       "2      0.984563   1.015373   1.007635    1.007208  ...   1.034091   1.001316   \n",
       "3      0.979072   0.999810   0.991447    1.003112  ...   1.025220   1.009229   \n",
       "4      0.964488   0.991643   1.002314    1.013586  ...   1.018654   0.999849   \n",
       "...         ...        ...        ...         ...  ...        ...        ...   \n",
       "7556  39.988469  10.082025  46.634628  105.138416  ...  31.551355  23.724084   \n",
       "7557  39.658282  10.057935  46.087068  104.278346  ...  31.563093  24.121793   \n",
       "7558  39.778947  10.150073  45.686440  104.518665  ...  31.343416  23.859394   \n",
       "7559  39.560871  10.088566  46.164873  103.802682  ...  31.407298  23.971494   \n",
       "7560  39.053415   9.982204  46.087639  103.835792  ...  31.561327  24.043815   \n",
       "\n",
       "            492        493        494        495       496        497  \\\n",
       "0      1.000000   1.000000   1.000000   1.000000  1.000000   1.000000   \n",
       "1      0.986089   1.001611   1.002113   0.995050  1.007722   0.991662   \n",
       "2      0.969148   1.015026   0.997888   0.991495  1.013285   0.983788   \n",
       "3      0.967468   1.014594   0.984683   1.002725  1.011841   0.987942   \n",
       "4      0.985629   1.015580   0.991715   1.002530  1.018475   0.989885   \n",
       "...         ...        ...        ...        ...       ...        ...   \n",
       "7556  35.928073  33.459396  16.047992  15.166901  8.969306  86.660803   \n",
       "7557  36.094288  33.435832  16.168127  15.280335  9.047273  88.852868   \n",
       "7558  36.519967  33.365570  16.087454  15.224266  9.072342  87.795091   \n",
       "7559  36.472139  33.070633  16.237802  15.012114  8.967749  87.619516   \n",
       "7560  36.382170  32.777629  16.399451  14.980966  8.917606  88.296022   \n",
       "\n",
       "            498        499  \n",
       "0      1.000000   1.000000  \n",
       "1      1.002684   0.993140  \n",
       "2      1.001794   1.007223  \n",
       "3      0.999350   1.006731  \n",
       "4      1.004424   1.003959  \n",
       "...         ...        ...  \n",
       "7556  25.535736  35.168909  \n",
       "7557  25.378408  35.295993  \n",
       "7558  25.545250  35.566988  \n",
       "7559  25.779435  35.437893  \n",
       "7560  25.483256  35.466112  \n",
       "\n",
       "[7561 rows x 500 columns]"
      ]
     },
     "execution_count": 31,
     "metadata": {},
     "output_type": "execute_result"
    }
   ],
   "source": [
    "# Run the Monte Carlo simulation to forecast 30 years cumulative returns\n",
    "MC_4060.calc_cumulative_return()\n",
    "\n",
    "#Tweaked monte carlo py file to spit out a message every 50 simulations. Every 10 was driving me nuts :)\n",
    "\n",
    "\n"
   ]
  },
  {
   "cell_type": "code",
   "execution_count": 32,
   "metadata": {},
   "outputs": [
    {
     "data": {
      "image/png": "[encoded data removed]",
      "text/plain": [
       "<Figure size 432x288 with 1 Axes>"
      ]
     },
     "metadata": {
      "needs_background": "light"
     },
     "output_type": "display_data"
    }
   ],
   "source": [
    "# Visualize the 30-year Monte Carlo simulation by creating an\n",
    "# overlay line plot\n",
    "weight_4060_plot = MC_4060.plot_simulation()\n"
   ]
  },
  {
   "cell_type": "markdown",
   "metadata": {},
   "source": [
    "#### Step 3: Plot the probability distribution of the Monte Carlo simulation."
   ]
  },
  {
   "cell_type": "code",
   "execution_count": 33,
   "metadata": {},
   "outputs": [
    {
     "data": {
      "image/png": "[encoded data removed]",
      "text/plain": [
       "<Figure size 432x288 with 1 Axes>"
      ]
     },
     "metadata": {
      "needs_background": "light"
     },
     "output_type": "display_data"
    }
   ],
   "source": [
    "# Visualize the probability distribution of the 30-year Monte Carlo simulation \n",
    "# by plotting a histogram\n",
    "distribution_4060_plot = MC_4060.plot_distribution()\n"
   ]
  },
  {
   "cell_type": "markdown",
   "metadata": {},
   "source": [
    "#### Step 4: Generate the summary statistics for the Monte Carlo simulation."
   ]
  },
  {
   "cell_type": "code",
   "execution_count": 34,
   "metadata": {},
   "outputs": [
    {
     "name": "stdout",
     "output_type": "stream",
     "text": [
      "count           500.000000\n",
      "mean             36.089178\n",
      "std              34.949043\n",
      "min               2.364881\n",
      "25%              16.162443\n",
      "50%              26.884417\n",
      "75%              44.238690\n",
      "max             404.005847\n",
      "95% CI Lower      5.831811\n",
      "95% CI Upper    126.454027\n",
      "Name: 7560, dtype: float64\n"
     ]
    }
   ],
   "source": [
    "# Generate summary statistics from the 30-year Monte Carlo simulation results\n",
    "# Save the results as a variable\n",
    "weight_4060_table = MC_4060.summarize_cumulative_return()\n",
    "\n",
    "\n",
    "# Review the 30-year Monte Carlo summary statistics\n",
    "print(weight_4060_table)"
   ]
  },
  {
   "cell_type": "markdown",
   "metadata": {},
   "source": [
    "### Analyze the Retirement Portfolio Forecasts\n",
    "\n",
    "Using the current value of only the stock and bond portion of the member's portfolio and the summary statistics that you generated from the Monte Carlo simulation, answer the following question in your Jupyter notebook:\n",
    "\n",
    "-  What are the lower and upper bounds for the expected value of the portfolio with a 95% confidence interval?\n"
   ]
  },
  {
   "cell_type": "code",
   "execution_count": 35,
   "metadata": {},
   "outputs": [
    {
     "name": "stdout",
     "output_type": "stream",
     "text": [
      "The current value of your bond portfolio holding is $22824.00\n",
      "The current value of your equity portfolio holding is $48160.20\n",
      "The current value of your total portfolio holding is $70984.20\n",
      "______________________________________\n"
     ]
    }
   ],
   "source": [
    "# Print the current balance of the stock and bond portion of the members portfolio\n",
    "print(f\"The current value of your bond portfolio holding is ${agg_value:.2f}\")\n",
    "print(f\"The current value of your equity portfolio holding is ${spy_value:.2f}\")\n",
    "print(f\"The current value of your total portfolio holding is ${total_stocks_bonds:.2f}\")\n",
    "\n",
    "print(\"______________________________________\")\n"
   ]
  },
  {
   "cell_type": "code",
   "execution_count": 36,
   "metadata": {},
   "outputs": [
    {
     "name": "stdout",
     "output_type": "stream",
     "text": [
      "There is a 95% chance that the current value of $70984.20 in the portfolio with a 40% / 60% mix in the bond and equity funds over the next 30 years will end within in the range of $413966.44 and $8976237.95.\n"
     ]
    }
   ],
   "source": [
    "# Use the lower and upper `95%` confidence intervals to calculate the range of the possible outcomes for the current stock/bond portfolio\n",
    "ci_lower_thirty_cumulative_return = round(weight_4060_table[8]*total_stocks_bonds,2)\n",
    "ci_upper_thirty_cumulative_return = round(weight_4060_table[9]*total_stocks_bonds,2)\n",
    "\n",
    "# Print the result of your calculations\n",
    "print(f\"There is a 95% chance that the current value of ${total_stocks_bonds:.2f} in the portfolio with a \"\n",
    "      f\"40% / 60% mix in the bond and equity funds over the next 30 years will end within in the range of\"\n",
    "      f\" ${ci_lower_thirty_cumulative_return} and ${ci_upper_thirty_cumulative_return}.\")\n"
   ]
  },
  {
   "cell_type": "markdown",
   "metadata": {},
   "source": [
    "### Forecast Cumulative Returns in 10 Years\n",
    "\n",
    "The CTO of the credit union is impressed with your work on these planning tools but wonders if 30 years is a long time to wait until retirement. So, your next task is to adjust the retirement portfolio and run a new Monte Carlo simulation to find out if the changes will allow members to retire earlier.\n",
    "\n",
    "For this new Monte Carlo simulation, do the following: \n",
    "\n",
    "- Forecast the cumulative returns for 10 years from now. Because of the shortened investment horizon (30 years to 10 years), the portfolio needs to invest more heavily in the riskier asset&mdash;that is, stock&mdash;to help accumulate wealth for retirement. \n",
    "\n",
    "- Adjust the weights of the retirement portfolio so that the composition for the Monte Carlo simulation consists of 20% bonds and 80% stocks. \n",
    "\n",
    "- Run the simulation over 500 samples, and use the same data that the API call to Alpaca generated.\n",
    "\n",
    "- Based on the new Monte Carlo simulation, answer the following questions in your Jupyter notebook:\n",
    "\n",
    "    - Using the current value of only the stock and bond portion of the member's portfolio and the summary statistics that you generated from the new Monte Carlo simulation, what are the lower and upper bounds for the expected value of the portfolio (with the new weights) with a 95% confidence interval?\n",
    "\n",
    "    - Will weighting the portfolio more heavily toward stocks allow the credit union members to retire after only 10 years?\n"
   ]
  },
  {
   "cell_type": "code",
   "execution_count": 37,
   "metadata": {},
   "outputs": [
    {
     "data": {
      "text/html": [
       "<div>\n",
       "<style scoped>\n",
       "    .dataframe tbody tr th:only-of-type {\n",
       "        vertical-align: middle;\n",
       "    }\n",
       "\n",
       "    .dataframe tbody tr th {\n",
       "        vertical-align: top;\n",
       "    }\n",
       "\n",
       "    .dataframe thead tr th {\n",
       "        text-align: left;\n",
       "    }\n",
       "\n",
       "    .dataframe thead tr:last-of-type th {\n",
       "        text-align: right;\n",
       "    }\n",
       "</style>\n",
       "<table border=\"1\" class=\"dataframe\">\n",
       "  <thead>\n",
       "    <tr>\n",
       "      <th></th>\n",
       "      <th colspan=\"6\" halign=\"left\">AGG</th>\n",
       "      <th colspan=\"6\" halign=\"left\">SPY</th>\n",
       "    </tr>\n",
       "    <tr>\n",
       "      <th></th>\n",
       "      <th>open</th>\n",
       "      <th>high</th>\n",
       "      <th>low</th>\n",
       "      <th>close</th>\n",
       "      <th>volume</th>\n",
       "      <th>daily_return</th>\n",
       "      <th>open</th>\n",
       "      <th>high</th>\n",
       "      <th>low</th>\n",
       "      <th>close</th>\n",
       "      <th>volume</th>\n",
       "      <th>daily_return</th>\n",
       "    </tr>\n",
       "    <tr>\n",
       "      <th>time</th>\n",
       "      <th></th>\n",
       "      <th></th>\n",
       "      <th></th>\n",
       "      <th></th>\n",
       "      <th></th>\n",
       "      <th></th>\n",
       "      <th></th>\n",
       "      <th></th>\n",
       "      <th></th>\n",
       "      <th></th>\n",
       "      <th></th>\n",
       "      <th></th>\n",
       "    </tr>\n",
       "  </thead>\n",
       "  <tbody>\n",
       "    <tr>\n",
       "      <th>2018-10-18 00:00:00-04:00</th>\n",
       "      <td>104.39</td>\n",
       "      <td>104.6195</td>\n",
       "      <td>104.375</td>\n",
       "      <td>104.460</td>\n",
       "      <td>2687836.0</td>\n",
       "      <td>NaN</td>\n",
       "      <td>279.40</td>\n",
       "      <td>280.07</td>\n",
       "      <td>274.97</td>\n",
       "      <td>276.47</td>\n",
       "      <td>106592503</td>\n",
       "      <td>NaN</td>\n",
       "    </tr>\n",
       "    <tr>\n",
       "      <th>2018-10-19 00:00:00-04:00</th>\n",
       "      <td>104.47</td>\n",
       "      <td>104.5500</td>\n",
       "      <td>104.340</td>\n",
       "      <td>104.370</td>\n",
       "      <td>2912850.0</td>\n",
       "      <td>-0.000862</td>\n",
       "      <td>277.12</td>\n",
       "      <td>279.30</td>\n",
       "      <td>275.47</td>\n",
       "      <td>276.19</td>\n",
       "      <td>86816021</td>\n",
       "      <td>-0.001013</td>\n",
       "    </tr>\n",
       "    <tr>\n",
       "      <th>2018-10-22 00:00:00-04:00</th>\n",
       "      <td>104.47</td>\n",
       "      <td>104.5200</td>\n",
       "      <td>104.340</td>\n",
       "      <td>104.350</td>\n",
       "      <td>2634319.0</td>\n",
       "      <td>-0.000192</td>\n",
       "      <td>277.00</td>\n",
       "      <td>277.36</td>\n",
       "      <td>274.41</td>\n",
       "      <td>275.06</td>\n",
       "      <td>64990700</td>\n",
       "      <td>-0.004091</td>\n",
       "    </tr>\n",
       "    <tr>\n",
       "      <th>2018-10-23 00:00:00-04:00</th>\n",
       "      <td>104.67</td>\n",
       "      <td>104.7400</td>\n",
       "      <td>104.475</td>\n",
       "      <td>104.485</td>\n",
       "      <td>3281760.0</td>\n",
       "      <td>0.001294</td>\n",
       "      <td>270.94</td>\n",
       "      <td>274.87</td>\n",
       "      <td>268.61</td>\n",
       "      <td>273.54</td>\n",
       "      <td>113790534</td>\n",
       "      <td>-0.005526</td>\n",
       "    </tr>\n",
       "    <tr>\n",
       "      <th>2018-10-24 00:00:00-04:00</th>\n",
       "      <td>104.69</td>\n",
       "      <td>104.8100</td>\n",
       "      <td>104.670</td>\n",
       "      <td>104.760</td>\n",
       "      <td>4029453.0</td>\n",
       "      <td>0.002632</td>\n",
       "      <td>273.33</td>\n",
       "      <td>273.76</td>\n",
       "      <td>264.70</td>\n",
       "      <td>265.22</td>\n",
       "      <td>130172487</td>\n",
       "      <td>-0.030416</td>\n",
       "    </tr>\n",
       "  </tbody>\n",
       "</table>\n",
       "</div>"
      ],
      "text/plain": [
       "                              AGG                                         \\\n",
       "                             open      high      low    close     volume   \n",
       "time                                                                       \n",
       "2018-10-18 00:00:00-04:00  104.39  104.6195  104.375  104.460  2687836.0   \n",
       "2018-10-19 00:00:00-04:00  104.47  104.5500  104.340  104.370  2912850.0   \n",
       "2018-10-22 00:00:00-04:00  104.47  104.5200  104.340  104.350  2634319.0   \n",
       "2018-10-23 00:00:00-04:00  104.67  104.7400  104.475  104.485  3281760.0   \n",
       "2018-10-24 00:00:00-04:00  104.69  104.8100  104.670  104.760  4029453.0   \n",
       "\n",
       "                                           SPY                          \\\n",
       "                          daily_return    open    high     low   close   \n",
       "time                                                                     \n",
       "2018-10-18 00:00:00-04:00          NaN  279.40  280.07  274.97  276.47   \n",
       "2018-10-19 00:00:00-04:00    -0.000862  277.12  279.30  275.47  276.19   \n",
       "2018-10-22 00:00:00-04:00    -0.000192  277.00  277.36  274.41  275.06   \n",
       "2018-10-23 00:00:00-04:00     0.001294  270.94  274.87  268.61  273.54   \n",
       "2018-10-24 00:00:00-04:00     0.002632  273.33  273.76  264.70  265.22   \n",
       "\n",
       "                                                   \n",
       "                              volume daily_return  \n",
       "time                                               \n",
       "2018-10-18 00:00:00-04:00  106592503          NaN  \n",
       "2018-10-19 00:00:00-04:00   86816021    -0.001013  \n",
       "2018-10-22 00:00:00-04:00   64990700    -0.004091  \n",
       "2018-10-23 00:00:00-04:00  113790534    -0.005526  \n",
       "2018-10-24 00:00:00-04:00  130172487    -0.030416  "
      ]
     },
     "execution_count": 37,
     "metadata": {},
     "output_type": "execute_result"
    }
   ],
   "source": [
    "# Configure a Monte Carlo simulation to forecast 10 years cumulative returns\n",
    "# The weights should be split 20% to AGG and 80% to SPY.\n",
    "# Run 500 samples.\n",
    "MC_2080 = MCSimulation(\n",
    "    portfolio_data = prices_df,\n",
    "    weights = [.2,.8,],\n",
    "    num_simulation = 500,\n",
    "    num_trading_days = 252*10\n",
    ")\n",
    "\n",
    "# Review the simulation input data\n",
    "MC_2080.portfolio_data.head()\n"
   ]
  },
  {
   "cell_type": "code",
   "execution_count": 38,
   "metadata": {},
   "outputs": [
    {
     "name": "stdout",
     "output_type": "stream",
     "text": [
      "Running Monte Carlo simulation number 0.\n",
      "Running Monte Carlo simulation number 50.\n",
      "Running Monte Carlo simulation number 100.\n",
      "Running Monte Carlo simulation number 150.\n",
      "Running Monte Carlo simulation number 200.\n",
      "Running Monte Carlo simulation number 250.\n",
      "Running Monte Carlo simulation number 300.\n",
      "Running Monte Carlo simulation number 350.\n",
      "Running Monte Carlo simulation number 400.\n",
      "Running Monte Carlo simulation number 450.\n"
     ]
    },
    {
     "data": {
      "text/html": [
       "<div>\n",
       "<style scoped>\n",
       "    .dataframe tbody tr th:only-of-type {\n",
       "        vertical-align: middle;\n",
       "    }\n",
       "\n",
       "    .dataframe tbody tr th {\n",
       "        vertical-align: top;\n",
       "    }\n",
       "\n",
       "    .dataframe thead th {\n",
       "        text-align: right;\n",
       "    }\n",
       "</style>\n",
       "<table border=\"1\" class=\"dataframe\">\n",
       "  <thead>\n",
       "    <tr style=\"text-align: right;\">\n",
       "      <th></th>\n",
       "      <th>0</th>\n",
       "      <th>1</th>\n",
       "      <th>2</th>\n",
       "      <th>3</th>\n",
       "      <th>4</th>\n",
       "      <th>5</th>\n",
       "      <th>6</th>\n",
       "      <th>7</th>\n",
       "      <th>8</th>\n",
       "      <th>9</th>\n",
       "      <th>...</th>\n",
       "      <th>490</th>\n",
       "      <th>491</th>\n",
       "      <th>492</th>\n",
       "      <th>493</th>\n",
       "      <th>494</th>\n",
       "      <th>495</th>\n",
       "      <th>496</th>\n",
       "      <th>497</th>\n",
       "      <th>498</th>\n",
       "      <th>499</th>\n",
       "    </tr>\n",
       "  </thead>\n",
       "  <tbody>\n",
       "    <tr>\n",
       "      <th>0</th>\n",
       "      <td>1.000000</td>\n",
       "      <td>1.000000</td>\n",
       "      <td>1.000000</td>\n",
       "      <td>1.000000</td>\n",
       "      <td>1.000000</td>\n",
       "      <td>1.000000</td>\n",
       "      <td>1.000000</td>\n",
       "      <td>1.000000</td>\n",
       "      <td>1.000000</td>\n",
       "      <td>1.000000</td>\n",
       "      <td>...</td>\n",
       "      <td>1.000000</td>\n",
       "      <td>1.000000</td>\n",
       "      <td>1.000000</td>\n",
       "      <td>1.000000</td>\n",
       "      <td>1.000000</td>\n",
       "      <td>1.000000</td>\n",
       "      <td>1.000000</td>\n",
       "      <td>1.000000</td>\n",
       "      <td>1.000000</td>\n",
       "      <td>1.000000</td>\n",
       "    </tr>\n",
       "    <tr>\n",
       "      <th>1</th>\n",
       "      <td>0.996728</td>\n",
       "      <td>1.015198</td>\n",
       "      <td>0.996224</td>\n",
       "      <td>0.980594</td>\n",
       "      <td>1.016906</td>\n",
       "      <td>0.985979</td>\n",
       "      <td>1.004257</td>\n",
       "      <td>0.975428</td>\n",
       "      <td>0.999852</td>\n",
       "      <td>1.009095</td>\n",
       "      <td>...</td>\n",
       "      <td>1.002918</td>\n",
       "      <td>0.995300</td>\n",
       "      <td>1.002308</td>\n",
       "      <td>1.002913</td>\n",
       "      <td>0.979132</td>\n",
       "      <td>1.010533</td>\n",
       "      <td>0.993764</td>\n",
       "      <td>0.987278</td>\n",
       "      <td>1.015295</td>\n",
       "      <td>0.997934</td>\n",
       "    </tr>\n",
       "    <tr>\n",
       "      <th>2</th>\n",
       "      <td>1.013612</td>\n",
       "      <td>1.022931</td>\n",
       "      <td>1.019501</td>\n",
       "      <td>0.976766</td>\n",
       "      <td>1.016933</td>\n",
       "      <td>0.983132</td>\n",
       "      <td>0.988471</td>\n",
       "      <td>0.971505</td>\n",
       "      <td>0.995109</td>\n",
       "      <td>1.001052</td>\n",
       "      <td>...</td>\n",
       "      <td>0.989139</td>\n",
       "      <td>1.011919</td>\n",
       "      <td>1.009508</td>\n",
       "      <td>1.001863</td>\n",
       "      <td>0.974621</td>\n",
       "      <td>1.001766</td>\n",
       "      <td>1.003865</td>\n",
       "      <td>0.978195</td>\n",
       "      <td>1.023077</td>\n",
       "      <td>1.009528</td>\n",
       "    </tr>\n",
       "    <tr>\n",
       "      <th>3</th>\n",
       "      <td>1.015378</td>\n",
       "      <td>1.037281</td>\n",
       "      <td>1.032823</td>\n",
       "      <td>0.987741</td>\n",
       "      <td>1.016407</td>\n",
       "      <td>0.972777</td>\n",
       "      <td>0.976979</td>\n",
       "      <td>0.976796</td>\n",
       "      <td>0.984003</td>\n",
       "      <td>0.993953</td>\n",
       "      <td>...</td>\n",
       "      <td>1.000098</td>\n",
       "      <td>1.022173</td>\n",
       "      <td>1.020041</td>\n",
       "      <td>1.007458</td>\n",
       "      <td>0.984587</td>\n",
       "      <td>0.988150</td>\n",
       "      <td>1.014003</td>\n",
       "      <td>0.984314</td>\n",
       "      <td>1.042120</td>\n",
       "      <td>1.015831</td>\n",
       "    </tr>\n",
       "    <tr>\n",
       "      <th>4</th>\n",
       "      <td>1.012584</td>\n",
       "      <td>1.032852</td>\n",
       "      <td>1.033498</td>\n",
       "      <td>0.979754</td>\n",
       "      <td>0.996100</td>\n",
       "      <td>0.965062</td>\n",
       "      <td>0.988770</td>\n",
       "      <td>0.983470</td>\n",
       "      <td>0.956310</td>\n",
       "      <td>0.983609</td>\n",
       "      <td>...</td>\n",
       "      <td>1.002391</td>\n",
       "      <td>1.006546</td>\n",
       "      <td>1.010501</td>\n",
       "      <td>1.017149</td>\n",
       "      <td>0.982347</td>\n",
       "      <td>0.998992</td>\n",
       "      <td>1.006091</td>\n",
       "      <td>0.991312</td>\n",
       "      <td>1.076535</td>\n",
       "      <td>1.007431</td>\n",
       "    </tr>\n",
       "    <tr>\n",
       "      <th>...</th>\n",
       "      <td>...</td>\n",
       "      <td>...</td>\n",
       "      <td>...</td>\n",
       "      <td>...</td>\n",
       "      <td>...</td>\n",
       "      <td>...</td>\n",
       "      <td>...</td>\n",
       "      <td>...</td>\n",
       "      <td>...</td>\n",
       "      <td>...</td>\n",
       "      <td>...</td>\n",
       "      <td>...</td>\n",
       "      <td>...</td>\n",
       "      <td>...</td>\n",
       "      <td>...</td>\n",
       "      <td>...</td>\n",
       "      <td>...</td>\n",
       "      <td>...</td>\n",
       "      <td>...</td>\n",
       "      <td>...</td>\n",
       "      <td>...</td>\n",
       "    </tr>\n",
       "    <tr>\n",
       "      <th>2516</th>\n",
       "      <td>2.398643</td>\n",
       "      <td>6.183501</td>\n",
       "      <td>4.702090</td>\n",
       "      <td>2.821810</td>\n",
       "      <td>0.999565</td>\n",
       "      <td>2.181248</td>\n",
       "      <td>6.493149</td>\n",
       "      <td>2.908633</td>\n",
       "      <td>3.499915</td>\n",
       "      <td>1.601292</td>\n",
       "      <td>...</td>\n",
       "      <td>3.481065</td>\n",
       "      <td>2.973269</td>\n",
       "      <td>4.273762</td>\n",
       "      <td>1.652350</td>\n",
       "      <td>3.796134</td>\n",
       "      <td>3.355541</td>\n",
       "      <td>4.658482</td>\n",
       "      <td>5.090017</td>\n",
       "      <td>2.478610</td>\n",
       "      <td>8.696723</td>\n",
       "    </tr>\n",
       "    <tr>\n",
       "      <th>2517</th>\n",
       "      <td>2.397418</td>\n",
       "      <td>6.243397</td>\n",
       "      <td>4.838148</td>\n",
       "      <td>2.834052</td>\n",
       "      <td>0.991491</td>\n",
       "      <td>2.198189</td>\n",
       "      <td>6.577010</td>\n",
       "      <td>2.892377</td>\n",
       "      <td>3.435799</td>\n",
       "      <td>1.593127</td>\n",
       "      <td>...</td>\n",
       "      <td>3.467094</td>\n",
       "      <td>2.925911</td>\n",
       "      <td>4.271259</td>\n",
       "      <td>1.651689</td>\n",
       "      <td>3.876157</td>\n",
       "      <td>3.381350</td>\n",
       "      <td>4.656889</td>\n",
       "      <td>5.087847</td>\n",
       "      <td>2.503971</td>\n",
       "      <td>8.709981</td>\n",
       "    </tr>\n",
       "    <tr>\n",
       "      <th>2518</th>\n",
       "      <td>2.411871</td>\n",
       "      <td>6.133789</td>\n",
       "      <td>4.858477</td>\n",
       "      <td>2.877099</td>\n",
       "      <td>0.989296</td>\n",
       "      <td>2.245676</td>\n",
       "      <td>6.620469</td>\n",
       "      <td>2.921095</td>\n",
       "      <td>3.491847</td>\n",
       "      <td>1.607872</td>\n",
       "      <td>...</td>\n",
       "      <td>3.453439</td>\n",
       "      <td>2.986521</td>\n",
       "      <td>4.167870</td>\n",
       "      <td>1.682841</td>\n",
       "      <td>3.876177</td>\n",
       "      <td>3.320925</td>\n",
       "      <td>4.641446</td>\n",
       "      <td>5.153089</td>\n",
       "      <td>2.556704</td>\n",
       "      <td>8.774879</td>\n",
       "    </tr>\n",
       "    <tr>\n",
       "      <th>2519</th>\n",
       "      <td>2.391152</td>\n",
       "      <td>6.134297</td>\n",
       "      <td>4.846433</td>\n",
       "      <td>2.807832</td>\n",
       "      <td>0.988545</td>\n",
       "      <td>2.273648</td>\n",
       "      <td>6.518003</td>\n",
       "      <td>2.864868</td>\n",
       "      <td>3.463938</td>\n",
       "      <td>1.608643</td>\n",
       "      <td>...</td>\n",
       "      <td>3.493630</td>\n",
       "      <td>2.935810</td>\n",
       "      <td>4.157001</td>\n",
       "      <td>1.672654</td>\n",
       "      <td>3.829284</td>\n",
       "      <td>3.322914</td>\n",
       "      <td>4.660798</td>\n",
       "      <td>5.067869</td>\n",
       "      <td>2.581551</td>\n",
       "      <td>8.659614</td>\n",
       "    </tr>\n",
       "    <tr>\n",
       "      <th>2520</th>\n",
       "      <td>2.373882</td>\n",
       "      <td>6.099274</td>\n",
       "      <td>4.858593</td>\n",
       "      <td>2.744602</td>\n",
       "      <td>1.006371</td>\n",
       "      <td>2.318689</td>\n",
       "      <td>6.540992</td>\n",
       "      <td>2.908395</td>\n",
       "      <td>3.496570</td>\n",
       "      <td>1.576795</td>\n",
       "      <td>...</td>\n",
       "      <td>3.459394</td>\n",
       "      <td>2.960059</td>\n",
       "      <td>4.146777</td>\n",
       "      <td>1.714943</td>\n",
       "      <td>3.907439</td>\n",
       "      <td>3.292375</td>\n",
       "      <td>4.643014</td>\n",
       "      <td>5.055856</td>\n",
       "      <td>2.612963</td>\n",
       "      <td>8.737557</td>\n",
       "    </tr>\n",
       "  </tbody>\n",
       "</table>\n",
       "<p>2521 rows × 500 columns</p>\n",
       "</div>"
      ],
      "text/plain": [
       "           0         1         2         3         4         5         6    \\\n",
       "0     1.000000  1.000000  1.000000  1.000000  1.000000  1.000000  1.000000   \n",
       "1     0.996728  1.015198  0.996224  0.980594  1.016906  0.985979  1.004257   \n",
       "2     1.013612  1.022931  1.019501  0.976766  1.016933  0.983132  0.988471   \n",
       "3     1.015378  1.037281  1.032823  0.987741  1.016407  0.972777  0.976979   \n",
       "4     1.012584  1.032852  1.033498  0.979754  0.996100  0.965062  0.988770   \n",
       "...        ...       ...       ...       ...       ...       ...       ...   \n",
       "2516  2.398643  6.183501  4.702090  2.821810  0.999565  2.181248  6.493149   \n",
       "2517  2.397418  6.243397  4.838148  2.834052  0.991491  2.198189  6.577010   \n",
       "2518  2.411871  6.133789  4.858477  2.877099  0.989296  2.245676  6.620469   \n",
       "2519  2.391152  6.134297  4.846433  2.807832  0.988545  2.273648  6.518003   \n",
       "2520  2.373882  6.099274  4.858593  2.744602  1.006371  2.318689  6.540992   \n",
       "\n",
       "           7         8         9    ...       490       491       492  \\\n",
       "0     1.000000  1.000000  1.000000  ...  1.000000  1.000000  1.000000   \n",
       "1     0.975428  0.999852  1.009095  ...  1.002918  0.995300  1.002308   \n",
       "2     0.971505  0.995109  1.001052  ...  0.989139  1.011919  1.009508   \n",
       "3     0.976796  0.984003  0.993953  ...  1.000098  1.022173  1.020041   \n",
       "4     0.983470  0.956310  0.983609  ...  1.002391  1.006546  1.010501   \n",
       "...        ...       ...       ...  ...       ...       ...       ...   \n",
       "2516  2.908633  3.499915  1.601292  ...  3.481065  2.973269  4.273762   \n",
       "2517  2.892377  3.435799  1.593127  ...  3.467094  2.925911  4.271259   \n",
       "2518  2.921095  3.491847  1.607872  ...  3.453439  2.986521  4.167870   \n",
       "2519  2.864868  3.463938  1.608643  ...  3.493630  2.935810  4.157001   \n",
       "2520  2.908395  3.496570  1.576795  ...  3.459394  2.960059  4.146777   \n",
       "\n",
       "           493       494       495       496       497       498       499  \n",
       "0     1.000000  1.000000  1.000000  1.000000  1.000000  1.000000  1.000000  \n",
       "1     1.002913  0.979132  1.010533  0.993764  0.987278  1.015295  0.997934  \n",
       "2     1.001863  0.974621  1.001766  1.003865  0.978195  1.023077  1.009528  \n",
       "3     1.007458  0.984587  0.988150  1.014003  0.984314  1.042120  1.015831  \n",
       "4     1.017149  0.982347  0.998992  1.006091  0.991312  1.076535  1.007431  \n",
       "...        ...       ...       ...       ...       ...       ...       ...  \n",
       "2516  1.652350  3.796134  3.355541  4.658482  5.090017  2.478610  8.696723  \n",
       "2517  1.651689  3.876157  3.381350  4.656889  5.087847  2.503971  8.709981  \n",
       "2518  1.682841  3.876177  3.320925  4.641446  5.153089  2.556704  8.774879  \n",
       "2519  1.672654  3.829284  3.322914  4.660798  5.067869  2.581551  8.659614  \n",
       "2520  1.714943  3.907439  3.292375  4.643014  5.055856  2.612963  8.737557  \n",
       "\n",
       "[2521 rows x 500 columns]"
      ]
     },
     "execution_count": 38,
     "metadata": {},
     "output_type": "execute_result"
    }
   ],
   "source": [
    "# Run the Monte Carlo simulation to forecast 10 years cumulative returns\n",
    "MC_2080.calc_cumulative_return()\n"
   ]
  },
  {
   "cell_type": "code",
   "execution_count": 39,
   "metadata": {},
   "outputs": [
    {
     "data": {
      "image/png": "[encoded data removed]",
      "text/plain": [
       "<Figure size 432x288 with 1 Axes>"
      ]
     },
     "metadata": {
      "needs_background": "light"
     },
     "output_type": "display_data"
    }
   ],
   "source": [
    "# Visualize the 10-year Monte Carlo simulation by creating an\n",
    "# overlay line plot\n",
    "weight_2080_plot = MC_2080.plot_simulation()\n"
   ]
  },
  {
   "cell_type": "code",
   "execution_count": 40,
   "metadata": {},
   "outputs": [
    {
     "data": {
      "image/png": "[encoded data removed]",
      "text/plain": [
       "<Figure size 432x288 with 1 Axes>"
      ]
     },
     "metadata": {
      "needs_background": "light"
     },
     "output_type": "display_data"
    }
   ],
   "source": [
    "# Visualize the probability distribution of the 10-year Monte Carlo simulation \n",
    "# by plotting a histogram\n",
    "distribution_2080_plot = MC_2080.plot_distribution()\n"
   ]
  },
  {
   "cell_type": "code",
   "execution_count": 41,
   "metadata": {},
   "outputs": [
    {
     "name": "stdout",
     "output_type": "stream",
     "text": [
      "count           500.000000\n",
      "mean              4.452845\n",
      "std               2.946268\n",
      "min               0.764862\n",
      "25%               2.561788\n",
      "50%               3.797678\n",
      "75%               5.427528\n",
      "max              25.424240\n",
      "95% CI Lower      1.163775\n",
      "95% CI Upper     12.226510\n",
      "Name: 2520, dtype: float64\n"
     ]
    }
   ],
   "source": [
    "# Generate summary statistics from the 10-year Monte Carlo simulation results\n",
    "# Save the results as a variable\n",
    "weight_2080_table = MC_2080.summarize_cumulative_return()\n",
    "\n",
    "\n",
    "# Review the 10-year Monte Carlo summary statistics\n",
    "print(weight_2080_table)"
   ]
  },
  {
   "cell_type": "markdown",
   "metadata": {},
   "source": [
    "### Answer the following questions:"
   ]
  },
  {
   "cell_type": "markdown",
   "metadata": {},
   "source": [
    "#### Question: Using the current value of only the stock and bond portion of the member's portfolio and the summary statistics that you generated from the new Monte Carlo simulation, what are the lower and upper bounds for the expected value of the portfolio (with the new weights) with a 95% confidence interval?"
   ]
  },
  {
   "cell_type": "code",
   "execution_count": 42,
   "metadata": {},
   "outputs": [
    {
     "name": "stdout",
     "output_type": "stream",
     "text": [
      "The current value of your bond portfolio holding is $22824.00\n",
      "The current value of your equity portfolio holding is $48160.20\n",
      "The current value of your total portfolio holding is $70984.20\n",
      "______________________________________\n"
     ]
    }
   ],
   "source": [
    "# Print the current balance of the stock and bond portion of the members portfolio\n",
    "print(f\"The current value of your bond portfolio holding is ${agg_value:.2f}\")\n",
    "print(f\"The current value of your equity portfolio holding is ${spy_value:.2f}\")\n",
    "print(f\"The current value of your total portfolio holding is ${total_stocks_bonds:.2f}\")\n",
    "\n",
    "print(\"______________________________________\")\n"
   ]
  },
  {
   "cell_type": "code",
   "execution_count": 43,
   "metadata": {},
   "outputs": [
    {
     "name": "stdout",
     "output_type": "stream",
     "text": [
      "There is a 95% chance that the current value of $70984.20 in the portfolio with a 20% / 80% mix in the bond and equity funds over the next 10 years will end within in the range of $82609.63 and $867889.0.\n"
     ]
    }
   ],
   "source": [
    "# Use the lower and upper `95%` confidence intervals to calculate the range of the possible outcomes for the current stock/bond portfolio\n",
    "ci_lower_ten_cumulative_return = round(weight_2080_table[8]*total_stocks_bonds,2)\n",
    "ci_upper_ten_cumulative_return = round(weight_2080_table[9]*total_stocks_bonds,2)\n",
    "\n",
    "# Print the result of your calculations\n",
    "print(f\"There is a 95% chance that the current value of ${total_stocks_bonds:.2f} in the portfolio with a \"\n",
    "      f\"20% / 80% mix in the bond and equity funds over the next 10 years will end within in the range of\"\n",
    "      f\" ${ci_lower_ten_cumulative_return} and ${ci_upper_ten_cumulative_return}.\")\n"
   ]
  },
  {
   "cell_type": "markdown",
   "metadata": {},
   "source": [
    "#### Question: Will weighting the portfolio more heavily to stocks allow the credit union members to retire after only 10 years?"
   ]
  },
  {
   "cell_type": "raw",
   "metadata": {},
   "source": [
    "**Answer** #While I'm not sure what is the standard or goal for the member's retirement, there is no question that the 30 yr wait is much better for the long term potential growth of the portfolio. Even placing a 5%/95% equity heavy allocation for the 10 yr simulation results in a high end that doesn't come close to the 40/60 allocation for 30 years.  For the 30yr simulation, the member is guaranteed at the very least a roughly 6 times increase of their value as a worst case scenario with 95% certainty. The high end is 130-140ish times the current value with 95% certainty.\n",
    "\n",
    "#For the 10yr simulation the member is only going to experience a 30% increase on the low end with a 95% certainty and a high of about 11-12 times their total value with 95% certainty. There is no question about it. The longer you can wait the better. Moral of the story is start investing early!  I would say the member can't retire after only 10 years of the 20/80 allocation investment for this reason."
   ]
  },
  {
   "cell_type": "code",
   "execution_count": null,
   "metadata": {},
   "outputs": [],
   "source": []
  }
 ],
 "metadata": {
  "kernelspec": {
   "display_name": "Python 3",
   "language": "python",
   "name": "python3"
  },
  "language_info": {
   "codemirror_mode": {
    "name": "ipython",
    "version": 3
   },
   "file_extension": ".py",
   "mimetype": "text/x-python",
   "name": "python",
   "nbconvert_exporter": "python",
   "pygments_lexer": "ipython3",
   "version": "3.7.10"
  }
 },
 "nbformat": 4,
 "nbformat_minor": 4
}
