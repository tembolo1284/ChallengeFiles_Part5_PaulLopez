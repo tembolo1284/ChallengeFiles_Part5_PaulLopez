{
 "cells": [
  {
   "cell_type": "markdown",
   "metadata": {},
   "source": [
    "# Financial Planning with APIs and Simulations\n",
    "\n",
    "In this Challenge, you’ll create two financial analysis tools by using a single Jupyter notebook:\n",
    "\n",
    "Part 1: A financial planner for emergencies. The members will be able to use this tool to visualize their current savings. The members can then determine if they have enough reserves for an emergency fund.\n",
    "\n",
    "Part 2: A financial planner for retirement. This tool will forecast the performance of their retirement portfolio in 30 years. To do this, the tool will make an Alpaca API call via the Alpaca SDK to get historical price data for use in Monte Carlo simulations.\n",
    "\n",
    "You’ll use the information from the Monte Carlo simulation to answer questions about the portfolio in your Jupyter notebook.\n",
    "\n"
   ]
  },
  {
   "cell_type": "code",
   "execution_count": 1,
   "metadata": {},
   "outputs": [],
   "source": [
    "# Import the required libraries and dependencies\n",
    "import os\n",
    "import requests\n",
    "import json\n",
    "import pandas as pd\n",
    "from dotenv import load_dotenv\n",
    "import alpaca_trade_api as tradeapi\n",
    "from MCForecastTools import MCSimulation\n",
    "\n",
    "%matplotlib inline"
   ]
  },
  {
   "cell_type": "code",
   "execution_count": 2,
   "metadata": {},
   "outputs": [
    {
     "data": {
      "text/plain": [
       "True"
      ]
     },
     "execution_count": 2,
     "metadata": {},
     "output_type": "execute_result"
    }
   ],
   "source": [
    "# Load the environment variables from the .env file\n",
    "#by calling the load_dotenv function\n",
    "load_dotenv()"
   ]
  },
  {
   "cell_type": "markdown",
   "metadata": {},
   "source": [
    "## Part 1: Create a Financial Planner for Emergencies"
   ]
  },
  {
   "cell_type": "markdown",
   "metadata": {},
   "source": [
    "### Evaluate the Cryptocurrency Wallet by Using the Requests Library\n",
    "\n",
    "In this section, you’ll determine the current value of a member’s cryptocurrency wallet. You’ll collect the current prices for the Bitcoin and Ethereum cryptocurrencies by using the Python Requests library. For the prototype, you’ll assume that the member holds the 1.2 Bitcoins (BTC) and 5.3 Ethereum coins (ETH). To do all this, complete the following steps:\n",
    "\n",
    "1. Create a variable named `monthly_income`, and set its value to `12000`.\n",
    "\n",
    "2. Use the Requests library to get the current price (in US dollars) of Bitcoin (BTC) and Ethereum (ETH) by using the API endpoints that the starter code supplies.\n",
    "\n",
    "3. Navigate the JSON response object to access the current price of each coin, and store each in a variable.\n",
    "\n",
    "    > **Hint** Note the specific identifier for each cryptocurrency in the API JSON response. The Bitcoin identifier is `1`, and the Ethereum identifier is `1027`.\n",
    "\n",
    "4. Calculate the value, in US dollars, of the current amount of each cryptocurrency and of the entire cryptocurrency wallet.\n",
    "\n"
   ]
  },
  {
   "cell_type": "code",
   "execution_count": 3,
   "metadata": {},
   "outputs": [],
   "source": [
    "# The current number of coins for each cryptocurrency asset held in the portfolio.\n",
    "btc_coins = 1.2\n",
    "eth_coins = 5.3"
   ]
  },
  {
   "cell_type": "markdown",
   "metadata": {},
   "source": [
    "#### Step 1: Create a variable named `monthly_income`, and set its value to `12000`."
   ]
  },
  {
   "cell_type": "code",
   "execution_count": 4,
   "metadata": {},
   "outputs": [
    {
     "data": {
      "text/plain": [
       "12000"
      ]
     },
     "execution_count": 4,
     "metadata": {},
     "output_type": "execute_result"
    }
   ],
   "source": [
    "# The monthly amount for the member's household income\n",
    "monthly_income = 12000\n",
    "monthly_income"
   ]
  },
  {
   "cell_type": "markdown",
   "metadata": {},
   "source": [
    "#### Review the endpoint URLs for the API calls to Free Crypto API in order to get the current pricing information for both BTC and ETH."
   ]
  },
  {
   "cell_type": "code",
   "execution_count": 5,
   "metadata": {},
   "outputs": [],
   "source": [
    "# The Free Crypto API Call endpoint URLs for the held cryptocurrency assets\n",
    "btc_url = \"https://api.alternative.me/v2/ticker/Bitcoin/?convert=USD\"\n",
    "eth_url = \"https://api.alternative.me/v2/ticker/Ethereum/?convert=USD\""
   ]
  },
  {
   "cell_type": "markdown",
   "metadata": {},
   "source": [
    "#### Step 2. Use the Requests library to get the current price (in US dollars) of Bitcoin (BTC) and Ethereum (ETH) by using the API endpoints that the starter code supplied."
   ]
  },
  {
   "cell_type": "code",
   "execution_count": 6,
   "metadata": {},
   "outputs": [
    {
     "name": "stdout",
     "output_type": "stream",
     "text": [
      "{\n",
      "    \"data\": {\n",
      "        \"1\": {\n",
      "            \"circulating_supply\": 18841387,\n",
      "            \"id\": 1,\n",
      "            \"last_updated\": 1634017131,\n",
      "            \"max_supply\": 21000000,\n",
      "            \"name\": \"Bitcoin\",\n",
      "            \"quotes\": {\n",
      "                \"USD\": {\n",
      "                    \"market_cap\": 1076397322160,\n",
      "                    \"percent_change_1h\": -0.498290382675498,\n",
      "                    \"percent_change_24h\": 0.56845055267246,\n",
      "                    \"percent_change_7d\": 15.293597079462,\n",
      "                    \"percentage_change_1h\": -0.498290382675498,\n",
      "                    \"percentage_change_24h\": 0.56845055267246,\n",
      "                    \"percentage_change_7d\": 15.293597079462,\n",
      "                    \"price\": 56794.0,\n",
      "                    \"volume_24h\": 39233032179\n",
      "                }\n",
      "            },\n",
      "            \"rank\": 1,\n",
      "            \"symbol\": \"BTC\",\n",
      "            \"total_supply\": 18841387,\n",
      "            \"website_slug\": \"bitcoin\"\n",
      "        }\n",
      "    },\n",
      "    \"metadata\": {\n",
      "        \"error\": null,\n",
      "        \"num_cryptocurrencies\": 3105,\n",
      "        \"timestamp\": 1634017131\n",
      "    }\n",
      "}\n"
     ]
    }
   ],
   "source": [
    "# Using the Python requests library, make an API call to access the current price of BTC\n",
    "btc_response = requests.get(btc_url).json()\n",
    "#btc_response\n",
    "\n",
    "# Use the json.dumps function to review the response data from the API call\n",
    "# Use the indent and sort_keys parameters to make the response object readable\n",
    "print(json.dumps(btc_response, indent=4, sort_keys=True))\n"
   ]
  },
  {
   "cell_type": "code",
   "execution_count": 7,
   "metadata": {},
   "outputs": [
    {
     "name": "stdout",
     "output_type": "stream",
     "text": [
      "{\n",
      "    \"data\": {\n",
      "        \"1027\": {\n",
      "            \"circulating_supply\": 117892297,\n",
      "            \"id\": 1027,\n",
      "            \"last_updated\": 1634017133,\n",
      "            \"max_supply\": 0,\n",
      "            \"name\": \"Ethereum\",\n",
      "            \"quotes\": {\n",
      "                \"USD\": {\n",
      "                    \"market_cap\": 413547812229,\n",
      "                    \"percent_change_1h\": -0.929618386716772,\n",
      "                    \"percent_change_24h\": -1.35004235506413,\n",
      "                    \"percent_change_7d\": 2.4681923164624,\n",
      "                    \"percentage_change_1h\": -0.929618386716772,\n",
      "                    \"percentage_change_24h\": -1.35004235506413,\n",
      "                    \"percentage_change_7d\": 2.4681923164624,\n",
      "                    \"price\": 3473.99,\n",
      "                    \"volume_24h\": 18846480380\n",
      "                }\n",
      "            },\n",
      "            \"rank\": 2,\n",
      "            \"symbol\": \"ETH\",\n",
      "            \"total_supply\": 117892297,\n",
      "            \"website_slug\": \"ethereum\"\n",
      "        }\n",
      "    },\n",
      "    \"metadata\": {\n",
      "        \"error\": null,\n",
      "        \"num_cryptocurrencies\": 3105,\n",
      "        \"timestamp\": 1634017133\n",
      "    }\n",
      "}\n"
     ]
    }
   ],
   "source": [
    "# Using the Python requests library, make an API call to access the current price ETH\n",
    "eth_response = requests.get(eth_url).json()\n",
    "#eth_response\n",
    "\n",
    "# Use the json.dumps function to review the response data from the API call\n",
    "# Use the indent and sort_keys parameters to make the response object readable\n",
    "print(json.dumps(eth_response, indent=4, sort_keys=True))\n"
   ]
  },
  {
   "cell_type": "markdown",
   "metadata": {},
   "source": [
    "#### Step 3: Navigate the JSON response object to access the current price of each coin, and store each in a variable."
   ]
  },
  {
   "cell_type": "code",
   "execution_count": 8,
   "metadata": {},
   "outputs": [
    {
     "name": "stdout",
     "output_type": "stream",
     "text": [
      "The price for Bitcoin is $56794.0\n"
     ]
    }
   ],
   "source": [
    "# Navigate the BTC response object to access the current price of BTC\n",
    "btc_price = btc_response['data']['1']['quotes']['USD']['price']\n",
    "# Print the current price of BTC\n",
    "print(f\"The price for Bitcoin is ${btc_price}\")\n"
   ]
  },
  {
   "cell_type": "code",
   "execution_count": 9,
   "metadata": {},
   "outputs": [
    {
     "name": "stdout",
     "output_type": "stream",
     "text": [
      "The price for Ethereum is $3473.99\n"
     ]
    }
   ],
   "source": [
    "# Navigate the BTC response object to access the current price of ETH\n",
    "eth_price = eth_response['data']['1027']['quotes']['USD']['price']\n",
    "# Print the current price of ETH\n",
    "print(f\"The price for Ethereum is ${eth_price}\")\n"
   ]
  },
  {
   "cell_type": "markdown",
   "metadata": {},
   "source": [
    "### Step 4: Calculate the value, in US dollars, of the current amount of each cryptocurrency and of the entire cryptocurrency wallet."
   ]
  },
  {
   "cell_type": "code",
   "execution_count": 10,
   "metadata": {},
   "outputs": [
    {
     "name": "stdout",
     "output_type": "stream",
     "text": [
      "The current value of your Bitcoin holding is $68152.80\n"
     ]
    }
   ],
   "source": [
    "# Compute the current value of the BTC holding \n",
    "btc_value = btc_price * btc_coins\n",
    "\n",
    "# Print current value of your holding in BTC\n",
    "print(f\"The current value of your Bitcoin holding is ${btc_value:.2f}\")\n"
   ]
  },
  {
   "cell_type": "code",
   "execution_count": 11,
   "metadata": {},
   "outputs": [
    {
     "name": "stdout",
     "output_type": "stream",
     "text": [
      "The current value of your Ethereum holding is $18412.15\n"
     ]
    }
   ],
   "source": [
    "# Compute the current value of the ETH holding \n",
    "eth_value = eth_price * eth_coins\n",
    "\n",
    "# Print current value of your holding in ETH\n",
    "print(f\"The current value of your Ethereum holding is ${eth_value:.2f}\")\n"
   ]
  },
  {
   "cell_type": "code",
   "execution_count": 12,
   "metadata": {},
   "outputs": [
    {
     "name": "stdout",
     "output_type": "stream",
     "text": [
      "The current value of your combined Bitcoin and Ethereum holding is $86564.95\n"
     ]
    }
   ],
   "source": [
    "# Compute the total value of the cryptocurrency wallet\n",
    "# Add the value of the BTC holding to the value of the ETH holding\n",
    "total_crypto_wallet = btc_value + eth_value\n",
    "\n",
    "# Print current cryptocurrency wallet balance\n",
    "print(f\"The current value of your combined Bitcoin and Ethereum holding is ${total_crypto_wallet:.2f}\")\n"
   ]
  },
  {
   "cell_type": "markdown",
   "metadata": {},
   "source": [
    "### Evaluate the Stock and Bond Holdings by Using the Alpaca SDK\n",
    "\n",
    "In this section, you’ll determine the current value of a member’s stock and bond holdings. You’ll make an API call to Alpaca via the Alpaca SDK to get the current closing prices of the SPDR S&P 500 ETF Trust (ticker: SPY) and of the iShares Core US Aggregate Bond ETF (ticker: AGG). For the prototype, assume that the member holds 110 shares of SPY, which represents the stock portion of their portfolio, and 200 shares of AGG, which represents the bond portion. To do all this, complete the following steps:\n",
    "\n",
    "1. In the `Starter_Code` folder, create an environment file (`.env`) to store the values of your Alpaca API key and Alpaca secret key.\n",
    "\n",
    "2. Set the variables for the Alpaca API and secret keys. Using the Alpaca SDK, create the Alpaca `tradeapi.REST` object. In this object, include the parameters for the Alpaca API key, the secret key, and the version number.\n",
    "\n",
    "3. Set the following parameters for the Alpaca API call:\n",
    "\n",
    "    - `tickers`: Use the tickers for the member’s stock and bond holdings.\n",
    "\n",
    "    - `timeframe`: Use a time frame of one day.\n",
    "\n",
    "    - `start_date` and `end_date`: Use the same date for these parameters, and format them with the date of the previous weekday (or `2020-08-07`). This is because you want the one closing price for the most-recent trading day.\n",
    "\n",
    "4. Get the current closing prices for `SPY` and `AGG` by using the Alpaca `get_barset` function. Format the response as a Pandas DataFrame by including the `df` property at the end of the `get_barset` function.\n",
    "\n",
    "5. Navigating the Alpaca response DataFrame, select the `SPY` and `AGG` closing prices, and store them as variables.\n",
    "\n",
    "6. Calculate the value, in US dollars, of the current amount of shares in each of the stock and bond portions of the portfolio, and print the results.\n"
   ]
  },
  {
   "cell_type": "markdown",
   "metadata": {},
   "source": [
    "#### Review the total number of shares held in both (SPY) and (AGG)."
   ]
  },
  {
   "cell_type": "code",
   "execution_count": 13,
   "metadata": {},
   "outputs": [],
   "source": [
    "# Current amount of shares held in both the stock (SPY) and bond (AGG) portion of the portfolio.\n",
    "spy_shares = 110\n",
    "agg_shares = 200\n"
   ]
  },
  {
   "cell_type": "markdown",
   "metadata": {},
   "source": [
    "#### Step 1: In the `Starter_Code` folder, create an environment file (`.env`) to store the values of your Alpaca API key and Alpaca secret key."
   ]
  },
  {
   "cell_type": "markdown",
   "metadata": {},
   "source": [
    "#### Step 2: Set the variables for the Alpaca API and secret keys. Using the Alpaca SDK, create the Alpaca `tradeapi.REST` object. In this object, include the parameters for the Alpaca API key, the secret key, and the version number."
   ]
  },
  {
   "cell_type": "code",
   "execution_count": 14,
   "metadata": {},
   "outputs": [
    {
     "data": {
      "text/plain": [
       "str"
      ]
     },
     "metadata": {},
     "output_type": "display_data"
    },
    {
     "data": {
      "text/plain": [
       "str"
      ]
     },
     "metadata": {},
     "output_type": "display_data"
    }
   ],
   "source": [
    "# Set the variables for the Alpaca API and secret keys\n",
    "alpaca_api_key = os.getenv(\"ALPACA_API_KEY\")\n",
    "alpaca_secret_key = os.getenv(\"ALPACA_SECRET_KEY\")\n",
    "\n",
    "# Check the values were imported correctly by evaluating the type of each\n",
    "display(type(alpaca_api_key))\n",
    "display(type(alpaca_secret_key))\n",
    "\n",
    "# Create the Alpaca tradeapi.REST object\n",
    "alpaca = tradeapi.REST(alpaca_api_key, alpaca_secret_key, api_version=\"v2\")\n"
   ]
  },
  {
   "cell_type": "markdown",
   "metadata": {},
   "source": [
    "#### Step 3: Set the following parameters for the Alpaca API call:\n",
    "\n",
    "- `tickers`: Use the tickers for the member’s stock and bond holdings.\n",
    "\n",
    "- `timeframe`: Use a time frame of one day.\n",
    "\n",
    "- `start_date` and `end_date`: Use the same date for these parameters, and format them with the date of the previous weekday (or `2020-08-07`). This is because you want the one closing price for the most-recent trading day.\n"
   ]
  },
  {
   "cell_type": "code",
   "execution_count": 15,
   "metadata": {},
   "outputs": [],
   "source": [
    "# Set the tickers for both the bond and stock portion of the portfolio\n",
    "tickers = [\"AGG\", \"SPY\"]\n",
    "\n",
    "# Set timeframe to 1D \n",
    "timeframe = \"1D\"\n",
    "\n",
    "# Format current date as ISO format\n",
    "# Set both the start and end date at the date of your prior weekday \n",
    "# This will give you the closing price of the previous trading day\n",
    "# Alternatively you can use a start and end date of 2020-08-07\n",
    "start_date = pd.Timestamp(\"2021-10-08\", tz=\"America/New_York\").isoformat()\n",
    "end_date = pd.Timestamp(\"2021-10-08\", tz=\"America/New_York\").isoformat()\n",
    "limit_rows = 1000\n"
   ]
  },
  {
   "cell_type": "markdown",
   "metadata": {},
   "source": [
    "#### Step 4: Get the current closing prices for `SPY` and `AGG` by using the Alpaca `get_barset` function. Format the response as a Pandas DataFrame by including the `df` property at the end of the `get_barset` function."
   ]
  },
  {
   "cell_type": "code",
   "execution_count": 16,
   "metadata": {},
   "outputs": [
    {
     "data": {
      "text/html": [
       "<div>\n",
       "<style scoped>\n",
       "    .dataframe tbody tr th:only-of-type {\n",
       "        vertical-align: middle;\n",
       "    }\n",
       "\n",
       "    .dataframe tbody tr th {\n",
       "        vertical-align: top;\n",
       "    }\n",
       "\n",
       "    .dataframe thead tr th {\n",
       "        text-align: left;\n",
       "    }\n",
       "\n",
       "    .dataframe thead tr:last-of-type th {\n",
       "        text-align: right;\n",
       "    }\n",
       "</style>\n",
       "<table border=\"1\" class=\"dataframe\">\n",
       "  <thead>\n",
       "    <tr>\n",
       "      <th></th>\n",
       "      <th colspan=\"5\" halign=\"left\">AGG</th>\n",
       "      <th colspan=\"5\" halign=\"left\">SPY</th>\n",
       "    </tr>\n",
       "    <tr>\n",
       "      <th></th>\n",
       "      <th>open</th>\n",
       "      <th>high</th>\n",
       "      <th>low</th>\n",
       "      <th>close</th>\n",
       "      <th>volume</th>\n",
       "      <th>open</th>\n",
       "      <th>high</th>\n",
       "      <th>low</th>\n",
       "      <th>close</th>\n",
       "      <th>volume</th>\n",
       "    </tr>\n",
       "    <tr>\n",
       "      <th>time</th>\n",
       "      <th></th>\n",
       "      <th></th>\n",
       "      <th></th>\n",
       "      <th></th>\n",
       "      <th></th>\n",
       "      <th></th>\n",
       "      <th></th>\n",
       "      <th></th>\n",
       "      <th></th>\n",
       "      <th></th>\n",
       "    </tr>\n",
       "  </thead>\n",
       "  <tbody>\n",
       "    <tr>\n",
       "      <th>2021-10-08 00:00:00-04:00</th>\n",
       "      <td>114.31</td>\n",
       "      <td>114.35</td>\n",
       "      <td>114.07</td>\n",
       "      <td>114.12</td>\n",
       "      <td>4207570</td>\n",
       "      <td>439.48</td>\n",
       "      <td>439.89</td>\n",
       "      <td>437.19</td>\n",
       "      <td>437.82</td>\n",
       "      <td>57510090</td>\n",
       "    </tr>\n",
       "  </tbody>\n",
       "</table>\n",
       "</div>"
      ],
      "text/plain": [
       "                              AGG                                      SPY  \\\n",
       "                             open    high     low   close   volume    open   \n",
       "time                                                                         \n",
       "2021-10-08 00:00:00-04:00  114.31  114.35  114.07  114.12  4207570  439.48   \n",
       "\n",
       "                                                             \n",
       "                             high     low   close    volume  \n",
       "time                                                         \n",
       "2021-10-08 00:00:00-04:00  439.89  437.19  437.82  57510090  "
      ]
     },
     "execution_count": 16,
     "metadata": {},
     "output_type": "execute_result"
    }
   ],
   "source": [
    "# Use the Alpaca get_barset function to get current closing prices the portfolio\n",
    "# Be sure to set the `df` property after the function to format the response object as a DataFrame\n",
    "prices_df = alpaca.get_barset(tickers, timeframe, start=start_date, end=end_date, limit=limit_rows).df\n",
    "\n",
    "# Review the first five rows of the resulting DataFrame \n",
    "prices_df.head()\n"
   ]
  },
  {
   "cell_type": "markdown",
   "metadata": {},
   "source": [
    "#### Step 5: Navigating the Alpaca response DataFrame, select the `SPY` and `AGG` closing prices, and store them as variables."
   ]
  },
  {
   "cell_type": "code",
   "execution_count": 17,
   "metadata": {},
   "outputs": [
    {
     "name": "stdout",
     "output_type": "stream",
     "text": [
      "114.12\n"
     ]
    }
   ],
   "source": [
    "# Access the closing price for AGG from the Alpaca DataFrame\n",
    "# Converting the value to a floating point number\n",
    "agg_close_price = float(prices_df[\"AGG\"][\"close\"])\n",
    "\n",
    "# Print the AGG closing price\n",
    "print(agg_close_price)\n"
   ]
  },
  {
   "cell_type": "code",
   "execution_count": 18,
   "metadata": {},
   "outputs": [
    {
     "name": "stdout",
     "output_type": "stream",
     "text": [
      "437.82\n"
     ]
    }
   ],
   "source": [
    "# Access the closing price for SPY from the Alpaca DataFrame\n",
    "# Converting the value to a floating point number\n",
    "spy_close_price = float(prices_df[\"SPY\"][\"close\"])\n",
    "\n",
    "# Print the SPY closing price\n",
    "print(spy_close_price)\n"
   ]
  },
  {
   "cell_type": "markdown",
   "metadata": {},
   "source": [
    "#### Step 6: Calculate the value, in US dollars, of the current amount of shares in each of the stock and bond portions of the portfolio, and print the results."
   ]
  },
  {
   "cell_type": "code",
   "execution_count": 19,
   "metadata": {},
   "outputs": [
    {
     "name": "stdout",
     "output_type": "stream",
     "text": [
      "The current value of your bond portfolio holding is $22824.00\n"
     ]
    }
   ],
   "source": [
    "# Calculate the current value of the bond portion of the portfolio\n",
    "agg_value = agg_shares * agg_close_price\n",
    "\n",
    "# Print the current value of the bond portfolio\n",
    "print(f\"The current value of your bond portfolio holding is ${agg_value:.2f}\")\n"
   ]
  },
  {
   "cell_type": "code",
   "execution_count": 20,
   "metadata": {},
   "outputs": [
    {
     "name": "stdout",
     "output_type": "stream",
     "text": [
      "The current value of your equity portfolio holding is $48160.20\n"
     ]
    }
   ],
   "source": [
    "# Calculate the current value of the stock portion of the portfolio\n",
    "spy_value = spy_shares * spy_close_price\n",
    "\n",
    "# Print the current value of the stock portfolio\n",
    "print(f\"The current value of your equity portfolio holding is ${spy_value:.2f}\")\n"
   ]
  },
  {
   "cell_type": "code",
   "execution_count": 21,
   "metadata": {},
   "outputs": [
    {
     "name": "stdout",
     "output_type": "stream",
     "text": [
      "The current value of your total portfolio holding is $70984.20\n"
     ]
    }
   ],
   "source": [
    "# Calculate the total value of the stock and bond portion of the portfolio\n",
    "total_stocks_bonds = agg_value + spy_value\n",
    "\n",
    "# Print the current balance of the stock and bond portion of the portfolio\n",
    "print(f\"The current value of your total portfolio holding is ${total_stocks_bonds:.2f}\")\n",
    "\n"
   ]
  },
  {
   "cell_type": "code",
   "execution_count": 22,
   "metadata": {},
   "outputs": [
    {
     "name": "stdout",
     "output_type": "stream",
     "text": [
      "The current value of your total portfolio holding of crypto currency, bond, and equity holding is $157549.15\n"
     ]
    }
   ],
   "source": [
    "# Calculate the total value of the member's entire savings portfolio\n",
    "# Add the value of the cryptocurrency wallet to the value of the total stocks and bonds\n",
    "total_portfolio = total_stocks_bonds + total_crypto_wallet\n",
    "\n",
    "# Print current cryptocurrency wallet balance\n",
    "print(f\"The current value of your total portfolio holding of crypto currency, bond, and equity holding is ${total_portfolio:.2f}\")"
   ]
  },
  {
   "cell_type": "markdown",
   "metadata": {},
   "source": [
    "### Evaluate the Emergency Fund\n",
    "\n",
    "In this section, you’ll use the valuations for the cryptocurrency wallet and for the stock and bond portions of the portfolio to determine if the credit union member has enough savings to build an emergency fund into their financial plan. To do this, complete the following steps:\n",
    "\n",
    "1. Create a Python list named `savings_data` that has two elements. The first element contains the total value of the cryptocurrency wallet. The second element contains the total value of the stock and bond portions of the portfolio.\n",
    "\n",
    "2. Use the `savings_data` list to create a Pandas DataFrame named `savings_df`, and then display this DataFrame. The function to create the DataFrame should take the following three parameters:\n",
    "\n",
    "    - `savings_data`: Use the list that you just created.\n",
    "\n",
    "    - `columns`: Set this parameter equal to a Python list with a single value called `amount`.\n",
    "\n",
    "    - `index`: Set this parameter equal to a Python list with the values of `crypto` and `stock/bond`.\n",
    "\n",
    "3. Use the `savings_df` DataFrame to plot a pie chart that visualizes the composition of the member’s portfolio. The y-axis of the pie chart uses `amount`. Be sure to add a title.\n",
    "\n",
    "4. Using Python, determine if the current portfolio has enough to create an emergency fund as part of the member’s financial plan. Ideally, an emergency fund should equal to three times the member’s monthly income. To do this, implement the following steps:\n",
    "\n",
    "    1. Create a variable named `emergency_fund_value`, and set it equal to three times the value of the member’s `monthly_income` of $12000. (You set this earlier in Part 1).\n",
    "\n",
    "    2. Create a series of three if statements to determine if the member’s total portfolio is large enough to fund the emergency portfolio:\n",
    "\n",
    "        1. If the total portfolio value is greater than the emergency fund value, display a message congratulating the member for having enough money in this fund.\n",
    "\n",
    "        2. Else if the total portfolio value is equal to the emergency fund value, display a message congratulating the member on reaching this important financial goal.\n",
    "\n",
    "        3. Else the total portfolio is less than the emergency fund value, so display a message showing how many dollars away the member is from reaching the goal. (Subtract the total portfolio value from the emergency fund value.)\n"
   ]
  },
  {
   "cell_type": "markdown",
   "metadata": {},
   "source": [
    "#### Step 1: Create a Python list named `savings_data` that has two elements. The first element contains the total value of the cryptocurrency wallet. The second element contains the total value of the stock and bond portions of the portfolio."
   ]
  },
  {
   "cell_type": "code",
   "execution_count": 23,
   "metadata": {},
   "outputs": [
    {
     "data": {
      "text/plain": [
       "86564.947"
      ]
     },
     "execution_count": 23,
     "metadata": {},
     "output_type": "execute_result"
    }
   ],
   "source": [
    "# Consolidate financial assets data into a Python list\n",
    "savings_data = [total_crypto_wallet, total_stocks_bonds]\n",
    "\n",
    "# Review the Python list savings_data\n",
    "savings_data[0]\n",
    "    "
   ]
  },
  {
   "cell_type": "markdown",
   "metadata": {},
   "source": [
    "#### Step 2: Use the `savings_data` list to create a Pandas DataFrame named `savings_df`, and then display this DataFrame. The function to create the DataFrame should take the following three parameters:\n",
    "\n",
    "- `savings_data`: Use the list that you just created.\n",
    "\n",
    "- `columns`: Set this parameter equal to a Python list with a single value called `amount`.\n",
    "\n",
    "- `index`: Set this parameter equal to a Python list with the values of `crypto` and `stock/bond`.\n"
   ]
  },
  {
   "cell_type": "code",
   "execution_count": 24,
   "metadata": {},
   "outputs": [
    {
     "data": {
      "text/html": [
       "<div>\n",
       "<style scoped>\n",
       "    .dataframe tbody tr th:only-of-type {\n",
       "        vertical-align: middle;\n",
       "    }\n",
       "\n",
       "    .dataframe tbody tr th {\n",
       "        vertical-align: top;\n",
       "    }\n",
       "\n",
       "    .dataframe thead th {\n",
       "        text-align: right;\n",
       "    }\n",
       "</style>\n",
       "<table border=\"1\" class=\"dataframe\">\n",
       "  <thead>\n",
       "    <tr style=\"text-align: right;\">\n",
       "      <th></th>\n",
       "      <th>amount</th>\n",
       "    </tr>\n",
       "  </thead>\n",
       "  <tbody>\n",
       "    <tr>\n",
       "      <th>crypto</th>\n",
       "      <td>86564.947</td>\n",
       "    </tr>\n",
       "    <tr>\n",
       "      <th>stock/bond</th>\n",
       "      <td>70984.200</td>\n",
       "    </tr>\n",
       "  </tbody>\n",
       "</table>\n",
       "</div>"
      ],
      "text/plain": [
       "               amount\n",
       "crypto      86564.947\n",
       "stock/bond  70984.200"
      ]
     },
     "execution_count": 24,
     "metadata": {},
     "output_type": "execute_result"
    }
   ],
   "source": [
    "# Create a Pandas DataFrame called savings_df \n",
    "#savings_df =  pd.DataFrame({\"savings_data\": savings_data,\"columns\": \"amount\", \"index\" : [\"crypto\", \"stock/bond\"]})\n",
    "savings_df =  pd.DataFrame({\"amount\": savings_data}, index=[\"crypto\", \"stock/bond\"])\n",
    "\n",
    "# Display the savings_df DataFrame\n",
    "savings_df\n"
   ]
  },
  {
   "cell_type": "markdown",
   "metadata": {},
   "source": [
    "#### Step 3: Use the `savings_df` DataFrame to plot a pie chart that visualizes the composition of the member’s portfolio. The y-axis of the pie chart uses `amount`. Be sure to add a title."
   ]
  },
  {
   "cell_type": "code",
   "execution_count": 25,
   "metadata": {},
   "outputs": [
    {
     "data": {
      "text/plain": [
       "<AxesSubplot:title={'center':'Portfolio Composition - Crypto, Equity and Bond Holdings '}, ylabel='amount'>"
      ]
     },
     "execution_count": 25,
     "metadata": {},
     "output_type": "execute_result"
    },
    {
     "data": {
      "image/png": "[encoded data removed]",
      "text/plain": [
       "<Figure size 432x288 with 1 Axes>"
      ]
     },
     "metadata": {},
     "output_type": "display_data"
    }
   ],
   "source": [
    "# Plot the total value of the member's portfolio (crypto and stock/bond) in a pie chart\n",
    "#pie_values_df = pd.DataFrame({'Value':[aapl_value, msft_value]},index=['Apple', 'MSFT'])\n",
    "#pie_values_df\n",
    "savings_df.plot.pie(y='amount', title='Portfolio Composition - Crypto, Equity and Bond Holdings ')\n"
   ]
  },
  {
   "cell_type": "markdown",
   "metadata": {},
   "source": [
    "#### Step 4: Using Python, determine if the current portfolio has enough to create an emergency fund as part of the member’s financial plan. Ideally, an emergency fund should equal to three times the member’s monthly income. To do this, implement the following steps:\n",
    "\n",
    "Step 1. Create a variable named `emergency_fund_value`, and set it equal to three times the value of the member’s `monthly_income` of 12000. (You set this earlier in Part 1).\n",
    "\n",
    "Step 2. Create a series of three if statements to determine if the member’s total portfolio is large enough to fund the emergency portfolio:\n",
    "\n",
    "* If the total portfolio value is greater than the emergency fund value, display a message congratulating the member for having enough money in this fund.\n",
    "\n",
    "* Else if the total portfolio value is equal to the emergency fund value, display a message congratulating the member on reaching this important financial goal.\n",
    "\n",
    "* Else the total portfolio is less than the emergency fund value, so display a message showing how many dollars away the member is from reaching the goal. (Subtract the total portfolio value from the emergency fund value.)\n"
   ]
  },
  {
   "cell_type": "markdown",
   "metadata": {},
   "source": [
    "##### Step 4-1: Create a variable named `emergency_fund_value`, and set it equal to three times the value of the member’s `monthly_income` of 12000. (You set this earlier in Part 1)."
   ]
  },
  {
   "cell_type": "code",
   "execution_count": 26,
   "metadata": {},
   "outputs": [
    {
     "data": {
      "text/plain": [
       "36000"
      ]
     },
     "execution_count": 26,
     "metadata": {},
     "output_type": "execute_result"
    }
   ],
   "source": [
    "# Create a variable named emergency_fund_value\n",
    "emergency_fund_value = monthly_income * 3\n",
    "\n",
    "emergency_fund_value\n",
    "\n"
   ]
  },
  {
   "cell_type": "markdown",
   "metadata": {},
   "source": [
    "##### Step 4-2: Create a series of three if statements to determine if the member’s total portfolio is large enough to fund the emergency portfolio:\n",
    "\n",
    "* If the total portfolio value is greater than the emergency fund value, display a message congratulating the member for having enough money in this fund.\n",
    "\n",
    "* Else if the total portfolio value is equal to the emergency fund value, display a message congratulating the member on reaching this important financial goal.\n",
    "\n",
    "* Else the total portfolio is less than the emergency fund value, so display a message showing how many dollars away the member is from reaching the goal. (Subtract the total portfolio value from the emergency fund value.)"
   ]
  },
  {
   "cell_type": "code",
   "execution_count": 27,
   "metadata": {},
   "outputs": [
    {
     "name": "stdout",
     "output_type": "stream",
     "text": [
      "Congrats to you! You have enough money in this fund!\n"
     ]
    }
   ],
   "source": [
    "# Evaluate the possibility of creating an emergency fund with 3 conditions:\n",
    "# if total port > emergency then congrats to you guy\n",
    "if total_portfolio > emergency_fund_value:\n",
    "    print(\"Congrats to you! You have enough money in this fund!\")\n",
    "# if total port = emergency then good job for reaching the emergency fund financial goal    \n",
    "elif total_portfolio == emergency_fund_value:\n",
    "    print(\"Well done you have reached an important financial goal and funded your emergency fund\")\n",
    "    \n",
    "else:\n",
    "# if port < emergency then you are emergency - port value away from reaching your goal\n",
    "    print(f\"Sorry, but you are still {emergency_fund_value - total_portfolio:.2f} dollars away from fully funding your emergency fund.\")\n",
    "\n",
    "\n"
   ]
  },
  {
   "cell_type": "markdown",
   "metadata": {},
   "source": [
    "## Part 2: Create a Financial Planner for Retirement"
   ]
  },
  {
   "cell_type": "markdown",
   "metadata": {},
   "source": [
    "### Create the Monte Carlo Simulation\n",
    "\n",
    "In this section, you’ll use the MCForecastTools library to create a Monte Carlo simulation for the member’s savings portfolio. To do this, complete the following steps:\n",
    "\n",
    "1. Make an API call via the Alpaca SDK to get 3 years of historical closing prices for a traditional 60/40 portfolio split: 60% stocks (SPY) and 40% bonds (AGG).\n",
    "\n",
    "2. Run a Monte Carlo simulation of 500 samples and 30 years for the 60/40 portfolio, and then plot the results.The following image shows the overlay line plot resulting from a simulation with these characteristics. However, because a random number generator is used to run each live Monte Carlo simulation, your image will differ slightly from this exact image:\n",
    "\n",
    "![A screenshot depicts the resulting plot.](Images/5-4-monte-carlo-line-plot.png)\n",
    "\n",
    "3. Plot the probability distribution of the Monte Carlo simulation. Plot the probability distribution of the Monte Carlo simulation. The following image shows the histogram plot resulting from a simulation with these characteristics. However, because a random number generator is used to run each live Monte Carlo simulation, your image will differ slightly from this exact image:\n",
    "\n",
    "![A screenshot depicts the histogram plot.](Images/5-4-monte-carlo-histogram.png)\n",
    "\n",
    "4. Generate the summary statistics for the Monte Carlo simulation.\n",
    "\n"
   ]
  },
  {
   "cell_type": "markdown",
   "metadata": {},
   "source": [
    "#### Step 1: Make an API call via the Alpaca SDK to get 3 years of historical closing prices for a traditional 60/40 portfolio split: 60% stocks (SPY) and 40% bonds (AGG)."
   ]
  },
  {
   "cell_type": "code",
   "execution_count": 28,
   "metadata": {},
   "outputs": [],
   "source": [
    "# Set start and end dates of 3 years back from your current date\n",
    "# Alternatively, you can use an end date of 2020-08-07 and work 3 years back from that date \n",
    "start_date = pd.Timestamp(\"2018-10-18\", tz=\"America/New_York\").isoformat()\n",
    "end_date = pd.Timestamp(\"2021-10-08\", tz=\"America/New_York\").isoformat()\n",
    "\n",
    "# Set number of rows to 1000 to retrieve the maximum amount of rows\n",
    "limit_rows = 1000"
   ]
  },
  {
   "cell_type": "code",
   "execution_count": 29,
   "metadata": {},
   "outputs": [
    {
     "data": {
      "text/plain": [
       "['AGG', 'SPY']"
      ]
     },
     "execution_count": 29,
     "metadata": {},
     "output_type": "execute_result"
    }
   ],
   "source": [
    "# Use the Alpaca get_barset function to make the API call to get the 3 years worth of pricing data\n",
    "# The tickers and timeframe parameters should have been set in Part 1 of this activity \n",
    "# The start and end dates should be updated with the information set above\n",
    "# Remember to add the df property to the end of the call so the response is returned as a DataFrame\n",
    "prices_df = alpaca.get_barset(\n",
    "    tickers,\n",
    "    timeframe,\n",
    "    start=start_date,\n",
    "    end=end_date,\n",
    "    limit=limit_rows\n",
    ").df\n",
    "\n",
    "# Display both the first and last five rows of the DataFrame\n",
    "prices_df.head()\n",
    "prices_df.tail()\n",
    "tickers"
   ]
  },
  {
   "cell_type": "markdown",
   "metadata": {},
   "source": [
    "#### Step 2: Run a Monte Carlo simulation of 500 samples and 30 years for the 60/40 portfolio, and then plot the results."
   ]
  },
  {
   "cell_type": "code",
   "execution_count": 30,
   "metadata": {},
   "outputs": [
    {
     "data": {
      "text/html": [
       "<div>\n",
       "<style scoped>\n",
       "    .dataframe tbody tr th:only-of-type {\n",
       "        vertical-align: middle;\n",
       "    }\n",
       "\n",
       "    .dataframe tbody tr th {\n",
       "        vertical-align: top;\n",
       "    }\n",
       "\n",
       "    .dataframe thead tr th {\n",
       "        text-align: left;\n",
       "    }\n",
       "\n",
       "    .dataframe thead tr:last-of-type th {\n",
       "        text-align: right;\n",
       "    }\n",
       "</style>\n",
       "<table border=\"1\" class=\"dataframe\">\n",
       "  <thead>\n",
       "    <tr>\n",
       "      <th></th>\n",
       "      <th colspan=\"6\" halign=\"left\">AGG</th>\n",
       "      <th colspan=\"6\" halign=\"left\">SPY</th>\n",
       "    </tr>\n",
       "    <tr>\n",
       "      <th></th>\n",
       "      <th>open</th>\n",
       "      <th>high</th>\n",
       "      <th>low</th>\n",
       "      <th>close</th>\n",
       "      <th>volume</th>\n",
       "      <th>daily_return</th>\n",
       "      <th>open</th>\n",
       "      <th>high</th>\n",
       "      <th>low</th>\n",
       "      <th>close</th>\n",
       "      <th>volume</th>\n",
       "      <th>daily_return</th>\n",
       "    </tr>\n",
       "    <tr>\n",
       "      <th>time</th>\n",
       "      <th></th>\n",
       "      <th></th>\n",
       "      <th></th>\n",
       "      <th></th>\n",
       "      <th></th>\n",
       "      <th></th>\n",
       "      <th></th>\n",
       "      <th></th>\n",
       "      <th></th>\n",
       "      <th></th>\n",
       "      <th></th>\n",
       "      <th></th>\n",
       "    </tr>\n",
       "  </thead>\n",
       "  <tbody>\n",
       "    <tr>\n",
       "      <th>2018-10-18 00:00:00-04:00</th>\n",
       "      <td>104.39</td>\n",
       "      <td>104.6195</td>\n",
       "      <td>104.375</td>\n",
       "      <td>104.460</td>\n",
       "      <td>2687836.0</td>\n",
       "      <td>NaN</td>\n",
       "      <td>279.40</td>\n",
       "      <td>280.07</td>\n",
       "      <td>274.97</td>\n",
       "      <td>276.47</td>\n",
       "      <td>106592503</td>\n",
       "      <td>NaN</td>\n",
       "    </tr>\n",
       "    <tr>\n",
       "      <th>2018-10-19 00:00:00-04:00</th>\n",
       "      <td>104.47</td>\n",
       "      <td>104.5500</td>\n",
       "      <td>104.340</td>\n",
       "      <td>104.370</td>\n",
       "      <td>2912850.0</td>\n",
       "      <td>-0.000862</td>\n",
       "      <td>277.12</td>\n",
       "      <td>279.30</td>\n",
       "      <td>275.47</td>\n",
       "      <td>276.19</td>\n",
       "      <td>86816021</td>\n",
       "      <td>-0.001013</td>\n",
       "    </tr>\n",
       "    <tr>\n",
       "      <th>2018-10-22 00:00:00-04:00</th>\n",
       "      <td>104.47</td>\n",
       "      <td>104.5200</td>\n",
       "      <td>104.340</td>\n",
       "      <td>104.350</td>\n",
       "      <td>2634319.0</td>\n",
       "      <td>-0.000192</td>\n",
       "      <td>277.00</td>\n",
       "      <td>277.36</td>\n",
       "      <td>274.41</td>\n",
       "      <td>275.06</td>\n",
       "      <td>64990700</td>\n",
       "      <td>-0.004091</td>\n",
       "    </tr>\n",
       "    <tr>\n",
       "      <th>2018-10-23 00:00:00-04:00</th>\n",
       "      <td>104.67</td>\n",
       "      <td>104.7400</td>\n",
       "      <td>104.475</td>\n",
       "      <td>104.485</td>\n",
       "      <td>3281760.0</td>\n",
       "      <td>0.001294</td>\n",
       "      <td>270.94</td>\n",
       "      <td>274.87</td>\n",
       "      <td>268.61</td>\n",
       "      <td>273.54</td>\n",
       "      <td>113790534</td>\n",
       "      <td>-0.005526</td>\n",
       "    </tr>\n",
       "    <tr>\n",
       "      <th>2018-10-24 00:00:00-04:00</th>\n",
       "      <td>104.69</td>\n",
       "      <td>104.8100</td>\n",
       "      <td>104.670</td>\n",
       "      <td>104.760</td>\n",
       "      <td>4029453.0</td>\n",
       "      <td>0.002632</td>\n",
       "      <td>273.33</td>\n",
       "      <td>273.76</td>\n",
       "      <td>264.70</td>\n",
       "      <td>265.22</td>\n",
       "      <td>130172487</td>\n",
       "      <td>-0.030416</td>\n",
       "    </tr>\n",
       "  </tbody>\n",
       "</table>\n",
       "</div>"
      ],
      "text/plain": [
       "                              AGG                                         \\\n",
       "                             open      high      low    close     volume   \n",
       "time                                                                       \n",
       "2018-10-18 00:00:00-04:00  104.39  104.6195  104.375  104.460  2687836.0   \n",
       "2018-10-19 00:00:00-04:00  104.47  104.5500  104.340  104.370  2912850.0   \n",
       "2018-10-22 00:00:00-04:00  104.47  104.5200  104.340  104.350  2634319.0   \n",
       "2018-10-23 00:00:00-04:00  104.67  104.7400  104.475  104.485  3281760.0   \n",
       "2018-10-24 00:00:00-04:00  104.69  104.8100  104.670  104.760  4029453.0   \n",
       "\n",
       "                                           SPY                          \\\n",
       "                          daily_return    open    high     low   close   \n",
       "time                                                                     \n",
       "2018-10-18 00:00:00-04:00          NaN  279.40  280.07  274.97  276.47   \n",
       "2018-10-19 00:00:00-04:00    -0.000862  277.12  279.30  275.47  276.19   \n",
       "2018-10-22 00:00:00-04:00    -0.000192  277.00  277.36  274.41  275.06   \n",
       "2018-10-23 00:00:00-04:00     0.001294  270.94  274.87  268.61  273.54   \n",
       "2018-10-24 00:00:00-04:00     0.002632  273.33  273.76  264.70  265.22   \n",
       "\n",
       "                                                   \n",
       "                              volume daily_return  \n",
       "time                                               \n",
       "2018-10-18 00:00:00-04:00  106592503          NaN  \n",
       "2018-10-19 00:00:00-04:00   86816021    -0.001013  \n",
       "2018-10-22 00:00:00-04:00   64990700    -0.004091  \n",
       "2018-10-23 00:00:00-04:00  113790534    -0.005526  \n",
       "2018-10-24 00:00:00-04:00  130172487    -0.030416  "
      ]
     },
     "execution_count": 30,
     "metadata": {},
     "output_type": "execute_result"
    }
   ],
   "source": [
    "# Configure the Monte Carlo simulation to forecast 30 years cumulative returns\n",
    "# The weights should be split 40% to AGG and 60% to SPY.\n",
    "# Run 500 samples.\n",
    "MC_4060 = MCSimulation(\n",
    "    portfolio_data = prices_df,\n",
    "    weights = [.4,.6,],\n",
    "    num_simulation = 500,\n",
    "    num_trading_days = 252*30\n",
    ")\n",
    "\n",
    "# Review the simulation input data\n",
    "MC_4060.portfolio_data.head()\n"
   ]
  },
  {
   "cell_type": "code",
   "execution_count": 31,
   "metadata": {},
   "outputs": [
    {
     "name": "stdout",
     "output_type": "stream",
     "text": [
      "Running Monte Carlo simulation number 0.\n",
      "Running Monte Carlo simulation number 50.\n",
      "Running Monte Carlo simulation number 100.\n",
      "Running Monte Carlo simulation number 150.\n",
      "Running Monte Carlo simulation number 200.\n",
      "Running Monte Carlo simulation number 250.\n",
      "Running Monte Carlo simulation number 300.\n",
      "Running Monte Carlo simulation number 350.\n",
      "Running Monte Carlo simulation number 400.\n",
      "Running Monte Carlo simulation number 450.\n"
     ]
    },
    {
     "data": {
      "text/html": [
       "<div>\n",
       "<style scoped>\n",
       "    .dataframe tbody tr th:only-of-type {\n",
       "        vertical-align: middle;\n",
       "    }\n",
       "\n",
       "    .dataframe tbody tr th {\n",
       "        vertical-align: top;\n",
       "    }\n",
       "\n",
       "    .dataframe thead th {\n",
       "        text-align: right;\n",
       "    }\n",
       "</style>\n",
       "<table border=\"1\" class=\"dataframe\">\n",
       "  <thead>\n",
       "    <tr style=\"text-align: right;\">\n",
       "      <th></th>\n",
       "      <th>0</th>\n",
       "      <th>1</th>\n",
       "      <th>2</th>\n",
       "      <th>3</th>\n",
       "      <th>4</th>\n",
       "      <th>5</th>\n",
       "      <th>6</th>\n",
       "      <th>7</th>\n",
       "      <th>8</th>\n",
       "      <th>9</th>\n",
       "      <th>...</th>\n",
       "      <th>490</th>\n",
       "      <th>491</th>\n",
       "      <th>492</th>\n",
       "      <th>493</th>\n",
       "      <th>494</th>\n",
       "      <th>495</th>\n",
       "      <th>496</th>\n",
       "      <th>497</th>\n",
       "      <th>498</th>\n",
       "      <th>499</th>\n",
       "    </tr>\n",
       "  </thead>\n",
       "  <tbody>\n",
       "    <tr>\n",
       "      <th>0</th>\n",
       "      <td>1.000000</td>\n",
       "      <td>1.000000</td>\n",
       "      <td>1.000000</td>\n",
       "      <td>1.000000</td>\n",
       "      <td>1.000000</td>\n",
       "      <td>1.000000</td>\n",
       "      <td>1.000000</td>\n",
       "      <td>1.000000</td>\n",
       "      <td>1.000000</td>\n",
       "      <td>1.000000</td>\n",
       "      <td>...</td>\n",
       "      <td>1.000000</td>\n",
       "      <td>1.000000</td>\n",
       "      <td>1.000000</td>\n",
       "      <td>1.000000</td>\n",
       "      <td>1.000000</td>\n",
       "      <td>1.000000</td>\n",
       "      <td>1.000000</td>\n",
       "      <td>1.000000</td>\n",
       "      <td>1.000000</td>\n",
       "      <td>1.000000</td>\n",
       "    </tr>\n",
       "    <tr>\n",
       "      <th>1</th>\n",
       "      <td>0.982480</td>\n",
       "      <td>0.997914</td>\n",
       "      <td>1.010244</td>\n",
       "      <td>1.009759</td>\n",
       "      <td>1.004838</td>\n",
       "      <td>1.006783</td>\n",
       "      <td>1.015395</td>\n",
       "      <td>1.002152</td>\n",
       "      <td>0.992799</td>\n",
       "      <td>1.001810</td>\n",
       "      <td>...</td>\n",
       "      <td>1.010642</td>\n",
       "      <td>0.988468</td>\n",
       "      <td>0.997994</td>\n",
       "      <td>0.999020</td>\n",
       "      <td>0.989867</td>\n",
       "      <td>0.987189</td>\n",
       "      <td>1.008616</td>\n",
       "      <td>0.987388</td>\n",
       "      <td>1.013547</td>\n",
       "      <td>1.007888</td>\n",
       "    </tr>\n",
       "    <tr>\n",
       "      <th>2</th>\n",
       "      <td>0.983196</td>\n",
       "      <td>0.979988</td>\n",
       "      <td>1.012634</td>\n",
       "      <td>1.001443</td>\n",
       "      <td>1.004092</td>\n",
       "      <td>1.004929</td>\n",
       "      <td>1.002085</td>\n",
       "      <td>1.007653</td>\n",
       "      <td>1.006086</td>\n",
       "      <td>0.995954</td>\n",
       "      <td>...</td>\n",
       "      <td>1.001386</td>\n",
       "      <td>0.987840</td>\n",
       "      <td>1.003293</td>\n",
       "      <td>0.994599</td>\n",
       "      <td>0.984149</td>\n",
       "      <td>0.991486</td>\n",
       "      <td>1.012616</td>\n",
       "      <td>0.985326</td>\n",
       "      <td>1.020794</td>\n",
       "      <td>1.017991</td>\n",
       "    </tr>\n",
       "    <tr>\n",
       "      <th>3</th>\n",
       "      <td>0.995679</td>\n",
       "      <td>0.980899</td>\n",
       "      <td>1.008322</td>\n",
       "      <td>0.994413</td>\n",
       "      <td>1.012440</td>\n",
       "      <td>0.997947</td>\n",
       "      <td>0.998427</td>\n",
       "      <td>1.001977</td>\n",
       "      <td>1.011969</td>\n",
       "      <td>0.985954</td>\n",
       "      <td>...</td>\n",
       "      <td>1.006970</td>\n",
       "      <td>0.976565</td>\n",
       "      <td>1.001617</td>\n",
       "      <td>0.998975</td>\n",
       "      <td>0.976777</td>\n",
       "      <td>0.997477</td>\n",
       "      <td>1.009582</td>\n",
       "      <td>0.982917</td>\n",
       "      <td>1.019920</td>\n",
       "      <td>1.020911</td>\n",
       "    </tr>\n",
       "    <tr>\n",
       "      <th>4</th>\n",
       "      <td>1.001032</td>\n",
       "      <td>0.994818</td>\n",
       "      <td>1.019381</td>\n",
       "      <td>0.993252</td>\n",
       "      <td>1.005054</td>\n",
       "      <td>0.996860</td>\n",
       "      <td>0.993948</td>\n",
       "      <td>1.003114</td>\n",
       "      <td>1.012965</td>\n",
       "      <td>0.978003</td>\n",
       "      <td>...</td>\n",
       "      <td>1.017250</td>\n",
       "      <td>0.996671</td>\n",
       "      <td>0.992874</td>\n",
       "      <td>1.005565</td>\n",
       "      <td>0.966828</td>\n",
       "      <td>1.009789</td>\n",
       "      <td>1.005744</td>\n",
       "      <td>0.980021</td>\n",
       "      <td>1.021129</td>\n",
       "      <td>1.022265</td>\n",
       "    </tr>\n",
       "    <tr>\n",
       "      <th>...</th>\n",
       "      <td>...</td>\n",
       "      <td>...</td>\n",
       "      <td>...</td>\n",
       "      <td>...</td>\n",
       "      <td>...</td>\n",
       "      <td>...</td>\n",
       "      <td>...</td>\n",
       "      <td>...</td>\n",
       "      <td>...</td>\n",
       "      <td>...</td>\n",
       "      <td>...</td>\n",
       "      <td>...</td>\n",
       "      <td>...</td>\n",
       "      <td>...</td>\n",
       "      <td>...</td>\n",
       "      <td>...</td>\n",
       "      <td>...</td>\n",
       "      <td>...</td>\n",
       "      <td>...</td>\n",
       "      <td>...</td>\n",
       "      <td>...</td>\n",
       "    </tr>\n",
       "    <tr>\n",
       "      <th>7556</th>\n",
       "      <td>47.237854</td>\n",
       "      <td>318.832557</td>\n",
       "      <td>19.257094</td>\n",
       "      <td>54.312786</td>\n",
       "      <td>53.214377</td>\n",
       "      <td>43.691359</td>\n",
       "      <td>60.895813</td>\n",
       "      <td>144.551108</td>\n",
       "      <td>68.878362</td>\n",
       "      <td>19.657275</td>\n",
       "      <td>...</td>\n",
       "      <td>20.712436</td>\n",
       "      <td>54.182693</td>\n",
       "      <td>52.722422</td>\n",
       "      <td>41.737579</td>\n",
       "      <td>26.197537</td>\n",
       "      <td>46.827314</td>\n",
       "      <td>12.586782</td>\n",
       "      <td>110.661567</td>\n",
       "      <td>26.351446</td>\n",
       "      <td>29.404836</td>\n",
       "    </tr>\n",
       "    <tr>\n",
       "      <th>7557</th>\n",
       "      <td>47.000347</td>\n",
       "      <td>320.138568</td>\n",
       "      <td>18.924262</td>\n",
       "      <td>53.087836</td>\n",
       "      <td>53.002881</td>\n",
       "      <td>43.364221</td>\n",
       "      <td>61.042531</td>\n",
       "      <td>145.407151</td>\n",
       "      <td>69.389964</td>\n",
       "      <td>20.051104</td>\n",
       "      <td>...</td>\n",
       "      <td>20.691281</td>\n",
       "      <td>53.955960</td>\n",
       "      <td>52.810918</td>\n",
       "      <td>41.629557</td>\n",
       "      <td>25.869289</td>\n",
       "      <td>47.512252</td>\n",
       "      <td>12.693615</td>\n",
       "      <td>110.499978</td>\n",
       "      <td>26.706995</td>\n",
       "      <td>28.961865</td>\n",
       "    </tr>\n",
       "    <tr>\n",
       "      <th>7558</th>\n",
       "      <td>46.888605</td>\n",
       "      <td>319.450573</td>\n",
       "      <td>18.776907</td>\n",
       "      <td>53.251488</td>\n",
       "      <td>53.288612</td>\n",
       "      <td>43.370543</td>\n",
       "      <td>61.114123</td>\n",
       "      <td>144.634756</td>\n",
       "      <td>69.487669</td>\n",
       "      <td>19.867881</td>\n",
       "      <td>...</td>\n",
       "      <td>20.668090</td>\n",
       "      <td>54.177775</td>\n",
       "      <td>52.024094</td>\n",
       "      <td>41.959311</td>\n",
       "      <td>26.149849</td>\n",
       "      <td>46.919698</td>\n",
       "      <td>12.821864</td>\n",
       "      <td>110.010543</td>\n",
       "      <td>26.610986</td>\n",
       "      <td>29.082675</td>\n",
       "    </tr>\n",
       "    <tr>\n",
       "      <th>7559</th>\n",
       "      <td>46.605824</td>\n",
       "      <td>321.512564</td>\n",
       "      <td>18.641724</td>\n",
       "      <td>54.185675</td>\n",
       "      <td>53.227943</td>\n",
       "      <td>43.778452</td>\n",
       "      <td>61.400004</td>\n",
       "      <td>143.920181</td>\n",
       "      <td>69.872340</td>\n",
       "      <td>19.757736</td>\n",
       "      <td>...</td>\n",
       "      <td>20.830977</td>\n",
       "      <td>54.889424</td>\n",
       "      <td>52.180083</td>\n",
       "      <td>42.426495</td>\n",
       "      <td>26.132513</td>\n",
       "      <td>47.352378</td>\n",
       "      <td>12.517282</td>\n",
       "      <td>110.865499</td>\n",
       "      <td>26.839518</td>\n",
       "      <td>28.970752</td>\n",
       "    </tr>\n",
       "    <tr>\n",
       "      <th>7560</th>\n",
       "      <td>47.186106</td>\n",
       "      <td>322.582500</td>\n",
       "      <td>18.545834</td>\n",
       "      <td>53.223452</td>\n",
       "      <td>53.491565</td>\n",
       "      <td>44.637471</td>\n",
       "      <td>61.428324</td>\n",
       "      <td>146.362575</td>\n",
       "      <td>68.572035</td>\n",
       "      <td>19.853291</td>\n",
       "      <td>...</td>\n",
       "      <td>20.556389</td>\n",
       "      <td>54.811678</td>\n",
       "      <td>51.913713</td>\n",
       "      <td>42.240757</td>\n",
       "      <td>26.027605</td>\n",
       "      <td>47.922517</td>\n",
       "      <td>12.453885</td>\n",
       "      <td>110.770010</td>\n",
       "      <td>26.748833</td>\n",
       "      <td>29.113964</td>\n",
       "    </tr>\n",
       "  </tbody>\n",
       "</table>\n",
       "<p>7561 rows × 500 columns</p>\n",
       "</div>"
      ],
      "text/plain": [
       "            0           1          2          3          4          5    \\\n",
       "0      1.000000    1.000000   1.000000   1.000000   1.000000   1.000000   \n",
       "1      0.982480    0.997914   1.010244   1.009759   1.004838   1.006783   \n",
       "2      0.983196    0.979988   1.012634   1.001443   1.004092   1.004929   \n",
       "3      0.995679    0.980899   1.008322   0.994413   1.012440   0.997947   \n",
       "4      1.001032    0.994818   1.019381   0.993252   1.005054   0.996860   \n",
       "...         ...         ...        ...        ...        ...        ...   \n",
       "7556  47.237854  318.832557  19.257094  54.312786  53.214377  43.691359   \n",
       "7557  47.000347  320.138568  18.924262  53.087836  53.002881  43.364221   \n",
       "7558  46.888605  319.450573  18.776907  53.251488  53.288612  43.370543   \n",
       "7559  46.605824  321.512564  18.641724  54.185675  53.227943  43.778452   \n",
       "7560  47.186106  322.582500  18.545834  53.223452  53.491565  44.637471   \n",
       "\n",
       "            6           7          8          9    ...        490        491  \\\n",
       "0      1.000000    1.000000   1.000000   1.000000  ...   1.000000   1.000000   \n",
       "1      1.015395    1.002152   0.992799   1.001810  ...   1.010642   0.988468   \n",
       "2      1.002085    1.007653   1.006086   0.995954  ...   1.001386   0.987840   \n",
       "3      0.998427    1.001977   1.011969   0.985954  ...   1.006970   0.976565   \n",
       "4      0.993948    1.003114   1.012965   0.978003  ...   1.017250   0.996671   \n",
       "...         ...         ...        ...        ...  ...        ...        ...   \n",
       "7556  60.895813  144.551108  68.878362  19.657275  ...  20.712436  54.182693   \n",
       "7557  61.042531  145.407151  69.389964  20.051104  ...  20.691281  53.955960   \n",
       "7558  61.114123  144.634756  69.487669  19.867881  ...  20.668090  54.177775   \n",
       "7559  61.400004  143.920181  69.872340  19.757736  ...  20.830977  54.889424   \n",
       "7560  61.428324  146.362575  68.572035  19.853291  ...  20.556389  54.811678   \n",
       "\n",
       "            492        493        494        495        496         497  \\\n",
       "0      1.000000   1.000000   1.000000   1.000000   1.000000    1.000000   \n",
       "1      0.997994   0.999020   0.989867   0.987189   1.008616    0.987388   \n",
       "2      1.003293   0.994599   0.984149   0.991486   1.012616    0.985326   \n",
       "3      1.001617   0.998975   0.976777   0.997477   1.009582    0.982917   \n",
       "4      0.992874   1.005565   0.966828   1.009789   1.005744    0.980021   \n",
       "...         ...        ...        ...        ...        ...         ...   \n",
       "7556  52.722422  41.737579  26.197537  46.827314  12.586782  110.661567   \n",
       "7557  52.810918  41.629557  25.869289  47.512252  12.693615  110.499978   \n",
       "7558  52.024094  41.959311  26.149849  46.919698  12.821864  110.010543   \n",
       "7559  52.180083  42.426495  26.132513  47.352378  12.517282  110.865499   \n",
       "7560  51.913713  42.240757  26.027605  47.922517  12.453885  110.770010   \n",
       "\n",
       "            498        499  \n",
       "0      1.000000   1.000000  \n",
       "1      1.013547   1.007888  \n",
       "2      1.020794   1.017991  \n",
       "3      1.019920   1.020911  \n",
       "4      1.021129   1.022265  \n",
       "...         ...        ...  \n",
       "7556  26.351446  29.404836  \n",
       "7557  26.706995  28.961865  \n",
       "7558  26.610986  29.082675  \n",
       "7559  26.839518  28.970752  \n",
       "7560  26.748833  29.113964  \n",
       "\n",
       "[7561 rows x 500 columns]"
      ]
     },
     "execution_count": 31,
     "metadata": {},
     "output_type": "execute_result"
    }
   ],
   "source": [
    "# Run the Monte Carlo simulation to forecast 30 years cumulative returns\n",
    "MC_4060.calc_cumulative_return()\n",
    "\n"
   ]
  },
  {
   "cell_type": "code",
   "execution_count": 32,
   "metadata": {},
   "outputs": [
    {
     "data": {
      "image/png": "[encoded data removed]",
      "text/plain": [
       "<Figure size 432x288 with 1 Axes>"
      ]
     },
     "metadata": {
      "needs_background": "light"
     },
     "output_type": "display_data"
    }
   ],
   "source": [
    "# Visualize the 30-year Monte Carlo simulation by creating an\n",
    "# overlay line plot\n",
    "weight_4060_plot = MC_4060.plot_simulation()\n"
   ]
  },
  {
   "cell_type": "markdown",
   "metadata": {},
   "source": [
    "#### Step 3: Plot the probability distribution of the Monte Carlo simulation."
   ]
  },
  {
   "cell_type": "code",
   "execution_count": 33,
   "metadata": {},
   "outputs": [
    {
     "data": {
      "image/png": "[encoded data removed]",
      "text/plain": [
       "<Figure size 432x288 with 1 Axes>"
      ]
     },
     "metadata": {
      "needs_background": "light"
     },
     "output_type": "display_data"
    }
   ],
   "source": [
    "# Visualize the probability distribution of the 30-year Monte Carlo simulation \n",
    "# by plotting a histogram\n",
    "distribution_4060_plot = MC_4060.plot_distribution()\n"
   ]
  },
  {
   "cell_type": "markdown",
   "metadata": {},
   "source": [
    "#### Step 4: Generate the summary statistics for the Monte Carlo simulation."
   ]
  },
  {
   "cell_type": "code",
   "execution_count": 34,
   "metadata": {},
   "outputs": [
    {
     "name": "stdout",
     "output_type": "stream",
     "text": [
      "count           500.000000\n",
      "mean             40.658368\n",
      "std              40.168899\n",
      "min               3.833276\n",
      "25%              16.877969\n",
      "50%              28.223778\n",
      "75%              51.942980\n",
      "max             374.742319\n",
      "95% CI Lower      6.899061\n",
      "95% CI Upper    142.024015\n",
      "Name: 7560, dtype: float64\n"
     ]
    }
   ],
   "source": [
    "# Generate summary statistics from the 30-year Monte Carlo simulation results\n",
    "# Save the results as a variable\n",
    "weight_4060_table = MC_4060.summarize_cumulative_return()\n",
    "\n",
    "\n",
    "# Review the 30-year Monte Carlo summary statistics\n",
    "print(weight_4060_table)"
   ]
  },
  {
   "cell_type": "markdown",
   "metadata": {},
   "source": [
    "### Analyze the Retirement Portfolio Forecasts\n",
    "\n",
    "Using the current value of only the stock and bond portion of the member's portfolio and the summary statistics that you generated from the Monte Carlo simulation, answer the following question in your Jupyter notebook:\n",
    "\n",
    "-  What are the lower and upper bounds for the expected value of the portfolio with a 95% confidence interval?\n"
   ]
  },
  {
   "cell_type": "code",
   "execution_count": 35,
   "metadata": {},
   "outputs": [
    {
     "name": "stdout",
     "output_type": "stream",
     "text": [
      "The current value of your bond portfolio holding is $22824.00\n",
      "The current value of your equity portfolio holding is $48160.20\n",
      "The current value of your total portfolio holding is $70984.20\n",
      "______________________________________\n"
     ]
    }
   ],
   "source": [
    "# Print the current balance of the stock and bond portion of the members portfolio\n",
    "print(f\"The current value of your bond portfolio holding is ${agg_value:.2f}\")\n",
    "print(f\"The current value of your equity portfolio holding is ${spy_value:.2f}\")\n",
    "print(f\"The current value of your total portfolio holding is ${total_stocks_bonds:.2f}\")\n",
    "\n",
    "print(\"______________________________________\")\n"
   ]
  },
  {
   "cell_type": "code",
   "execution_count": 36,
   "metadata": {},
   "outputs": [
    {
     "name": "stdout",
     "output_type": "stream",
     "text": [
      "There is a 95% chance that the current value of $70984.20 in the portfolio with a 40% / 60% mix in the bond and equity funds over the next 30 years will end within in the range of $489724.34 and $10081461.11.\n"
     ]
    }
   ],
   "source": [
    "# Use the lower and upper `95%` confidence intervals to calculate the range of the possible outcomes for the current stock/bond portfolio\n",
    "ci_lower_thirty_cumulative_return = round(weight_4060_table[8]*total_stocks_bonds,2)\n",
    "ci_upper_thirty_cumulative_return = round(weight_4060_table[9]*total_stocks_bonds,2)\n",
    "\n",
    "# Print the result of your calculations\n",
    "print(f\"There is a 95% chance that the current value of ${total_stocks_bonds:.2f} in the portfolio with a \"\n",
    "      f\"40% / 60% mix in the bond and equity funds over the next 30 years will end within in the range of\"\n",
    "      f\" ${ci_lower_thirty_cumulative_return} and ${ci_upper_thirty_cumulative_return}.\")\n"
   ]
  },
  {
   "cell_type": "markdown",
   "metadata": {},
   "source": [
    "### Forecast Cumulative Returns in 10 Years\n",
    "\n",
    "The CTO of the credit union is impressed with your work on these planning tools but wonders if 30 years is a long time to wait until retirement. So, your next task is to adjust the retirement portfolio and run a new Monte Carlo simulation to find out if the changes will allow members to retire earlier.\n",
    "\n",
    "For this new Monte Carlo simulation, do the following: \n",
    "\n",
    "- Forecast the cumulative returns for 10 years from now. Because of the shortened investment horizon (30 years to 10 years), the portfolio needs to invest more heavily in the riskier asset&mdash;that is, stock&mdash;to help accumulate wealth for retirement. \n",
    "\n",
    "- Adjust the weights of the retirement portfolio so that the composition for the Monte Carlo simulation consists of 20% bonds and 80% stocks. \n",
    "\n",
    "- Run the simulation over 500 samples, and use the same data that the API call to Alpaca generated.\n",
    "\n",
    "- Based on the new Monte Carlo simulation, answer the following questions in your Jupyter notebook:\n",
    "\n",
    "    - Using the current value of only the stock and bond portion of the member's portfolio and the summary statistics that you generated from the new Monte Carlo simulation, what are the lower and upper bounds for the expected value of the portfolio (with the new weights) with a 95% confidence interval?\n",
    "\n",
    "    - Will weighting the portfolio more heavily toward stocks allow the credit union members to retire after only 10 years?\n"
   ]
  },
  {
   "cell_type": "code",
   "execution_count": 37,
   "metadata": {},
   "outputs": [
    {
     "data": {
      "text/html": [
       "<div>\n",
       "<style scoped>\n",
       "    .dataframe tbody tr th:only-of-type {\n",
       "        vertical-align: middle;\n",
       "    }\n",
       "\n",
       "    .dataframe tbody tr th {\n",
       "        vertical-align: top;\n",
       "    }\n",
       "\n",
       "    .dataframe thead tr th {\n",
       "        text-align: left;\n",
       "    }\n",
       "\n",
       "    .dataframe thead tr:last-of-type th {\n",
       "        text-align: right;\n",
       "    }\n",
       "</style>\n",
       "<table border=\"1\" class=\"dataframe\">\n",
       "  <thead>\n",
       "    <tr>\n",
       "      <th></th>\n",
       "      <th colspan=\"6\" halign=\"left\">AGG</th>\n",
       "      <th colspan=\"6\" halign=\"left\">SPY</th>\n",
       "    </tr>\n",
       "    <tr>\n",
       "      <th></th>\n",
       "      <th>open</th>\n",
       "      <th>high</th>\n",
       "      <th>low</th>\n",
       "      <th>close</th>\n",
       "      <th>volume</th>\n",
       "      <th>daily_return</th>\n",
       "      <th>open</th>\n",
       "      <th>high</th>\n",
       "      <th>low</th>\n",
       "      <th>close</th>\n",
       "      <th>volume</th>\n",
       "      <th>daily_return</th>\n",
       "    </tr>\n",
       "    <tr>\n",
       "      <th>time</th>\n",
       "      <th></th>\n",
       "      <th></th>\n",
       "      <th></th>\n",
       "      <th></th>\n",
       "      <th></th>\n",
       "      <th></th>\n",
       "      <th></th>\n",
       "      <th></th>\n",
       "      <th></th>\n",
       "      <th></th>\n",
       "      <th></th>\n",
       "      <th></th>\n",
       "    </tr>\n",
       "  </thead>\n",
       "  <tbody>\n",
       "    <tr>\n",
       "      <th>2018-10-18 00:00:00-04:00</th>\n",
       "      <td>104.39</td>\n",
       "      <td>104.6195</td>\n",
       "      <td>104.375</td>\n",
       "      <td>104.460</td>\n",
       "      <td>2687836.0</td>\n",
       "      <td>NaN</td>\n",
       "      <td>279.40</td>\n",
       "      <td>280.07</td>\n",
       "      <td>274.97</td>\n",
       "      <td>276.47</td>\n",
       "      <td>106592503</td>\n",
       "      <td>NaN</td>\n",
       "    </tr>\n",
       "    <tr>\n",
       "      <th>2018-10-19 00:00:00-04:00</th>\n",
       "      <td>104.47</td>\n",
       "      <td>104.5500</td>\n",
       "      <td>104.340</td>\n",
       "      <td>104.370</td>\n",
       "      <td>2912850.0</td>\n",
       "      <td>-0.000862</td>\n",
       "      <td>277.12</td>\n",
       "      <td>279.30</td>\n",
       "      <td>275.47</td>\n",
       "      <td>276.19</td>\n",
       "      <td>86816021</td>\n",
       "      <td>-0.001013</td>\n",
       "    </tr>\n",
       "    <tr>\n",
       "      <th>2018-10-22 00:00:00-04:00</th>\n",
       "      <td>104.47</td>\n",
       "      <td>104.5200</td>\n",
       "      <td>104.340</td>\n",
       "      <td>104.350</td>\n",
       "      <td>2634319.0</td>\n",
       "      <td>-0.000192</td>\n",
       "      <td>277.00</td>\n",
       "      <td>277.36</td>\n",
       "      <td>274.41</td>\n",
       "      <td>275.06</td>\n",
       "      <td>64990700</td>\n",
       "      <td>-0.004091</td>\n",
       "    </tr>\n",
       "    <tr>\n",
       "      <th>2018-10-23 00:00:00-04:00</th>\n",
       "      <td>104.67</td>\n",
       "      <td>104.7400</td>\n",
       "      <td>104.475</td>\n",
       "      <td>104.485</td>\n",
       "      <td>3281760.0</td>\n",
       "      <td>0.001294</td>\n",
       "      <td>270.94</td>\n",
       "      <td>274.87</td>\n",
       "      <td>268.61</td>\n",
       "      <td>273.54</td>\n",
       "      <td>113790534</td>\n",
       "      <td>-0.005526</td>\n",
       "    </tr>\n",
       "    <tr>\n",
       "      <th>2018-10-24 00:00:00-04:00</th>\n",
       "      <td>104.69</td>\n",
       "      <td>104.8100</td>\n",
       "      <td>104.670</td>\n",
       "      <td>104.760</td>\n",
       "      <td>4029453.0</td>\n",
       "      <td>0.002632</td>\n",
       "      <td>273.33</td>\n",
       "      <td>273.76</td>\n",
       "      <td>264.70</td>\n",
       "      <td>265.22</td>\n",
       "      <td>130172487</td>\n",
       "      <td>-0.030416</td>\n",
       "    </tr>\n",
       "  </tbody>\n",
       "</table>\n",
       "</div>"
      ],
      "text/plain": [
       "                              AGG                                         \\\n",
       "                             open      high      low    close     volume   \n",
       "time                                                                       \n",
       "2018-10-18 00:00:00-04:00  104.39  104.6195  104.375  104.460  2687836.0   \n",
       "2018-10-19 00:00:00-04:00  104.47  104.5500  104.340  104.370  2912850.0   \n",
       "2018-10-22 00:00:00-04:00  104.47  104.5200  104.340  104.350  2634319.0   \n",
       "2018-10-23 00:00:00-04:00  104.67  104.7400  104.475  104.485  3281760.0   \n",
       "2018-10-24 00:00:00-04:00  104.69  104.8100  104.670  104.760  4029453.0   \n",
       "\n",
       "                                           SPY                          \\\n",
       "                          daily_return    open    high     low   close   \n",
       "time                                                                     \n",
       "2018-10-18 00:00:00-04:00          NaN  279.40  280.07  274.97  276.47   \n",
       "2018-10-19 00:00:00-04:00    -0.000862  277.12  279.30  275.47  276.19   \n",
       "2018-10-22 00:00:00-04:00    -0.000192  277.00  277.36  274.41  275.06   \n",
       "2018-10-23 00:00:00-04:00     0.001294  270.94  274.87  268.61  273.54   \n",
       "2018-10-24 00:00:00-04:00     0.002632  273.33  273.76  264.70  265.22   \n",
       "\n",
       "                                                   \n",
       "                              volume daily_return  \n",
       "time                                               \n",
       "2018-10-18 00:00:00-04:00  106592503          NaN  \n",
       "2018-10-19 00:00:00-04:00   86816021    -0.001013  \n",
       "2018-10-22 00:00:00-04:00   64990700    -0.004091  \n",
       "2018-10-23 00:00:00-04:00  113790534    -0.005526  \n",
       "2018-10-24 00:00:00-04:00  130172487    -0.030416  "
      ]
     },
     "execution_count": 37,
     "metadata": {},
     "output_type": "execute_result"
    }
   ],
   "source": [
    "# Configure a Monte Carlo simulation to forecast 10 years cumulative returns\n",
    "# The weights should be split 20% to AGG and 80% to SPY.\n",
    "# Run 500 samples.\n",
    "MC_2080 = MCSimulation(\n",
    "    portfolio_data = prices_df,\n",
    "    weights = [.2,.8,],\n",
    "    num_simulation = 500,\n",
    "    num_trading_days = 252*10\n",
    ")\n",
    "\n",
    "# Review the simulation input data\n",
    "MC_2080.portfolio_data.head()\n"
   ]
  },
  {
   "cell_type": "code",
   "execution_count": 38,
   "metadata": {},
   "outputs": [
    {
     "name": "stdout",
     "output_type": "stream",
     "text": [
      "Running Monte Carlo simulation number 0.\n",
      "Running Monte Carlo simulation number 50.\n",
      "Running Monte Carlo simulation number 100.\n",
      "Running Monte Carlo simulation number 150.\n",
      "Running Monte Carlo simulation number 200.\n",
      "Running Monte Carlo simulation number 250.\n",
      "Running Monte Carlo simulation number 300.\n",
      "Running Monte Carlo simulation number 350.\n",
      "Running Monte Carlo simulation number 400.\n",
      "Running Monte Carlo simulation number 450.\n"
     ]
    },
    {
     "data": {
      "text/html": [
       "<div>\n",
       "<style scoped>\n",
       "    .dataframe tbody tr th:only-of-type {\n",
       "        vertical-align: middle;\n",
       "    }\n",
       "\n",
       "    .dataframe tbody tr th {\n",
       "        vertical-align: top;\n",
       "    }\n",
       "\n",
       "    .dataframe thead th {\n",
       "        text-align: right;\n",
       "    }\n",
       "</style>\n",
       "<table border=\"1\" class=\"dataframe\">\n",
       "  <thead>\n",
       "    <tr style=\"text-align: right;\">\n",
       "      <th></th>\n",
       "      <th>0</th>\n",
       "      <th>1</th>\n",
       "      <th>2</th>\n",
       "      <th>3</th>\n",
       "      <th>4</th>\n",
       "      <th>5</th>\n",
       "      <th>6</th>\n",
       "      <th>7</th>\n",
       "      <th>8</th>\n",
       "      <th>9</th>\n",
       "      <th>...</th>\n",
       "      <th>490</th>\n",
       "      <th>491</th>\n",
       "      <th>492</th>\n",
       "      <th>493</th>\n",
       "      <th>494</th>\n",
       "      <th>495</th>\n",
       "      <th>496</th>\n",
       "      <th>497</th>\n",
       "      <th>498</th>\n",
       "      <th>499</th>\n",
       "    </tr>\n",
       "  </thead>\n",
       "  <tbody>\n",
       "    <tr>\n",
       "      <th>0</th>\n",
       "      <td>1.000000</td>\n",
       "      <td>1.000000</td>\n",
       "      <td>1.000000</td>\n",
       "      <td>1.000000</td>\n",
       "      <td>1.000000</td>\n",
       "      <td>1.000000</td>\n",
       "      <td>1.000000</td>\n",
       "      <td>1.000000</td>\n",
       "      <td>1.000000</td>\n",
       "      <td>1.000000</td>\n",
       "      <td>...</td>\n",
       "      <td>1.000000</td>\n",
       "      <td>1.000000</td>\n",
       "      <td>1.000000</td>\n",
       "      <td>1.000000</td>\n",
       "      <td>1.000000</td>\n",
       "      <td>1.000000</td>\n",
       "      <td>1.000000</td>\n",
       "      <td>1.000000</td>\n",
       "      <td>1.000000</td>\n",
       "      <td>1.000000</td>\n",
       "    </tr>\n",
       "    <tr>\n",
       "      <th>1</th>\n",
       "      <td>0.986143</td>\n",
       "      <td>1.003766</td>\n",
       "      <td>0.987952</td>\n",
       "      <td>1.023919</td>\n",
       "      <td>1.006402</td>\n",
       "      <td>1.007680</td>\n",
       "      <td>0.998668</td>\n",
       "      <td>0.999555</td>\n",
       "      <td>0.990553</td>\n",
       "      <td>1.015072</td>\n",
       "      <td>...</td>\n",
       "      <td>0.984918</td>\n",
       "      <td>1.001615</td>\n",
       "      <td>1.012073</td>\n",
       "      <td>0.998491</td>\n",
       "      <td>0.994427</td>\n",
       "      <td>0.986805</td>\n",
       "      <td>1.006407</td>\n",
       "      <td>0.992451</td>\n",
       "      <td>1.023666</td>\n",
       "      <td>0.975874</td>\n",
       "    </tr>\n",
       "    <tr>\n",
       "      <th>2</th>\n",
       "      <td>0.995545</td>\n",
       "      <td>1.013793</td>\n",
       "      <td>0.977430</td>\n",
       "      <td>1.029034</td>\n",
       "      <td>1.023138</td>\n",
       "      <td>0.999956</td>\n",
       "      <td>1.000392</td>\n",
       "      <td>0.988044</td>\n",
       "      <td>0.985217</td>\n",
       "      <td>1.000519</td>\n",
       "      <td>...</td>\n",
       "      <td>0.974811</td>\n",
       "      <td>1.002850</td>\n",
       "      <td>1.009509</td>\n",
       "      <td>0.989408</td>\n",
       "      <td>0.998791</td>\n",
       "      <td>0.995564</td>\n",
       "      <td>1.018180</td>\n",
       "      <td>0.998241</td>\n",
       "      <td>1.025327</td>\n",
       "      <td>0.967700</td>\n",
       "    </tr>\n",
       "    <tr>\n",
       "      <th>3</th>\n",
       "      <td>0.994753</td>\n",
       "      <td>1.006687</td>\n",
       "      <td>0.970873</td>\n",
       "      <td>1.060466</td>\n",
       "      <td>1.029273</td>\n",
       "      <td>0.987318</td>\n",
       "      <td>1.014862</td>\n",
       "      <td>0.992810</td>\n",
       "      <td>0.990013</td>\n",
       "      <td>0.981854</td>\n",
       "      <td>...</td>\n",
       "      <td>0.995455</td>\n",
       "      <td>1.009190</td>\n",
       "      <td>1.013259</td>\n",
       "      <td>0.983283</td>\n",
       "      <td>0.984892</td>\n",
       "      <td>1.010519</td>\n",
       "      <td>1.006336</td>\n",
       "      <td>0.995423</td>\n",
       "      <td>1.025743</td>\n",
       "      <td>0.955911</td>\n",
       "    </tr>\n",
       "    <tr>\n",
       "      <th>4</th>\n",
       "      <td>0.992518</td>\n",
       "      <td>0.969623</td>\n",
       "      <td>0.965824</td>\n",
       "      <td>1.103481</td>\n",
       "      <td>1.027672</td>\n",
       "      <td>1.003230</td>\n",
       "      <td>1.008536</td>\n",
       "      <td>1.010627</td>\n",
       "      <td>0.981429</td>\n",
       "      <td>0.982195</td>\n",
       "      <td>...</td>\n",
       "      <td>1.010207</td>\n",
       "      <td>0.999720</td>\n",
       "      <td>1.021810</td>\n",
       "      <td>0.978182</td>\n",
       "      <td>0.985749</td>\n",
       "      <td>1.005939</td>\n",
       "      <td>0.992501</td>\n",
       "      <td>1.000163</td>\n",
       "      <td>1.025987</td>\n",
       "      <td>0.959992</td>\n",
       "    </tr>\n",
       "    <tr>\n",
       "      <th>...</th>\n",
       "      <td>...</td>\n",
       "      <td>...</td>\n",
       "      <td>...</td>\n",
       "      <td>...</td>\n",
       "      <td>...</td>\n",
       "      <td>...</td>\n",
       "      <td>...</td>\n",
       "      <td>...</td>\n",
       "      <td>...</td>\n",
       "      <td>...</td>\n",
       "      <td>...</td>\n",
       "      <td>...</td>\n",
       "      <td>...</td>\n",
       "      <td>...</td>\n",
       "      <td>...</td>\n",
       "      <td>...</td>\n",
       "      <td>...</td>\n",
       "      <td>...</td>\n",
       "      <td>...</td>\n",
       "      <td>...</td>\n",
       "      <td>...</td>\n",
       "    </tr>\n",
       "    <tr>\n",
       "      <th>2516</th>\n",
       "      <td>7.780371</td>\n",
       "      <td>1.938082</td>\n",
       "      <td>2.410286</td>\n",
       "      <td>2.456449</td>\n",
       "      <td>2.292772</td>\n",
       "      <td>3.917759</td>\n",
       "      <td>3.494351</td>\n",
       "      <td>5.407778</td>\n",
       "      <td>4.430127</td>\n",
       "      <td>7.535283</td>\n",
       "      <td>...</td>\n",
       "      <td>9.065914</td>\n",
       "      <td>6.748172</td>\n",
       "      <td>5.278031</td>\n",
       "      <td>3.422989</td>\n",
       "      <td>4.237058</td>\n",
       "      <td>5.011203</td>\n",
       "      <td>5.710296</td>\n",
       "      <td>1.749484</td>\n",
       "      <td>7.972162</td>\n",
       "      <td>2.807263</td>\n",
       "    </tr>\n",
       "    <tr>\n",
       "      <th>2517</th>\n",
       "      <td>7.764183</td>\n",
       "      <td>1.905154</td>\n",
       "      <td>2.405831</td>\n",
       "      <td>2.484841</td>\n",
       "      <td>2.315582</td>\n",
       "      <td>3.899338</td>\n",
       "      <td>3.485541</td>\n",
       "      <td>5.398302</td>\n",
       "      <td>4.443742</td>\n",
       "      <td>7.488189</td>\n",
       "      <td>...</td>\n",
       "      <td>9.083845</td>\n",
       "      <td>6.777476</td>\n",
       "      <td>5.398279</td>\n",
       "      <td>3.493127</td>\n",
       "      <td>4.219458</td>\n",
       "      <td>5.004920</td>\n",
       "      <td>5.780946</td>\n",
       "      <td>1.714451</td>\n",
       "      <td>8.011417</td>\n",
       "      <td>2.832001</td>\n",
       "    </tr>\n",
       "    <tr>\n",
       "      <th>2518</th>\n",
       "      <td>7.737264</td>\n",
       "      <td>1.925005</td>\n",
       "      <td>2.375254</td>\n",
       "      <td>2.443075</td>\n",
       "      <td>2.317790</td>\n",
       "      <td>3.878114</td>\n",
       "      <td>3.505295</td>\n",
       "      <td>5.415305</td>\n",
       "      <td>4.445975</td>\n",
       "      <td>7.367865</td>\n",
       "      <td>...</td>\n",
       "      <td>9.014747</td>\n",
       "      <td>6.749226</td>\n",
       "      <td>5.499243</td>\n",
       "      <td>3.555606</td>\n",
       "      <td>4.192961</td>\n",
       "      <td>5.009162</td>\n",
       "      <td>5.773972</td>\n",
       "      <td>1.717581</td>\n",
       "      <td>7.907805</td>\n",
       "      <td>2.791573</td>\n",
       "    </tr>\n",
       "    <tr>\n",
       "      <th>2519</th>\n",
       "      <td>7.646979</td>\n",
       "      <td>1.926024</td>\n",
       "      <td>2.330282</td>\n",
       "      <td>2.461522</td>\n",
       "      <td>2.330639</td>\n",
       "      <td>3.826049</td>\n",
       "      <td>3.524935</td>\n",
       "      <td>5.461274</td>\n",
       "      <td>4.482695</td>\n",
       "      <td>7.254014</td>\n",
       "      <td>...</td>\n",
       "      <td>9.081679</td>\n",
       "      <td>6.726155</td>\n",
       "      <td>5.422398</td>\n",
       "      <td>3.582499</td>\n",
       "      <td>4.181519</td>\n",
       "      <td>5.054308</td>\n",
       "      <td>5.806538</td>\n",
       "      <td>1.707211</td>\n",
       "      <td>7.865727</td>\n",
       "      <td>2.815818</td>\n",
       "    </tr>\n",
       "    <tr>\n",
       "      <th>2520</th>\n",
       "      <td>7.729354</td>\n",
       "      <td>1.947796</td>\n",
       "      <td>2.324941</td>\n",
       "      <td>2.442516</td>\n",
       "      <td>2.305324</td>\n",
       "      <td>3.868442</td>\n",
       "      <td>3.490922</td>\n",
       "      <td>5.393668</td>\n",
       "      <td>4.457194</td>\n",
       "      <td>7.224550</td>\n",
       "      <td>...</td>\n",
       "      <td>9.065542</td>\n",
       "      <td>6.656898</td>\n",
       "      <td>5.454289</td>\n",
       "      <td>3.679553</td>\n",
       "      <td>4.120184</td>\n",
       "      <td>5.088640</td>\n",
       "      <td>5.760382</td>\n",
       "      <td>1.683491</td>\n",
       "      <td>8.010054</td>\n",
       "      <td>2.789384</td>\n",
       "    </tr>\n",
       "  </tbody>\n",
       "</table>\n",
       "<p>2521 rows × 500 columns</p>\n",
       "</div>"
      ],
      "text/plain": [
       "           0         1         2         3         4         5         6    \\\n",
       "0     1.000000  1.000000  1.000000  1.000000  1.000000  1.000000  1.000000   \n",
       "1     0.986143  1.003766  0.987952  1.023919  1.006402  1.007680  0.998668   \n",
       "2     0.995545  1.013793  0.977430  1.029034  1.023138  0.999956  1.000392   \n",
       "3     0.994753  1.006687  0.970873  1.060466  1.029273  0.987318  1.014862   \n",
       "4     0.992518  0.969623  0.965824  1.103481  1.027672  1.003230  1.008536   \n",
       "...        ...       ...       ...       ...       ...       ...       ...   \n",
       "2516  7.780371  1.938082  2.410286  2.456449  2.292772  3.917759  3.494351   \n",
       "2517  7.764183  1.905154  2.405831  2.484841  2.315582  3.899338  3.485541   \n",
       "2518  7.737264  1.925005  2.375254  2.443075  2.317790  3.878114  3.505295   \n",
       "2519  7.646979  1.926024  2.330282  2.461522  2.330639  3.826049  3.524935   \n",
       "2520  7.729354  1.947796  2.324941  2.442516  2.305324  3.868442  3.490922   \n",
       "\n",
       "           7         8         9    ...       490       491       492  \\\n",
       "0     1.000000  1.000000  1.000000  ...  1.000000  1.000000  1.000000   \n",
       "1     0.999555  0.990553  1.015072  ...  0.984918  1.001615  1.012073   \n",
       "2     0.988044  0.985217  1.000519  ...  0.974811  1.002850  1.009509   \n",
       "3     0.992810  0.990013  0.981854  ...  0.995455  1.009190  1.013259   \n",
       "4     1.010627  0.981429  0.982195  ...  1.010207  0.999720  1.021810   \n",
       "...        ...       ...       ...  ...       ...       ...       ...   \n",
       "2516  5.407778  4.430127  7.535283  ...  9.065914  6.748172  5.278031   \n",
       "2517  5.398302  4.443742  7.488189  ...  9.083845  6.777476  5.398279   \n",
       "2518  5.415305  4.445975  7.367865  ...  9.014747  6.749226  5.499243   \n",
       "2519  5.461274  4.482695  7.254014  ...  9.081679  6.726155  5.422398   \n",
       "2520  5.393668  4.457194  7.224550  ...  9.065542  6.656898  5.454289   \n",
       "\n",
       "           493       494       495       496       497       498       499  \n",
       "0     1.000000  1.000000  1.000000  1.000000  1.000000  1.000000  1.000000  \n",
       "1     0.998491  0.994427  0.986805  1.006407  0.992451  1.023666  0.975874  \n",
       "2     0.989408  0.998791  0.995564  1.018180  0.998241  1.025327  0.967700  \n",
       "3     0.983283  0.984892  1.010519  1.006336  0.995423  1.025743  0.955911  \n",
       "4     0.978182  0.985749  1.005939  0.992501  1.000163  1.025987  0.959992  \n",
       "...        ...       ...       ...       ...       ...       ...       ...  \n",
       "2516  3.422989  4.237058  5.011203  5.710296  1.749484  7.972162  2.807263  \n",
       "2517  3.493127  4.219458  5.004920  5.780946  1.714451  8.011417  2.832001  \n",
       "2518  3.555606  4.192961  5.009162  5.773972  1.717581  7.907805  2.791573  \n",
       "2519  3.582499  4.181519  5.054308  5.806538  1.707211  7.865727  2.815818  \n",
       "2520  3.679553  4.120184  5.088640  5.760382  1.683491  8.010054  2.789384  \n",
       "\n",
       "[2521 rows x 500 columns]"
      ]
     },
     "execution_count": 38,
     "metadata": {},
     "output_type": "execute_result"
    }
   ],
   "source": [
    "# Run the Monte Carlo simulation to forecast 10 years cumulative returns\n",
    "MC_2080.calc_cumulative_return()\n"
   ]
  },
  {
   "cell_type": "code",
   "execution_count": 39,
   "metadata": {},
   "outputs": [
    {
     "data": {
      "image/png": "[encoded data removed]",
      "text/plain": [
       "<Figure size 432x288 with 1 Axes>"
      ]
     },
     "metadata": {
      "needs_background": "light"
     },
     "output_type": "display_data"
    }
   ],
   "source": [
    "# Visualize the 10-year Monte Carlo simulation by creating an\n",
    "# overlay line plot\n",
    "weight_2080_plot = MC_2080.plot_simulation()\n"
   ]
  },
  {
   "cell_type": "code",
   "execution_count": 40,
   "metadata": {},
   "outputs": [
    {
     "data": {
      "image/png": "[encoded data removed]",
      "text/plain": [
       "<Figure size 432x288 with 1 Axes>"
      ]
     },
     "metadata": {
      "needs_background": "light"
     },
     "output_type": "display_data"
    }
   ],
   "source": [
    "# Visualize the probability distribution of the 10-year Monte Carlo simulation \n",
    "# by plotting a histogram\n",
    "distribution_2080_plot = MC_2080.plot_distribution()\n"
   ]
  },
  {
   "cell_type": "code",
   "execution_count": 41,
   "metadata": {},
   "outputs": [
    {
     "name": "stdout",
     "output_type": "stream",
     "text": [
      "count           500.000000\n",
      "mean              4.476430\n",
      "std               2.691528\n",
      "min               0.676469\n",
      "25%               2.693419\n",
      "50%               3.853312\n",
      "75%               5.483076\n",
      "max              26.294244\n",
      "95% CI Lower      1.302565\n",
      "95% CI Upper     11.592502\n",
      "Name: 2520, dtype: float64\n"
     ]
    }
   ],
   "source": [
    "# Generate summary statistics from the 10-year Monte Carlo simulation results\n",
    "# Save the results as a variable\n",
    "weight_2080_table = MC_2080.summarize_cumulative_return()\n",
    "\n",
    "\n",
    "# Review the 10-year Monte Carlo summary statistics\n",
    "print(weight_2080_table)"
   ]
  },
  {
   "cell_type": "markdown",
   "metadata": {},
   "source": [
    "### Answer the following questions:"
   ]
  },
  {
   "cell_type": "markdown",
   "metadata": {},
   "source": [
    "#### Question: Using the current value of only the stock and bond portion of the member's portfolio and the summary statistics that you generated from the new Monte Carlo simulation, what are the lower and upper bounds for the expected value of the portfolio (with the new weights) with a 95% confidence interval?"
   ]
  },
  {
   "cell_type": "code",
   "execution_count": 42,
   "metadata": {},
   "outputs": [
    {
     "name": "stdout",
     "output_type": "stream",
     "text": [
      "The current value of your bond portfolio holding is $22824.00\n",
      "The current value of your equity portfolio holding is $48160.20\n",
      "The current value of your total portfolio holding is $70984.20\n",
      "______________________________________\n"
     ]
    }
   ],
   "source": [
    "# Print the current balance of the stock and bond portion of the members portfolio\n",
    "print(f\"The current value of your bond portfolio holding is ${agg_value:.2f}\")\n",
    "print(f\"The current value of your equity portfolio holding is ${spy_value:.2f}\")\n",
    "print(f\"The current value of your total portfolio holding is ${total_stocks_bonds:.2f}\")\n",
    "\n",
    "print(\"______________________________________\")\n"
   ]
  },
  {
   "cell_type": "code",
   "execution_count": 43,
   "metadata": {},
   "outputs": [
    {
     "name": "stdout",
     "output_type": "stream",
     "text": [
      "There is a 95% chance that the current value of $70984.20 in the portfolio with a 20% / 80% mix in the bond and equity funds over the next 10 years will end within in the range of $92461.54 and $822884.46.\n"
     ]
    }
   ],
   "source": [
    "# Use the lower and upper `95%` confidence intervals to calculate the range of the possible outcomes for the current stock/bond portfolio\n",
    "ci_lower_ten_cumulative_return = round(weight_2080_table[8]*total_stocks_bonds,2)\n",
    "ci_upper_ten_cumulative_return = round(weight_2080_table[9]*total_stocks_bonds,2)\n",
    "\n",
    "# Print the result of your calculations\n",
    "print(f\"There is a 95% chance that the current value of ${total_stocks_bonds:.2f} in the portfolio with a \"\n",
    "      f\"20% / 80% mix in the bond and equity funds over the next 10 years will end within in the range of\"\n",
    "      f\" ${ci_lower_ten_cumulative_return} and ${ci_upper_ten_cumulative_return}.\")\n"
   ]
  },
  {
   "cell_type": "markdown",
   "metadata": {},
   "source": [
    "#### Question: Will weighting the portfolio more heavily to stocks allow the credit union members to retire after only 10 years?"
   ]
  },
  {
   "cell_type": "raw",
   "metadata": {},
   "source": [
    "**Answer** #While I'm not sure what is the standard or goal for the member's retirement, there is no question that the 30 yr wait is much better #for the long term potential growth of the portfolio. Even placing a 5%/95% equity heavy allocation for the 10 yr simulation results in a high end #that doesn't come close to the 40/60 allocation for 30 years.  For the 30yr simulation, the member is guaranteed at the very least a 6 times #increase of their value as a worst case scenario with 95% certainty. The high end is 140ish times the current value with 95% certainty.\n",
    "\n",
    "#For the 10yr simulation the member is only going to experience a 30% increase on the low end with a 95% certainty and a high of about 11-12 times #their total value with 95% certainty. There is no question about it. The longer you can wait the better. Moral of the story is start investing #early!"
   ]
  },
  {
   "cell_type": "code",
   "execution_count": null,
   "metadata": {},
   "outputs": [],
   "source": []
  }
 ],
 "metadata": {
  "kernelspec": {
   "display_name": "Python 3",
   "language": "python",
   "name": "python3"
  },
  "language_info": {
   "codemirror_mode": {
    "name": "ipython",
    "version": 3
   },
   "file_extension": ".py",
   "mimetype": "text/x-python",
   "name": "python",
   "nbconvert_exporter": "python",
   "pygments_lexer": "ipython3",
   "version": "3.7.10"
  }
 },
 "nbformat": 4,
 "nbformat_minor": 4
}
